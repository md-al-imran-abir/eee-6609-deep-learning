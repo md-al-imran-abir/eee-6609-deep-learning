{
 "cells": [
  {
   "cell_type": "code",
   "execution_count": 1,
   "id": "92c4eca2",
   "metadata": {
    "_cell_guid": "b1076dfc-b9ad-4769-8c92-a6c4dae69d19",
    "_uuid": "8f2839f25d086af736a60e9eeb907d3b93b6e0e5",
    "execution": {
     "iopub.execute_input": "2022-04-15T10:36:30.242219Z",
     "iopub.status.busy": "2022-04-15T10:36:30.241436Z",
     "iopub.status.idle": "2022-04-15T10:36:32.849877Z",
     "shell.execute_reply": "2022-04-15T10:36:32.850427Z",
     "shell.execute_reply.started": "2022-04-15T10:30:06.663556Z"
    },
    "papermill": {
     "duration": 2.675693,
     "end_time": "2022-04-15T10:36:32.850755",
     "exception": false,
     "start_time": "2022-04-15T10:36:30.175062",
     "status": "completed"
    },
    "tags": []
   },
   "outputs": [],
   "source": [
    "import numpy as np # linear algebra\n",
    "import pandas as pd # data processing, CSV file I/O (e.g. pd.read_csv)\n",
    "\n",
    "import os\n",
    "import json\n",
    "\n",
    "import torch\n",
    "import transformers as ppb\n",
    "from sklearn.linear_model import LogisticRegression\n",
    "from sklearn.model_selection import cross_val_score\n",
    "from sklearn.model_selection import train_test_split\n",
    "from sklearn.model_selection import GridSearchCV\n",
    "\n",
    "import matplotlib.pyplot as plt\n",
    "import seaborn as sns"
   ]
  },
  {
   "cell_type": "markdown",
   "id": "01ab91e4",
   "metadata": {
    "papermill": {
     "duration": 0.047193,
     "end_time": "2022-04-15T10:36:32.949840",
     "exception": false,
     "start_time": "2022-04-15T10:36:32.902647",
     "status": "completed"
    },
    "tags": []
   },
   "source": [
    "# Loading Transcript"
   ]
  },
  {
   "cell_type": "code",
   "execution_count": 2,
   "id": "b1f02f26",
   "metadata": {
    "execution": {
     "iopub.execute_input": "2022-04-15T10:36:33.047308Z",
     "iopub.status.busy": "2022-04-15T10:36:33.046228Z",
     "iopub.status.idle": "2022-04-15T10:36:33.071800Z",
     "shell.execute_reply": "2022-04-15T10:36:33.072421Z",
     "shell.execute_reply.started": "2022-04-15T10:30:09.501201Z"
    },
    "papermill": {
     "duration": 0.076502,
     "end_time": "2022-04-15T10:36:33.072600",
     "exception": false,
     "start_time": "2022-04-15T10:36:32.996098",
     "status": "completed"
    },
    "tags": []
   },
   "outputs": [
    {
     "name": "stdout",
     "output_type": "stream",
     "text": [
      "<class 'str'>\n",
      "agent hello this is harper valley national bank agent my name is elizabeth agent how can i help you today caller hi caller my name is patricia brown caller i lost my debit card caller can you send me a new one agent which card would you like to replace caller my caller debit card agent can you repeat that please caller yes caller my debit card agent is there anything else i can help you with today caller no that was going to be it agent thank you for calling have a great day caller bye caller [noise]\n"
     ]
    }
   ],
   "source": [
    "a_json_path = \"../input/harpervalleydataset-transcript-only/HarperValleyDataset_transcript/HarperValley_transcript/0002f70f7386445b.json\"\n",
    "with open(a_json_path, \"r\", encoding='utf-8') as js_file:\n",
    "    js_text = json.load(js_file)\n",
    "    h_transcript = [item[\"speaker_role\"]+\" \"+item[\"human_transcript\"] for item in js_text]\n",
    "    str_trans = ' '.join(str(item) for item in h_transcript)\n",
    "print(type(str_trans))\n",
    "print(str_trans)"
   ]
  },
  {
   "cell_type": "code",
   "execution_count": 3,
   "id": "f9812253",
   "metadata": {
    "execution": {
     "iopub.execute_input": "2022-04-15T10:36:33.170348Z",
     "iopub.status.busy": "2022-04-15T10:36:33.169639Z",
     "iopub.status.idle": "2022-04-15T10:36:39.687674Z",
     "shell.execute_reply": "2022-04-15T10:36:39.686879Z",
     "shell.execute_reply.started": "2022-04-15T10:30:09.523482Z"
    },
    "papermill": {
     "duration": 6.567775,
     "end_time": "2022-04-15T10:36:39.687824",
     "exception": false,
     "start_time": "2022-04-15T10:36:33.120049",
     "status": "completed"
    },
    "tags": []
   },
   "outputs": [],
   "source": [
    "all_trans = list()\n",
    "path_to_jsonfiles = \"../input/harpervalleydataset-transcript-only/HarperValleyDataset_transcript/HarperValley_transcript/\"\n",
    "for file in os.listdir(path_to_jsonfiles):\n",
    "    filename = \"%s%s\" % (path_to_jsonfiles, file)\n",
    "    with open(filename, 'r') as fi:\n",
    "        js_text = json.load(fi)\n",
    "        h_trans = [item[\"speaker_role\"] + \" \" + item[\"human_transcript\"] for item in js_text]\n",
    "        str_trans = ' '.join(str(item) for item in h_trans)\n",
    "        all_trans.append(str_trans)"
   ]
  },
  {
   "cell_type": "code",
   "execution_count": 4,
   "id": "bed3a46e",
   "metadata": {
    "execution": {
     "iopub.execute_input": "2022-04-15T10:36:39.786227Z",
     "iopub.status.busy": "2022-04-15T10:36:39.785537Z",
     "iopub.status.idle": "2022-04-15T10:36:39.788714Z",
     "shell.execute_reply": "2022-04-15T10:36:39.789238Z",
     "shell.execute_reply.started": "2022-04-15T10:30:12.750280Z"
    },
    "papermill": {
     "duration": 0.055002,
     "end_time": "2022-04-15T10:36:39.789407",
     "exception": false,
     "start_time": "2022-04-15T10:36:39.734405",
     "status": "completed"
    },
    "tags": []
   },
   "outputs": [
    {
     "name": "stdout",
     "output_type": "stream",
     "text": [
      "<class 'list'>\n",
      "1000\n",
      "[\"agent hello this is harper valley national bank my name is jennifer how can i help you today agent [noise] caller hi my name is james williams caller i would like to schedule an appointment agent sure i can help you with that james uh what day would you like for your appointment caller saturday agent okay agent and what time would you like for your appointment caller one fifteen p m agent [noise] agent [noise] agent alright uh james i'm scheduling your appointment for saturday at one fifteen p m uh is there anything else that i can help you with today caller no thank you that'll be everything today agent oh you're welcome thank you for calling and have a great day caller you too agent bye bye caller [noise]\", 'agent hello this is harper valley national bank my name is david agent how can i help you today caller hi my name is john rodriguez and i would like to reset my password agent what is your phone number caller my phone number is zero two one caller eight nine five caller three five three two agent could you repeat that caller zero two one caller eight nine five caller three five caller three two agent okay agent your password reset link has been sent to your phone agent is there anything else i can help you with caller um no that is it agent thank you for calling have a great day caller thank you you too', \"agent hello this is harper valley national bank my name is mary how can i help you today caller hi my name is elizabeth jones caller what are the local branch hours agent the branch hours are nine thirty a m until five p m agent is there anything else i can help you with caller no that's gonna be it for tonight thank you very much agent you're welcome thank you for calling have a great day caller you too\", 'agent hello this is harper valley national bank my name is mary how can i help you today caller hi my name is mary rodriguez caller i would like to schedule an appointment agent oh sure i can help you with that uh which day would you like for your appointment caller monday agent monday okay and what time would you like for your appointment caller eight forty five am agent eight forty five a m okay agent so your appointment has been scheduled for monday at eight forty five a m agent is there anything else i can help you with caller no that would be all thank you so much agent thank you for calling have a great day', \"agent hello this is harper valley national bank my name is john agent how can i help you today caller uh yes john my name is mary smith and i would like to schedule an appointment please agent alright you would like to schedule appointment agent um agent what day would you like for your appointment caller uh friday please agent friday agent and agent what time would you like for your appointment caller um i'd like to have that at twelve forty five p m agent you would like your appointment agent to be scheduled friday at twelve forty five agent pm is that right caller correct agent alright your appointment has been scheduled for friday at twelve forty five pm agent [noise] caller [noise] agent is there anything else i can help you with caller no i think that'll be all for today thank you agent thank you for calling have a great day caller yourself as well bye bye agent bye\"]\n"
     ]
    }
   ],
   "source": [
    "print(type(all_trans))\n",
    "print(len(all_trans))\n",
    "print(all_trans[:5])"
   ]
  },
  {
   "cell_type": "code",
   "execution_count": 5,
   "id": "36a5fffc",
   "metadata": {
    "execution": {
     "iopub.execute_input": "2022-04-15T10:36:39.895493Z",
     "iopub.status.busy": "2022-04-15T10:36:39.894644Z",
     "iopub.status.idle": "2022-04-15T10:36:39.906201Z",
     "shell.execute_reply": "2022-04-15T10:36:39.906707Z",
     "shell.execute_reply.started": "2022-04-15T10:30:12.756503Z"
    },
    "papermill": {
     "duration": 0.07078,
     "end_time": "2022-04-15T10:36:39.906886",
     "exception": false,
     "start_time": "2022-04-15T10:36:39.836106",
     "status": "completed"
    },
    "tags": []
   },
   "outputs": [
    {
     "data": {
      "text/html": [
       "<div>\n",
       "<style scoped>\n",
       "    .dataframe tbody tr th:only-of-type {\n",
       "        vertical-align: middle;\n",
       "    }\n",
       "\n",
       "    .dataframe tbody tr th {\n",
       "        vertical-align: top;\n",
       "    }\n",
       "\n",
       "    .dataframe thead th {\n",
       "        text-align: right;\n",
       "    }\n",
       "</style>\n",
       "<table border=\"1\" class=\"dataframe\">\n",
       "  <thead>\n",
       "    <tr style=\"text-align: right;\">\n",
       "      <th></th>\n",
       "      <th>transcript</th>\n",
       "    </tr>\n",
       "  </thead>\n",
       "  <tbody>\n",
       "    <tr>\n",
       "      <th>995</th>\n",
       "      <td>agent hello this is harper valley national ban...</td>\n",
       "    </tr>\n",
       "    <tr>\n",
       "      <th>996</th>\n",
       "      <td>agent hello this is harper valley national ban...</td>\n",
       "    </tr>\n",
       "    <tr>\n",
       "      <th>997</th>\n",
       "      <td>agent hello agent this is harper valley nation...</td>\n",
       "    </tr>\n",
       "    <tr>\n",
       "      <th>998</th>\n",
       "      <td>agent hello this is agent hello this is harper...</td>\n",
       "    </tr>\n",
       "    <tr>\n",
       "      <th>999</th>\n",
       "      <td>agent [noise] agent hello this is harper valle...</td>\n",
       "    </tr>\n",
       "  </tbody>\n",
       "</table>\n",
       "</div>"
      ],
      "text/plain": [
       "                                            transcript\n",
       "995  agent hello this is harper valley national ban...\n",
       "996  agent hello this is harper valley national ban...\n",
       "997  agent hello agent this is harper valley nation...\n",
       "998  agent hello this is agent hello this is harper...\n",
       "999  agent [noise] agent hello this is harper valle..."
      ]
     },
     "execution_count": 5,
     "metadata": {},
     "output_type": "execute_result"
    }
   ],
   "source": [
    "df_x = pd.DataFrame(all_trans, columns = [\"transcript\"])\n",
    "df_x.tail()"
   ]
  },
  {
   "cell_type": "markdown",
   "id": "1b92c07b",
   "metadata": {
    "papermill": {
     "duration": 0.050513,
     "end_time": "2022-04-15T10:36:40.007719",
     "exception": false,
     "start_time": "2022-04-15T10:36:39.957206",
     "status": "completed"
    },
    "tags": []
   },
   "source": [
    "# Loading Labels"
   ]
  },
  {
   "cell_type": "code",
   "execution_count": 6,
   "id": "2c9b3579",
   "metadata": {
    "execution": {
     "iopub.execute_input": "2022-04-15T10:36:40.112912Z",
     "iopub.status.busy": "2022-04-15T10:36:40.112232Z",
     "iopub.status.idle": "2022-04-15T10:36:45.796020Z",
     "shell.execute_reply": "2022-04-15T10:36:45.796672Z",
     "shell.execute_reply.started": "2022-04-15T10:30:12.792840Z"
    },
    "papermill": {
     "duration": 5.740337,
     "end_time": "2022-04-15T10:36:45.796857",
     "exception": false,
     "start_time": "2022-04-15T10:36:40.056520",
     "status": "completed"
    },
    "tags": []
   },
   "outputs": [],
   "source": [
    "### Get the task list from metadata\n",
    "\n",
    "all_labels = list()\n",
    "path_to_matadat = \"../input/harpervalleydataset-transcript-only/HarperValleyDataset_metadata/metadata/\"\n",
    "for file in os.listdir(path_to_matadat):\n",
    "    filename = \"%s%s\" % (path_to_matadat, file)\n",
    "    with open(filename, 'r') as fi:\n",
    "        js_text = json.load(fi)\n",
    "        task = js_text[\"tasks\"][0][\"task_type\"]\n",
    "        all_labels.append(task)"
   ]
  },
  {
   "cell_type": "code",
   "execution_count": 7,
   "id": "4e4f6df9",
   "metadata": {
    "execution": {
     "iopub.execute_input": "2022-04-15T10:36:45.899763Z",
     "iopub.status.busy": "2022-04-15T10:36:45.899040Z",
     "iopub.status.idle": "2022-04-15T10:36:45.905945Z",
     "shell.execute_reply": "2022-04-15T10:36:45.906438Z",
     "shell.execute_reply.started": "2022-04-15T10:30:15.348461Z"
    },
    "papermill": {
     "duration": 0.060541,
     "end_time": "2022-04-15T10:36:45.906630",
     "exception": false,
     "start_time": "2022-04-15T10:36:45.846089",
     "status": "completed"
    },
    "tags": []
   },
   "outputs": [
    {
     "name": "stdout",
     "output_type": "stream",
     "text": [
      "<class 'numpy.ndarray'>\n",
      "(1000,)\n",
      "(1000, 1)\n",
      "y_list\n",
      " ['schedule appointment' 'reset password' 'get branch hours'\n",
      " 'schedule appointment' 'schedule appointment' 'check balance'] \n",
      " y_list_2d\n",
      " [['schedule appointment']\n",
      " ['reset password']\n",
      " ['get branch hours']\n",
      " ['schedule appointment']\n",
      " ['schedule appointment']\n",
      " ['check balance']]\n"
     ]
    }
   ],
   "source": [
    "y_list = np.array(all_labels)\n",
    "print(type(y_list))\n",
    "print(y_list.shape)\n",
    "y_list_2d = np.reshape(y_list, (-1, 1))\n",
    "print(y_list_2d.shape)\n",
    "print(\"y_list\\n\", y_list[0:6], \"\\n y_list_2d\\n\", y_list_2d[0:6])"
   ]
  },
  {
   "cell_type": "code",
   "execution_count": 8,
   "id": "eeb00434",
   "metadata": {
    "execution": {
     "iopub.execute_input": "2022-04-15T10:36:46.008983Z",
     "iopub.status.busy": "2022-04-15T10:36:46.008299Z",
     "iopub.status.idle": "2022-04-15T10:36:46.016601Z",
     "shell.execute_reply": "2022-04-15T10:36:46.017101Z",
     "shell.execute_reply.started": "2022-04-15T10:30:15.361383Z"
    },
    "papermill": {
     "duration": 0.060975,
     "end_time": "2022-04-15T10:36:46.017303",
     "exception": false,
     "start_time": "2022-04-15T10:36:45.956328",
     "status": "completed"
    },
    "tags": []
   },
   "outputs": [
    {
     "data": {
      "text/html": [
       "<div>\n",
       "<style scoped>\n",
       "    .dataframe tbody tr th:only-of-type {\n",
       "        vertical-align: middle;\n",
       "    }\n",
       "\n",
       "    .dataframe tbody tr th {\n",
       "        vertical-align: top;\n",
       "    }\n",
       "\n",
       "    .dataframe thead th {\n",
       "        text-align: right;\n",
       "    }\n",
       "</style>\n",
       "<table border=\"1\" class=\"dataframe\">\n",
       "  <thead>\n",
       "    <tr style=\"text-align: right;\">\n",
       "      <th></th>\n",
       "      <th>tasks</th>\n",
       "    </tr>\n",
       "  </thead>\n",
       "  <tbody>\n",
       "    <tr>\n",
       "      <th>995</th>\n",
       "      <td>check balance</td>\n",
       "    </tr>\n",
       "    <tr>\n",
       "      <th>996</th>\n",
       "      <td>order checks</td>\n",
       "    </tr>\n",
       "    <tr>\n",
       "      <th>997</th>\n",
       "      <td>order checks</td>\n",
       "    </tr>\n",
       "    <tr>\n",
       "      <th>998</th>\n",
       "      <td>order checks</td>\n",
       "    </tr>\n",
       "    <tr>\n",
       "      <th>999</th>\n",
       "      <td>check balance</td>\n",
       "    </tr>\n",
       "  </tbody>\n",
       "</table>\n",
       "</div>"
      ],
      "text/plain": [
       "             tasks\n",
       "995  check balance\n",
       "996   order checks\n",
       "997   order checks\n",
       "998   order checks\n",
       "999  check balance"
      ]
     },
     "execution_count": 8,
     "metadata": {},
     "output_type": "execute_result"
    }
   ],
   "source": [
    "df_y = pd.DataFrame(all_labels, columns = [\"tasks\"])\n",
    "df_y.tail()"
   ]
  },
  {
   "cell_type": "code",
   "execution_count": 9,
   "id": "41945991",
   "metadata": {
    "execution": {
     "iopub.execute_input": "2022-04-15T10:36:46.122568Z",
     "iopub.status.busy": "2022-04-15T10:36:46.121872Z",
     "iopub.status.idle": "2022-04-15T10:36:46.128096Z",
     "shell.execute_reply": "2022-04-15T10:36:46.127555Z",
     "shell.execute_reply.started": "2022-04-15T10:30:15.383881Z"
    },
    "papermill": {
     "duration": 0.061298,
     "end_time": "2022-04-15T10:36:46.128415",
     "exception": false,
     "start_time": "2022-04-15T10:36:46.067117",
     "status": "completed"
    },
    "tags": []
   },
   "outputs": [
    {
     "name": "stdout",
     "output_type": "stream",
     "text": [
      "check balance\n",
      "agent [noise] agent hello this is harper valley national bank my name is mary how can i help you today caller [noise] hi my name is linda smith i need to check my account balance agent alright i can help you with that and and which account would you like to check caller my savings account agent alright agent your savings account balance is eighty nine dollars is there anything else i can help you with today caller no that'll be all thank you agent uh huh thank <unk> thank you for calling and you have a great day\n"
     ]
    }
   ],
   "source": [
    "# print(len(all_labels))\n",
    "i = 1000-1\n",
    "print(all_labels[i])\n",
    "print(all_trans[i])"
   ]
  },
  {
   "cell_type": "code",
   "execution_count": 10,
   "id": "52f57010",
   "metadata": {
    "execution": {
     "iopub.execute_input": "2022-04-15T10:36:46.237069Z",
     "iopub.status.busy": "2022-04-15T10:36:46.236013Z",
     "iopub.status.idle": "2022-04-15T10:36:46.239815Z",
     "shell.execute_reply": "2022-04-15T10:36:46.239249Z",
     "shell.execute_reply.started": "2022-04-15T10:30:15.396390Z"
    },
    "papermill": {
     "duration": 0.061231,
     "end_time": "2022-04-15T10:36:46.239957",
     "exception": false,
     "start_time": "2022-04-15T10:36:46.178726",
     "status": "completed"
    },
    "tags": []
   },
   "outputs": [],
   "source": [
    "filename1 = \"../input/harpervalleydataset-transcript-only/HarperValleyDataset_metadata/metadata/0002f70f7386445b.json\"\n",
    "with open(filename1, 'r') as fi:\n",
    "    js_text = json.load(fi)\n",
    "    task = js_text[\"tasks\"][0][\"task_type\"]\n",
    "#     all_labels.append(h_trans)"
   ]
  },
  {
   "cell_type": "code",
   "execution_count": 11,
   "id": "f9dc0a52",
   "metadata": {
    "execution": {
     "iopub.execute_input": "2022-04-15T10:36:46.347775Z",
     "iopub.status.busy": "2022-04-15T10:36:46.346895Z",
     "iopub.status.idle": "2022-04-15T10:36:46.350307Z",
     "shell.execute_reply": "2022-04-15T10:36:46.351000Z",
     "shell.execute_reply.started": "2022-04-15T10:30:15.411637Z"
    },
    "papermill": {
     "duration": 0.061728,
     "end_time": "2022-04-15T10:36:46.351262",
     "exception": false,
     "start_time": "2022-04-15T10:36:46.289534",
     "status": "completed"
    },
    "tags": []
   },
   "outputs": [
    {
     "name": "stdout",
     "output_type": "stream",
     "text": [
      "replace card\n"
     ]
    }
   ],
   "source": [
    "print(task)"
   ]
  },
  {
   "cell_type": "code",
   "execution_count": 12,
   "id": "9df30e90",
   "metadata": {
    "execution": {
     "iopub.execute_input": "2022-04-15T10:36:46.462237Z",
     "iopub.status.busy": "2022-04-15T10:36:46.461171Z",
     "iopub.status.idle": "2022-04-15T10:36:46.996541Z",
     "shell.execute_reply": "2022-04-15T10:36:46.997021Z",
     "shell.execute_reply.started": "2022-04-15T10:30:15.424119Z"
    },
    "papermill": {
     "duration": 0.590518,
     "end_time": "2022-04-15T10:36:46.997282",
     "exception": false,
     "start_time": "2022-04-15T10:36:46.406764",
     "status": "completed"
    },
    "tags": []
   },
   "outputs": [
    {
     "data": {
      "image/png": "[encoded data removed]",
      "text/plain": [
       "<Figure size 432x288 with 1 Axes>"
      ]
     },
     "metadata": {
      "needs_background": "light"
     },
     "output_type": "display_data"
    }
   ],
   "source": [
    "x = \"tasks\"\n",
    "fig, ax = plt.subplots()\n",
    "# fig.suptitle(x, fontsize=12)\n",
    "df_y[x].reset_index().groupby(x).count().sort_values(by= \n",
    "       \"index\").plot(kind=\"barh\", legend=False, \n",
    "        ax=ax).grid(axis='x')\n",
    "plt.savefig(\"task_distribution.png\", bbox_inches='tight')\n",
    "plt.show()"
   ]
  },
  {
   "cell_type": "markdown",
   "id": "7aacccbc",
   "metadata": {
    "papermill": {
     "duration": 0.050822,
     "end_time": "2022-04-15T10:36:47.100122",
     "exception": false,
     "start_time": "2022-04-15T10:36:47.049300",
     "status": "completed"
    },
    "tags": []
   },
   "source": [
    "## Concateneting X and y"
   ]
  },
  {
   "cell_type": "code",
   "execution_count": 13,
   "id": "b58653bb",
   "metadata": {
    "execution": {
     "iopub.execute_input": "2022-04-15T10:36:47.212409Z",
     "iopub.status.busy": "2022-04-15T10:36:47.211571Z",
     "iopub.status.idle": "2022-04-15T10:36:47.214742Z",
     "shell.execute_reply": "2022-04-15T10:36:47.215269Z",
     "shell.execute_reply.started": "2022-04-15T10:30:15.926125Z"
    },
    "papermill": {
     "duration": 0.064641,
     "end_time": "2022-04-15T10:36:47.215460",
     "exception": false,
     "start_time": "2022-04-15T10:36:47.150819",
     "status": "completed"
    },
    "tags": []
   },
   "outputs": [
    {
     "data": {
      "text/html": [
       "<div>\n",
       "<style scoped>\n",
       "    .dataframe tbody tr th:only-of-type {\n",
       "        vertical-align: middle;\n",
       "    }\n",
       "\n",
       "    .dataframe tbody tr th {\n",
       "        vertical-align: top;\n",
       "    }\n",
       "\n",
       "    .dataframe thead th {\n",
       "        text-align: right;\n",
       "    }\n",
       "</style>\n",
       "<table border=\"1\" class=\"dataframe\">\n",
       "  <thead>\n",
       "    <tr style=\"text-align: right;\">\n",
       "      <th></th>\n",
       "      <th>transcript</th>\n",
       "      <th>tasks</th>\n",
       "    </tr>\n",
       "  </thead>\n",
       "  <tbody>\n",
       "    <tr>\n",
       "      <th>995</th>\n",
       "      <td>agent hello this is harper valley national ban...</td>\n",
       "      <td>check balance</td>\n",
       "    </tr>\n",
       "    <tr>\n",
       "      <th>996</th>\n",
       "      <td>agent hello this is harper valley national ban...</td>\n",
       "      <td>order checks</td>\n",
       "    </tr>\n",
       "    <tr>\n",
       "      <th>997</th>\n",
       "      <td>agent hello agent this is harper valley nation...</td>\n",
       "      <td>order checks</td>\n",
       "    </tr>\n",
       "    <tr>\n",
       "      <th>998</th>\n",
       "      <td>agent hello this is agent hello this is harper...</td>\n",
       "      <td>order checks</td>\n",
       "    </tr>\n",
       "    <tr>\n",
       "      <th>999</th>\n",
       "      <td>agent [noise] agent hello this is harper valle...</td>\n",
       "      <td>check balance</td>\n",
       "    </tr>\n",
       "  </tbody>\n",
       "</table>\n",
       "</div>"
      ],
      "text/plain": [
       "                                            transcript          tasks\n",
       "995  agent hello this is harper valley national ban...  check balance\n",
       "996  agent hello this is harper valley national ban...   order checks\n",
       "997  agent hello agent this is harper valley nation...   order checks\n",
       "998  agent hello this is agent hello this is harper...   order checks\n",
       "999  agent [noise] agent hello this is harper valle...  check balance"
      ]
     },
     "execution_count": 13,
     "metadata": {},
     "output_type": "execute_result"
    }
   ],
   "source": [
    "# df = df_x.merge(df_y, left_on=\"transcript\", right_on=\"tasks\")\n",
    "df = pd.concat([df_x, df_y], axis=1)\n",
    "df.tail()\n",
    "# df.size"
   ]
  },
  {
   "cell_type": "markdown",
   "id": "a6c0b8a7",
   "metadata": {
    "papermill": {
     "duration": 0.05278,
     "end_time": "2022-04-15T10:36:47.318361",
     "exception": false,
     "start_time": "2022-04-15T10:36:47.265581",
     "status": "completed"
    },
    "tags": []
   },
   "source": [
    "# Processing Data"
   ]
  },
  {
   "cell_type": "code",
   "execution_count": 14,
   "id": "58febe45",
   "metadata": {
    "execution": {
     "iopub.execute_input": "2022-04-15T10:36:47.426716Z",
     "iopub.status.busy": "2022-04-15T10:36:47.425916Z",
     "iopub.status.idle": "2022-04-15T10:36:47.429742Z",
     "shell.execute_reply": "2022-04-15T10:36:47.429228Z",
     "shell.execute_reply.started": "2022-04-15T10:30:15.938438Z"
    },
    "papermill": {
     "duration": 0.059549,
     "end_time": "2022-04-15T10:36:47.429884",
     "exception": false,
     "start_time": "2022-04-15T10:36:47.370335",
     "status": "completed"
    },
    "tags": []
   },
   "outputs": [
    {
     "name": "stdout",
     "output_type": "stream",
     "text": [
      "627\n"
     ]
    }
   ],
   "source": [
    "max_len = len(df[\"transcript\"][15])\n",
    "print(max_len)"
   ]
  },
  {
   "cell_type": "markdown",
   "id": "f8abbde8",
   "metadata": {
    "papermill": {
     "duration": 0.049987,
     "end_time": "2022-04-15T10:36:47.531790",
     "exception": false,
     "start_time": "2022-04-15T10:36:47.481803",
     "status": "completed"
    },
    "tags": []
   },
   "source": [
    "# Model\n",
    "## BERT"
   ]
  },
  {
   "cell_type": "code",
   "execution_count": 15,
   "id": "3d0889a7",
   "metadata": {
    "execution": {
     "iopub.execute_input": "2022-04-15T10:36:47.641902Z",
     "iopub.status.busy": "2022-04-15T10:36:47.641225Z",
     "iopub.status.idle": "2022-04-15T10:37:35.332818Z",
     "shell.execute_reply": "2022-04-15T10:37:35.332219Z",
     "shell.execute_reply.started": "2022-04-15T10:30:15.987998Z"
    },
    "papermill": {
     "duration": 47.749415,
     "end_time": "2022-04-15T10:37:35.332977",
     "exception": false,
     "start_time": "2022-04-15T10:36:47.583562",
     "status": "completed"
    },
    "tags": []
   },
   "outputs": [
    {
     "data": {
      "application/vnd.jupyter.widget-view+json": {
       "model_id": "7ae71247f95d4f6f9f8e09d1a7c5ffb3",
       "version_major": 2,
       "version_minor": 0
      },
      "text/plain": [
       "Downloading:   0%|          | 0.00/226k [00:00<?, ?B/s]"
      ]
     },
     "metadata": {},
     "output_type": "display_data"
    },
    {
     "data": {
      "application/vnd.jupyter.widget-view+json": {
       "model_id": "10b7a5c2c94f49edb589069c51d2367d",
       "version_major": 2,
       "version_minor": 0
      },
      "text/plain": [
       "Downloading:   0%|          | 0.00/28.0 [00:00<?, ?B/s]"
      ]
     },
     "metadata": {},
     "output_type": "display_data"
    },
    {
     "data": {
      "application/vnd.jupyter.widget-view+json": {
       "model_id": "b2d672ffe9334ef2aac0e512e1eaaf28",
       "version_major": 2,
       "version_minor": 0
      },
      "text/plain": [
       "Downloading:   0%|          | 0.00/455k [00:00<?, ?B/s]"
      ]
     },
     "metadata": {},
     "output_type": "display_data"
    },
    {
     "data": {
      "application/vnd.jupyter.widget-view+json": {
       "model_id": "79bb005b0bf744cb922bb6ace1f0499c",
       "version_major": 2,
       "version_minor": 0
      },
      "text/plain": [
       "Downloading:   0%|          | 0.00/570 [00:00<?, ?B/s]"
      ]
     },
     "metadata": {},
     "output_type": "display_data"
    },
    {
     "data": {
      "application/vnd.jupyter.widget-view+json": {
       "model_id": "52f5c06ed3644a0fbb581f7efb4c6844",
       "version_major": 2,
       "version_minor": 0
      },
      "text/plain": [
       "Downloading:   0%|          | 0.00/420M [00:00<?, ?B/s]"
      ]
     },
     "metadata": {},
     "output_type": "display_data"
    },
    {
     "name": "stderr",
     "output_type": "stream",
     "text": [
      "Some weights of the model checkpoint at bert-base-uncased were not used when initializing BertModel: ['cls.predictions.decoder.weight', 'cls.seq_relationship.bias', 'cls.predictions.transform.dense.bias', 'cls.seq_relationship.weight', 'cls.predictions.transform.LayerNorm.weight', 'cls.predictions.transform.dense.weight', 'cls.predictions.bias', 'cls.predictions.transform.LayerNorm.bias']\n",
      "- This IS expected if you are initializing BertModel from the checkpoint of a model trained on another task or with another architecture (e.g. initializing a BertForSequenceClassification model from a BertForPreTraining model).\n",
      "- This IS NOT expected if you are initializing BertModel from the checkpoint of a model that you expect to be exactly identical (initializing a BertForSequenceClassification model from a BertForSequenceClassification model).\n"
     ]
    }
   ],
   "source": [
    "model_class = ppb.BertModel\n",
    "tokenizer_class = ppb.BertTokenizer\n",
    "pretrained_weights = \"bert-base-uncased\"\n",
    "\n",
    "# model_class, tokenizer_class, pretrained_weights = (ppb.DistilBertModel, ppb.DistilBertTokenizer, 'distilbert-base-uncased')\n",
    "\n",
    "tokenizer = tokenizer_class.from_pretrained(pretrained_weights)\n",
    "model = model_class.from_pretrained(pretrained_weights)"
   ]
  },
  {
   "cell_type": "markdown",
   "id": "c990e694",
   "metadata": {
    "papermill": {
     "duration": 0.0547,
     "end_time": "2022-04-15T10:37:35.443302",
     "exception": false,
     "start_time": "2022-04-15T10:37:35.388602",
     "status": "completed"
    },
    "tags": []
   },
   "source": [
    "## Tokenization"
   ]
  },
  {
   "cell_type": "code",
   "execution_count": 16,
   "id": "99fa7c7a",
   "metadata": {
    "execution": {
     "iopub.execute_input": "2022-04-15T10:37:35.563713Z",
     "iopub.status.busy": "2022-04-15T10:37:35.562951Z",
     "iopub.status.idle": "2022-04-15T10:37:40.050593Z",
     "shell.execute_reply": "2022-04-15T10:37:40.051109Z",
     "shell.execute_reply.started": "2022-04-15T10:30:43.447687Z"
    },
    "papermill": {
     "duration": 4.552823,
     "end_time": "2022-04-15T10:37:40.051330",
     "exception": false,
     "start_time": "2022-04-15T10:37:35.498507",
     "status": "completed"
    },
    "tags": []
   },
   "outputs": [],
   "source": [
    "tokenized_X = df[\"transcript\"].apply((lambda x: tokenizer.encode(x, add_special_tokens=True)))\n",
    "# tokenized_y = df[\"tasks\"].apply((lambda x: tokenizer.encode(x, add_special_tokens=True)))"
   ]
  },
  {
   "cell_type": "code",
   "execution_count": 17,
   "id": "2a885ef4",
   "metadata": {
    "execution": {
     "iopub.execute_input": "2022-04-15T10:37:40.168200Z",
     "iopub.status.busy": "2022-04-15T10:37:40.167185Z",
     "iopub.status.idle": "2022-04-15T10:37:40.178314Z",
     "shell.execute_reply": "2022-04-15T10:37:40.178938Z",
     "shell.execute_reply.started": "2022-04-15T10:30:47.740575Z"
    },
    "papermill": {
     "duration": 0.071366,
     "end_time": "2022-04-15T10:37:40.179119",
     "exception": false,
     "start_time": "2022-04-15T10:37:40.107753",
     "status": "completed"
    },
    "tags": []
   },
   "outputs": [
    {
     "name": "stdout",
     "output_type": "stream",
     "text": [
      "<class 'pandas.core.series.Series'>\n",
      "1000\n"
     ]
    },
    {
     "data": {
      "text/plain": [
       "0    [101, 4005, 7592, 2023, 2003, 8500, 3028, 2120...\n",
       "1    [101, 4005, 7592, 2023, 2003, 8500, 3028, 2120...\n",
       "2    [101, 4005, 7592, 2023, 2003, 8500, 3028, 2120...\n",
       "3    [101, 4005, 7592, 2023, 2003, 8500, 3028, 2120...\n",
       "4    [101, 4005, 7592, 2023, 2003, 8500, 3028, 2120...\n",
       "Name: transcript, dtype: object"
      ]
     },
     "execution_count": 17,
     "metadata": {},
     "output_type": "execute_result"
    }
   ],
   "source": [
    "print(type(tokenized_X))\n",
    "print(tokenized_X.size)\n",
    "tokenized_X.head()"
   ]
  },
  {
   "cell_type": "markdown",
   "id": "27b555ac",
   "metadata": {
    "papermill": {
     "duration": 0.054498,
     "end_time": "2022-04-15T10:37:40.290311",
     "exception": false,
     "start_time": "2022-04-15T10:37:40.235813",
     "status": "completed"
    },
    "tags": []
   },
   "source": [
    "## Padding"
   ]
  },
  {
   "cell_type": "markdown",
   "id": "016b3722",
   "metadata": {
    "papermill": {
     "duration": 0.05825,
     "end_time": "2022-04-15T10:37:40.403832",
     "exception": false,
     "start_time": "2022-04-15T10:37:40.345582",
     "status": "completed"
    },
    "tags": []
   },
   "source": [
    "### Transcripts"
   ]
  },
  {
   "cell_type": "code",
   "execution_count": 18,
   "id": "8dfc2257",
   "metadata": {
    "execution": {
     "iopub.execute_input": "2022-04-15T10:37:41.318046Z",
     "iopub.status.busy": "2022-04-15T10:37:41.312709Z",
     "iopub.status.idle": "2022-04-15T10:37:41.383484Z",
     "shell.execute_reply": "2022-04-15T10:37:41.382868Z",
     "shell.execute_reply.started": "2022-04-15T10:30:47.765550Z"
    },
    "papermill": {
     "duration": 0.637249,
     "end_time": "2022-04-15T10:37:41.383635",
     "exception": false,
     "start_time": "2022-04-15T10:37:40.746386",
     "status": "completed"
    },
    "tags": []
   },
   "outputs": [],
   "source": [
    "max_len_X = 0\n",
    "for i in tokenized_X.values:\n",
    "    if len(i) > max_len_X:\n",
    "        max_len_X = len(i)\n",
    "        \n",
    "padded_X = np.array([i + [0]*(max_len_X-len(i)) for i in tokenized_X.values])"
   ]
  },
  {
   "cell_type": "code",
   "execution_count": 19,
   "id": "485a3b6d",
   "metadata": {
    "execution": {
     "iopub.execute_input": "2022-04-15T10:37:41.498667Z",
     "iopub.status.busy": "2022-04-15T10:37:41.497718Z",
     "iopub.status.idle": "2022-04-15T10:37:41.503467Z",
     "shell.execute_reply": "2022-04-15T10:37:41.503952Z",
     "shell.execute_reply.started": "2022-04-15T10:30:47.853208Z"
    },
    "papermill": {
     "duration": 0.064619,
     "end_time": "2022-04-15T10:37:41.504116",
     "exception": false,
     "start_time": "2022-04-15T10:37:41.439497",
     "status": "completed"
    },
    "tags": []
   },
   "outputs": [
    {
     "name": "stdout",
     "output_type": "stream",
     "text": [
      "<class 'numpy.ndarray'>\n",
      "[[ 101 4005 7592 ...    0    0    0]\n",
      " [ 101 4005 7592 ...    0    0    0]\n",
      " [ 101 4005 7592 ...    0    0    0]\n",
      " [ 101 4005 7592 ...    0    0    0]\n",
      " [ 101 4005 7592 ...    0    0    0]]\n",
      "(1000, 430)\n"
     ]
    }
   ],
   "source": [
    "print(type(padded_X))\n",
    "print(padded_X[:5])\n",
    "print(padded_X.shape)"
   ]
  },
  {
   "cell_type": "markdown",
   "id": "950b7fb8",
   "metadata": {
    "papermill": {
     "duration": 0.055315,
     "end_time": "2022-04-15T10:37:41.614640",
     "exception": false,
     "start_time": "2022-04-15T10:37:41.559325",
     "status": "completed"
    },
    "tags": []
   },
   "source": [
    "### Slicing"
   ]
  },
  {
   "cell_type": "code",
   "execution_count": 20,
   "id": "3c914b98",
   "metadata": {
    "execution": {
     "iopub.execute_input": "2022-04-15T10:37:41.731248Z",
     "iopub.status.busy": "2022-04-15T10:37:41.730204Z",
     "iopub.status.idle": "2022-04-15T10:37:41.736830Z",
     "shell.execute_reply": "2022-04-15T10:37:41.736290Z",
     "shell.execute_reply.started": "2022-04-15T10:30:47.860769Z"
    },
    "papermill": {
     "duration": 0.06667,
     "end_time": "2022-04-15T10:37:41.736975",
     "exception": false,
     "start_time": "2022-04-15T10:37:41.670305",
     "status": "completed"
    },
    "tags": []
   },
   "outputs": [
    {
     "name": "stdout",
     "output_type": "stream",
     "text": [
      "(1000, 1)\n",
      "(1000, 40)\n"
     ]
    }
   ],
   "source": [
    "jk_1 = padded_X[:, 0:1]\n",
    "print(jk_1.shape)\n",
    "jl_1 = padded_X[:, 15:55]\n",
    "print(jl_1.shape)"
   ]
  },
  {
   "cell_type": "code",
   "execution_count": 21,
   "id": "75dbf170",
   "metadata": {
    "execution": {
     "iopub.execute_input": "2022-04-15T10:37:41.857038Z",
     "iopub.status.busy": "2022-04-15T10:37:41.856367Z",
     "iopub.status.idle": "2022-04-15T10:37:41.861425Z",
     "shell.execute_reply": "2022-04-15T10:37:41.861926Z",
     "shell.execute_reply.started": "2022-04-15T10:30:47.876745Z"
    },
    "papermill": {
     "duration": 0.069246,
     "end_time": "2022-04-15T10:37:41.862111",
     "exception": false,
     "start_time": "2022-04-15T10:37:41.792865",
     "status": "completed"
    },
    "tags": []
   },
   "outputs": [
    {
     "name": "stdout",
     "output_type": "stream",
     "text": [
      "<class 'numpy.ndarray'>\n",
      "(1000, 41)\n",
      "[[  101  1045  2393  2017  2651  4005  1031  5005  1033 20587  7632  2026\n",
      "   2171  2003  2508  3766 20587  1045  2052  2066  2000  6134  2019  6098\n",
      "   4005  2469  1045  2064  2393  2017  2007  2008  2508  7910  2054  2154\n",
      "   2052  2017  2066  2005  2115]\n",
      " [  101  2064  1045  2393  2017  2651 20587  7632  2026  2171  2003  2198\n",
      "   9172  1998  1045  2052  2066  2000 25141  2026 20786  4005  2054  2003\n",
      "   2115  3042  2193 20587  2026  3042  2193  2003  5717  2048  2028 20587\n",
      "   2809  3157  2274 20587  2093]\n",
      " [  101  1045  2393  2017  2651 20587  7632  2026  2171  2003  3870  3557\n",
      "  20587  2054  2024  1996  2334  3589  2847  4005  1996  3589  2847  2024\n",
      "   3157  4228  1037  1049  2127  2274  1052  1049  4005  2003  2045  2505\n",
      "   2842  1045  2064  2393  2017]\n",
      " [  101  1045  2393  2017  2651 20587  7632  2026  2171  2003  2984  9172\n",
      "  20587  1045  2052  2066  2000  6134  2019  6098  4005  2821  2469  1045\n",
      "   2064  2393  2017  2007  2008  7910  2029  2154  2052  2017  2066  2005\n",
      "   2115  6098 20587  6928  4005]\n",
      " [  101  2064  1045  2393  2017  2651 20587  7910  2748  2198  2026  2171\n",
      "   2003  2984  3044  1998  1045  2052  2066  2000  6134  2019  6098  3531\n",
      "   4005 10303  2017  2052  2066  2000  6134  6098  4005  8529  4005  2054\n",
      "   2154  2052  2017  2066  2005]]\n"
     ]
    }
   ],
   "source": [
    "sliced_X = np.concatenate((padded_X[:,0:1], padded_X[:, 15:55]), axis=1)\n",
    "\n",
    "print(type(sliced_X))\n",
    "print(sliced_X.shape)\n",
    "print(sliced_X[:5])"
   ]
  },
  {
   "cell_type": "markdown",
   "id": "ded77bab",
   "metadata": {
    "papermill": {
     "duration": 0.055469,
     "end_time": "2022-04-15T10:37:41.974468",
     "exception": false,
     "start_time": "2022-04-15T10:37:41.918999",
     "status": "completed"
    },
    "tags": []
   },
   "source": [
    "## Masking"
   ]
  },
  {
   "cell_type": "code",
   "execution_count": 22,
   "id": "d3595026",
   "metadata": {
    "execution": {
     "iopub.execute_input": "2022-04-15T10:37:42.090482Z",
     "iopub.status.busy": "2022-04-15T10:37:42.089847Z",
     "iopub.status.idle": "2022-04-15T10:37:42.096244Z",
     "shell.execute_reply": "2022-04-15T10:37:42.096767Z",
     "shell.execute_reply.started": "2022-04-15T10:30:48.021734Z"
    },
    "papermill": {
     "duration": 0.065346,
     "end_time": "2022-04-15T10:37:42.096936",
     "exception": false,
     "start_time": "2022-04-15T10:37:42.031590",
     "status": "completed"
    },
    "tags": []
   },
   "outputs": [
    {
     "name": "stdout",
     "output_type": "stream",
     "text": [
      "(1000, 41)\n",
      "[[1 1 1 1 1 1 1 1 1 1 1 1 1 1 1 1 1 1 1 1 1 1 1 1 1 1 1 1 1 1 1 1 1 1 1 1\n",
      "  1 1 1 1 1]\n",
      " [1 1 1 1 1 1 1 1 1 1 1 1 1 1 1 1 1 1 1 1 1 1 1 1 1 1 1 1 1 1 1 1 1 1 1 1\n",
      "  1 1 1 1 1]\n",
      " [1 1 1 1 1 1 1 1 1 1 1 1 1 1 1 1 1 1 1 1 1 1 1 1 1 1 1 1 1 1 1 1 1 1 1 1\n",
      "  1 1 1 1 1]\n",
      " [1 1 1 1 1 1 1 1 1 1 1 1 1 1 1 1 1 1 1 1 1 1 1 1 1 1 1 1 1 1 1 1 1 1 1 1\n",
      "  1 1 1 1 1]\n",
      " [1 1 1 1 1 1 1 1 1 1 1 1 1 1 1 1 1 1 1 1 1 1 1 1 1 1 1 1 1 1 1 1 1 1 1 1\n",
      "  1 1 1 1 1]]\n"
     ]
    }
   ],
   "source": [
    "attention_mask_X = np.where(sliced_X != 0, 1, 0)\n",
    "print(attention_mask_X.shape)\n",
    "print(attention_mask_X[:5])"
   ]
  },
  {
   "cell_type": "markdown",
   "id": "c61eb312",
   "metadata": {
    "papermill": {
     "duration": 0.055948,
     "end_time": "2022-04-15T10:37:42.209188",
     "exception": false,
     "start_time": "2022-04-15T10:37:42.153240",
     "status": "completed"
    },
    "tags": []
   },
   "source": [
    "# Processing with DistilBERT"
   ]
  },
  {
   "cell_type": "code",
   "execution_count": 23,
   "id": "33ae639e",
   "metadata": {
    "execution": {
     "iopub.execute_input": "2022-04-15T10:37:42.324394Z",
     "iopub.status.busy": "2022-04-15T10:37:42.323775Z",
     "iopub.status.idle": "2022-04-15T10:39:08.473563Z",
     "shell.execute_reply": "2022-04-15T10:39:08.474691Z",
     "shell.execute_reply.started": "2022-04-15T10:30:48.199746Z"
    },
    "papermill": {
     "duration": 86.210015,
     "end_time": "2022-04-15T10:39:08.475280",
     "exception": false,
     "start_time": "2022-04-15T10:37:42.265265",
     "status": "completed"
    },
    "tags": []
   },
   "outputs": [],
   "source": [
    "X_ids = torch.tensor(np.array(sliced_X))\n",
    "attention_mask_X_tensor = torch.tensor(attention_mask_X)\n",
    "\n",
    "with torch.no_grad():\n",
    "    last_hidden_states = model(X_ids, attention_mask=attention_mask_X_tensor)"
   ]
  },
  {
   "cell_type": "code",
   "execution_count": 24,
   "id": "d3c452d8",
   "metadata": {
    "execution": {
     "iopub.execute_input": "2022-04-15T10:39:08.597595Z",
     "iopub.status.busy": "2022-04-15T10:39:08.596903Z",
     "iopub.status.idle": "2022-04-15T10:39:08.602520Z",
     "shell.execute_reply": "2022-04-15T10:39:08.603018Z",
     "shell.execute_reply.started": "2022-04-15T10:32:02.636292Z"
    },
    "papermill": {
     "duration": 0.066371,
     "end_time": "2022-04-15T10:39:08.603213",
     "exception": false,
     "start_time": "2022-04-15T10:39:08.536842",
     "status": "completed"
    },
    "tags": []
   },
   "outputs": [
    {
     "name": "stdout",
     "output_type": "stream",
     "text": [
      "<class 'transformers.modeling_outputs.BaseModelOutputWithPoolingAndCrossAttentions'>\n",
      "1\n"
     ]
    }
   ],
   "source": [
    "print(type(last_hidden_states))\n",
    "print(np.size(last_hidden_states))"
   ]
  },
  {
   "cell_type": "code",
   "execution_count": 25,
   "id": "a619a2f3",
   "metadata": {
    "execution": {
     "iopub.execute_input": "2022-04-15T10:39:08.720467Z",
     "iopub.status.busy": "2022-04-15T10:39:08.719854Z",
     "iopub.status.idle": "2022-04-15T10:39:08.726472Z",
     "shell.execute_reply": "2022-04-15T10:39:08.725947Z",
     "shell.execute_reply.started": "2022-04-15T10:32:02.648860Z"
    },
    "papermill": {
     "duration": 0.066106,
     "end_time": "2022-04-15T10:39:08.726615",
     "exception": false,
     "start_time": "2022-04-15T10:39:08.660509",
     "status": "completed"
    },
    "tags": []
   },
   "outputs": [
    {
     "name": "stdout",
     "output_type": "stream",
     "text": [
      "<class 'numpy.ndarray'>\n",
      "(1000, 768)\n"
     ]
    }
   ],
   "source": [
    "features = last_hidden_states[0][:,0,:].numpy()\n",
    "print(type(features))\n",
    "print(features.shape)"
   ]
  },
  {
   "cell_type": "markdown",
   "id": "c56f1596",
   "metadata": {
    "papermill": {
     "duration": 0.056635,
     "end_time": "2022-04-15T10:39:08.840581",
     "exception": false,
     "start_time": "2022-04-15T10:39:08.783946",
     "status": "completed"
    },
    "tags": []
   },
   "source": [
    "# Logistic Regression\n",
    "\n",
    "### Test set (Train test split)"
   ]
  },
  {
   "cell_type": "code",
   "execution_count": 26,
   "id": "8194116b",
   "metadata": {
    "execution": {
     "iopub.execute_input": "2022-04-15T10:39:08.962285Z",
     "iopub.status.busy": "2022-04-15T10:39:08.961560Z",
     "iopub.status.idle": "2022-04-15T10:39:08.972788Z",
     "shell.execute_reply": "2022-04-15T10:39:08.973501Z",
     "shell.execute_reply.started": "2022-04-15T10:32:02.662267Z"
    },
    "papermill": {
     "duration": 0.075955,
     "end_time": "2022-04-15T10:39:08.973743",
     "exception": false,
     "start_time": "2022-04-15T10:39:08.897788",
     "status": "completed"
    },
    "tags": []
   },
   "outputs": [
    {
     "name": "stdout",
     "output_type": "stream",
     "text": [
      "type: <class 'numpy.ndarray'> <class 'numpy.ndarray'>\n",
      "train_feature_size (750, 768)\n",
      "test_feature_size (250, 768)\n",
      "train_labels_size (750,)\n",
      "test_labels_size (250,)\n"
     ]
    }
   ],
   "source": [
    "train_features, test_features, train_labels, test_labels = train_test_split(features, y_list, test_size=0.25)\n",
    "print(\"type:\", type(train_features), type(train_labels))\n",
    "print(\"train_feature_size\", train_features.shape)\n",
    "print(\"test_feature_size\", test_features.shape)\n",
    "print(\"train_labels_size\", train_labels.shape)\n",
    "print(\"test_labels_size\", test_labels.shape)"
   ]
  },
  {
   "cell_type": "markdown",
   "id": "5d6f546f",
   "metadata": {
    "papermill": {
     "duration": 0.058297,
     "end_time": "2022-04-15T10:39:09.089940",
     "exception": false,
     "start_time": "2022-04-15T10:39:09.031643",
     "status": "completed"
    },
    "tags": []
   },
   "source": [
    "## Logistic regression"
   ]
  },
  {
   "cell_type": "code",
   "execution_count": 27,
   "id": "8b1edcd6",
   "metadata": {
    "execution": {
     "iopub.execute_input": "2022-04-15T10:39:09.208443Z",
     "iopub.status.busy": "2022-04-15T10:39:09.207785Z",
     "iopub.status.idle": "2022-04-15T10:39:13.788186Z",
     "shell.execute_reply": "2022-04-15T10:39:13.789213Z",
     "shell.execute_reply.started": "2022-04-15T10:32:02.712438Z"
    },
    "papermill": {
     "duration": 4.641779,
     "end_time": "2022-04-15T10:39:13.789507",
     "exception": false,
     "start_time": "2022-04-15T10:39:09.147728",
     "status": "completed"
    },
    "tags": []
   },
   "outputs": [
    {
     "name": "stderr",
     "output_type": "stream",
     "text": [
      "/opt/conda/lib/python3.7/site-packages/sklearn/linear_model/_sag.py:354: ConvergenceWarning: The max_iter was reached which means the coef_ did not converge\n",
      "  ConvergenceWarning,\n"
     ]
    },
    {
     "data": {
      "text/plain": [
       "1.0"
      ]
     },
     "execution_count": 27,
     "metadata": {},
     "output_type": "execute_result"
    }
   ],
   "source": [
    "lr_clf = LogisticRegression(C=10, solver='sag', multi_class=\"multinomial\", max_iter=200)\n",
    "lr_clf.fit(train_features, train_labels)\n",
    "lr_clf.score(train_features, train_labels)"
   ]
  },
  {
   "cell_type": "markdown",
   "id": "c5221aa6",
   "metadata": {
    "papermill": {
     "duration": 0.059076,
     "end_time": "2022-04-15T10:39:13.957301",
     "exception": false,
     "start_time": "2022-04-15T10:39:13.898225",
     "status": "completed"
    },
    "tags": []
   },
   "source": [
    "## Evaluation"
   ]
  },
  {
   "cell_type": "code",
   "execution_count": 28,
   "id": "f6b54217",
   "metadata": {
    "execution": {
     "iopub.execute_input": "2022-04-15T10:39:14.087524Z",
     "iopub.status.busy": "2022-04-15T10:39:14.086428Z",
     "iopub.status.idle": "2022-04-15T10:39:14.090695Z",
     "shell.execute_reply": "2022-04-15T10:39:14.091609Z",
     "shell.execute_reply.started": "2022-04-15T10:32:07.242122Z"
    },
    "papermill": {
     "duration": 0.073897,
     "end_time": "2022-04-15T10:39:14.091899",
     "exception": false,
     "start_time": "2022-04-15T10:39:14.018002",
     "status": "completed"
    },
    "tags": []
   },
   "outputs": [
    {
     "data": {
      "text/plain": [
       "0.944"
      ]
     },
     "execution_count": 28,
     "metadata": {},
     "output_type": "execute_result"
    }
   ],
   "source": [
    "lr_clf.score(test_features, test_labels)"
   ]
  },
  {
   "cell_type": "code",
   "execution_count": 29,
   "id": "3f93d52c",
   "metadata": {
    "execution": {
     "iopub.execute_input": "2022-04-15T10:39:14.270027Z",
     "iopub.status.busy": "2022-04-15T10:39:14.268757Z",
     "iopub.status.idle": "2022-04-15T10:39:14.275686Z",
     "shell.execute_reply": "2022-04-15T10:39:14.274694Z",
     "shell.execute_reply.started": "2022-04-15T10:32:07.270335Z"
    },
    "papermill": {
     "duration": 0.072306,
     "end_time": "2022-04-15T10:39:14.275923",
     "exception": false,
     "start_time": "2022-04-15T10:39:14.203617",
     "status": "completed"
    },
    "tags": []
   },
   "outputs": [],
   "source": [
    "preds = lr_clf.predict(test_features)"
   ]
  },
  {
   "cell_type": "code",
   "execution_count": 30,
   "id": "ac2dda8e",
   "metadata": {
    "execution": {
     "iopub.execute_input": "2022-04-15T10:39:14.453084Z",
     "iopub.status.busy": "2022-04-15T10:39:14.452425Z",
     "iopub.status.idle": "2022-04-15T10:39:14.454970Z",
     "shell.execute_reply": "2022-04-15T10:39:14.455507Z",
     "shell.execute_reply.started": "2022-04-15T10:32:07.288367Z"
    },
    "papermill": {
     "duration": 0.069262,
     "end_time": "2022-04-15T10:39:14.455682",
     "exception": false,
     "start_time": "2022-04-15T10:39:14.386420",
     "status": "completed"
    },
    "tags": []
   },
   "outputs": [
    {
     "name": "stdout",
     "output_type": "stream",
     "text": [
      "<class 'numpy.ndarray'>\n"
     ]
    }
   ],
   "source": [
    "print(type(preds))"
   ]
  },
  {
   "cell_type": "code",
   "execution_count": 31,
   "id": "84008064",
   "metadata": {
    "execution": {
     "iopub.execute_input": "2022-04-15T10:39:14.581968Z",
     "iopub.status.busy": "2022-04-15T10:39:14.581271Z",
     "iopub.status.idle": "2022-04-15T10:39:14.591283Z",
     "shell.execute_reply": "2022-04-15T10:39:14.591837Z",
     "shell.execute_reply.started": "2022-04-15T10:32:07.304355Z"
    },
    "papermill": {
     "duration": 0.076343,
     "end_time": "2022-04-15T10:39:14.592015",
     "exception": false,
     "start_time": "2022-04-15T10:39:14.515672",
     "status": "completed"
    },
    "tags": []
   },
   "outputs": [],
   "source": [
    "pd.DataFrame(preds).to_csv(\"preds.csv\")"
   ]
  },
  {
   "cell_type": "code",
   "execution_count": 32,
   "id": "21f2f39d",
   "metadata": {
    "execution": {
     "iopub.execute_input": "2022-04-15T10:39:14.713973Z",
     "iopub.status.busy": "2022-04-15T10:39:14.712906Z",
     "iopub.status.idle": "2022-04-15T10:39:14.718914Z",
     "shell.execute_reply": "2022-04-15T10:39:14.719467Z",
     "shell.execute_reply.started": "2022-04-15T10:32:07.326114Z"
    },
    "papermill": {
     "duration": 0.068751,
     "end_time": "2022-04-15T10:39:14.719650",
     "exception": false,
     "start_time": "2022-04-15T10:39:14.650899",
     "status": "completed"
    },
    "tags": []
   },
   "outputs": [],
   "source": [
    "pd.DataFrame(test_labels).to_csv(\"Actuals.csv\")"
   ]
  },
  {
   "cell_type": "markdown",
   "id": "85d9bb6c",
   "metadata": {
    "papermill": {
     "duration": 0.059656,
     "end_time": "2022-04-15T10:39:14.839879",
     "exception": false,
     "start_time": "2022-04-15T10:39:14.780223",
     "status": "completed"
    },
    "tags": []
   },
   "source": [
    "### Confusion Matrix and F1 Score"
   ]
  },
  {
   "cell_type": "code",
   "execution_count": 33,
   "id": "48beb3eb",
   "metadata": {
    "execution": {
     "iopub.execute_input": "2022-04-15T10:39:14.962352Z",
     "iopub.status.busy": "2022-04-15T10:39:14.961703Z",
     "iopub.status.idle": "2022-04-15T10:39:14.964950Z",
     "shell.execute_reply": "2022-04-15T10:39:14.965500Z",
     "shell.execute_reply.started": "2022-04-15T10:32:07.337305Z"
    },
    "papermill": {
     "duration": 0.066806,
     "end_time": "2022-04-15T10:39:14.965674",
     "exception": false,
     "start_time": "2022-04-15T10:39:14.898868",
     "status": "completed"
    },
    "tags": []
   },
   "outputs": [],
   "source": [
    "from sklearn.metrics import confusion_matrix\n",
    "from sklearn.metrics import f1_score"
   ]
  },
  {
   "cell_type": "code",
   "execution_count": 34,
   "id": "105fc982",
   "metadata": {
    "execution": {
     "iopub.execute_input": "2022-04-15T10:39:15.091358Z",
     "iopub.status.busy": "2022-04-15T10:39:15.090586Z",
     "iopub.status.idle": "2022-04-15T10:39:15.099842Z",
     "shell.execute_reply": "2022-04-15T10:39:15.100481Z",
     "shell.execute_reply.started": "2022-04-15T10:32:07.353153Z"
    },
    "papermill": {
     "duration": 0.076283,
     "end_time": "2022-04-15T10:39:15.100670",
     "exception": false,
     "start_time": "2022-04-15T10:39:15.024387",
     "status": "completed"
    },
    "tags": []
   },
   "outputs": [
    {
     "name": "stdout",
     "output_type": "stream",
     "text": [
      "0.9439540672132823\n",
      "0.944\n",
      "0.939890394067467\n"
     ]
    }
   ],
   "source": [
    "f1_scr_weighted = f1_score(test_labels, preds, average='weighted')\n",
    "print(f1_scr_weighted)\n",
    "f1_scr_micro = f1_score(test_labels, preds, average='micro')\n",
    "print(f1_scr_micro)\n",
    "f1_scr_macro = f1_score(test_labels, preds, average='macro')\n",
    "print(f1_scr_macro)"
   ]
  },
  {
   "cell_type": "code",
   "execution_count": 35,
   "id": "bf4a5987",
   "metadata": {
    "execution": {
     "iopub.execute_input": "2022-04-15T10:39:15.248332Z",
     "iopub.status.busy": "2022-04-15T10:39:15.247666Z",
     "iopub.status.idle": "2022-04-15T10:39:15.258478Z",
     "shell.execute_reply": "2022-04-15T10:39:15.259063Z",
     "shell.execute_reply.started": "2022-04-15T10:32:07.384200Z"
    },
    "papermill": {
     "duration": 0.081928,
     "end_time": "2022-04-15T10:39:15.259278",
     "exception": false,
     "start_time": "2022-04-15T10:39:15.177350",
     "status": "completed"
    },
    "tags": []
   },
   "outputs": [
    {
     "data": {
      "text/plain": [
       "check balance           146\n",
       "get branch hours        135\n",
       "replace card            127\n",
       "pay bill                126\n",
       "order checks            122\n",
       "schedule appointment    119\n",
       "reset password          113\n",
       "transfer money          112\n",
       "Name: tasks, dtype: int64"
      ]
     },
     "execution_count": 35,
     "metadata": {},
     "output_type": "execute_result"
    }
   ],
   "source": [
    "df['tasks'].value_counts()"
   ]
  },
  {
   "cell_type": "code",
   "execution_count": 36,
   "id": "1452fc3f",
   "metadata": {
    "execution": {
     "iopub.execute_input": "2022-04-15T10:39:15.383358Z",
     "iopub.status.busy": "2022-04-15T10:39:15.382718Z",
     "iopub.status.idle": "2022-04-15T10:39:15.392762Z",
     "shell.execute_reply": "2022-04-15T10:39:15.393291Z",
     "shell.execute_reply.started": "2022-04-15T10:32:07.399418Z"
    },
    "papermill": {
     "duration": 0.073663,
     "end_time": "2022-04-15T10:39:15.393463",
     "exception": false,
     "start_time": "2022-04-15T10:39:15.319800",
     "status": "completed"
    },
    "tags": []
   },
   "outputs": [],
   "source": [
    "cm = confusion_matrix(test_labels, preds)\n",
    "cm_df = pd.DataFrame(cm, \n",
    "                    index = ['check balance', 'get branch hours', 'replace card', 'pay bill', 'order checks', 'schedule appointment', 'reset password', 'transfer money'],\n",
    "                    columns = ['check balance', 'get branch hours', 'replace card', 'pay bill', 'order checks', 'schedule appointment', 'reset password', 'transfer money'])"
   ]
  },
  {
   "cell_type": "code",
   "execution_count": 37,
   "id": "b0b4449a",
   "metadata": {
    "execution": {
     "iopub.execute_input": "2022-04-15T10:39:15.516033Z",
     "iopub.status.busy": "2022-04-15T10:39:15.515406Z",
     "iopub.status.idle": "2022-04-15T10:39:16.284728Z",
     "shell.execute_reply": "2022-04-15T10:39:16.284184Z",
     "shell.execute_reply.started": "2022-04-15T10:32:07.412877Z"
    },
    "papermill": {
     "duration": 0.831928,
     "end_time": "2022-04-15T10:39:16.284900",
     "exception": false,
     "start_time": "2022-04-15T10:39:15.452972",
     "status": "completed"
    },
    "tags": []
   },
   "outputs": [
    {
     "data": {
      "image/png": "[encoded data removed]",
      "text/plain": [
       "<Figure size 720x648 with 2 Axes>"
      ]
     },
     "metadata": {
      "needs_background": "light"
     },
     "output_type": "display_data"
    }
   ],
   "source": [
    "plt.figure(figsize=(10,9))\n",
    "sns.heatmap(cm_df, annot=True)\n",
    "plt.title(\"Confusion Matrix\")\n",
    "plt.ylabel(\"Actual Values\")\n",
    "plt.xlabel(\"Predicted Values\")\n",
    "plt.savefig(\"Confusion_matrix\")\n",
    "plt.show()"
   ]
  },
  {
   "cell_type": "markdown",
   "id": "cfd686c0",
   "metadata": {
    "papermill": {
     "duration": 0.061952,
     "end_time": "2022-04-15T10:39:16.408557",
     "exception": false,
     "start_time": "2022-04-15T10:39:16.346605",
     "status": "completed"
    },
    "tags": []
   },
   "source": []
  }
 ],
 "metadata": {
  "kernelspec": {
   "display_name": "Python 3",
   "language": "python",
   "name": "python3"
  },
  "language_info": {
   "codemirror_mode": {
    "name": "ipython",
    "version": 3
   },
   "file_extension": ".py",
   "mimetype": "text/x-python",
   "name": "python",
   "nbconvert_exporter": "python",
   "pygments_lexer": "ipython3",
   "version": "3.7.12"
  },
  "papermill": {
   "default_parameters": {},
   "duration": 178.843453,
   "end_time": "2022-04-15T10:39:19.087415",
   "environment_variables": {},
   "exception": null,
   "input_path": "__notebook__.ipynb",
   "output_path": "__notebook__.ipynb",
   "parameters": {},
   "start_time": "2022-04-15T10:36:20.243962",
   "version": "2.3.3"
  },
  "widgets": {
   "application/vnd.jupyter.widget-state+json": {
    "state": {
     "03b88ccdf7b5485a80774bb5b2516dce": {
      "model_module": "@jupyter-widgets/base",
      "model_module_version": "1.2.0",
      "model_name": "LayoutModel",
      "state": {
       "_model_module": "@jupyter-widgets/base",
       "_model_module_version": "1.2.0",
       "_model_name": "LayoutModel",
       "_view_count": null,
       "_view_module": "@jupyter-widgets/base",
       "_view_module_version": "1.2.0",
       "_view_name": "LayoutView",
       "align_content": null,
       "align_items": null,
       "align_self": null,
       "border": null,
       "bottom": null,
       "display": null,
       "flex": null,
       "flex_flow": null,
       "grid_area": null,
       "grid_auto_columns": null,
       "grid_auto_flow": null,
       "grid_auto_rows": null,
       "grid_column": null,
       "grid_gap": null,
       "grid_row": null,
       "grid_template_areas": null,
       "grid_template_columns": null,
       "grid_template_rows": null,
       "height": null,
       "justify_content": null,
       "justify_items": null,
       "left": null,
       "margin": null,
       "max_height": null,
       "max_width": null,
       "min_height": null,
       "min_width": null,
       "object_fit": null,
       "object_position": null,
       "order": null,
       "overflow": null,
       "overflow_x": null,
       "overflow_y": null,
       "padding": null,
       "right": null,
       "top": null,
       "visibility": null,
       "width": null
      }
     },
     "0749ea03f3364f5992c3f7b9c3ad69a4": {
      "model_module": "@jupyter-widgets/controls",
      "model_module_version": "1.5.0",
      "model_name": "DescriptionStyleModel",
      "state": {
       "_model_module": "@jupyter-widgets/controls",
       "_model_module_version": "1.5.0",
       "_model_name": "DescriptionStyleModel",
       "_view_count": null,
       "_view_module": "@jupyter-widgets/base",
       "_view_module_version": "1.2.0",
       "_view_name": "StyleView",
       "description_width": ""
      }
     },
     "092e8dbbff534a40baf543bbd0edc13d": {
      "model_module": "@jupyter-widgets/controls",
      "model_module_version": "1.5.0",
      "model_name": "DescriptionStyleModel",
      "state": {
       "_model_module": "@jupyter-widgets/controls",
       "_model_module_version": "1.5.0",
       "_model_name": "DescriptionStyleModel",
       "_view_count": null,
       "_view_module": "@jupyter-widgets/base",
       "_view_module_version": "1.2.0",
       "_view_name": "StyleView",
       "description_width": ""
      }
     },
     "0d916beacc73452b8f998c15ed3370dd": {
      "model_module": "@jupyter-widgets/base",
      "model_module_version": "1.2.0",
      "model_name": "LayoutModel",
      "state": {
       "_model_module": "@jupyter-widgets/base",
       "_model_module_version": "1.2.0",
       "_model_name": "LayoutModel",
       "_view_count": null,
       "_view_module": "@jupyter-widgets/base",
       "_view_module_version": "1.2.0",
       "_view_name": "LayoutView",
       "align_content": null,
       "align_items": null,
       "align_self": null,
       "border": null,
       "bottom": null,
       "display": null,
       "flex": null,
       "flex_flow": null,
       "grid_area": null,
       "grid_auto_columns": null,
       "grid_auto_flow": null,
       "grid_auto_rows": null,
       "grid_column": null,
       "grid_gap": null,
       "grid_row": null,
       "grid_template_areas": null,
       "grid_template_columns": null,
       "grid_template_rows": null,
       "height": null,
       "justify_content": null,
       "justify_items": null,
       "left": null,
       "margin": null,
       "max_height": null,
       "max_width": null,
       "min_height": null,
       "min_width": null,
       "object_fit": null,
       "object_position": null,
       "order": null,
       "overflow": null,
       "overflow_x": null,
       "overflow_y": null,
       "padding": null,
       "right": null,
       "top": null,
       "visibility": null,
       "width": null
      }
     },
     "10b7a5c2c94f49edb589069c51d2367d": {
      "model_module": "@jupyter-widgets/controls",
      "model_module_version": "1.5.0",
      "model_name": "HBoxModel",
      "state": {
       "_dom_classes": [],
       "_model_module": "@jupyter-widgets/controls",
       "_model_module_version": "1.5.0",
       "_model_name": "HBoxModel",
       "_view_count": null,
       "_view_module": "@jupyter-widgets/controls",
       "_view_module_version": "1.5.0",
       "_view_name": "HBoxView",
       "box_style": "",
       "children": [
        "IPY_MODEL_bb5e22d3a62243fdb780684f1781e7b7",
        "IPY_MODEL_6bbeabd66412414b9b61711f612fd3d0",
        "IPY_MODEL_7df72950d8ab412ab8af0f6c8d46bb6a"
       ],
       "layout": "IPY_MODEL_495c083145074a38adaf471ab49c52a8"
      }
     },
     "13e25fa4722d4ebca14cc3f2d0d721f9": {
      "model_module": "@jupyter-widgets/controls",
      "model_module_version": "1.5.0",
      "model_name": "HTMLModel",
      "state": {
       "_dom_classes": [],
       "_model_module": "@jupyter-widgets/controls",
       "_model_module_version": "1.5.0",
       "_model_name": "HTMLModel",
       "_view_count": null,
       "_view_module": "@jupyter-widgets/controls",
       "_view_module_version": "1.5.0",
       "_view_name": "HTMLView",
       "description": "",
       "description_tooltip": null,
       "layout": "IPY_MODEL_c2158bd662b74e3d90b307449218ea30",
       "placeholder": "​",
       "style": "IPY_MODEL_6911469166c84a358f7cd956b5849be0",
       "value": " 226k/226k [00:00&lt;00:00, 268kB/s]"
      }
     },
     "14928c7774184bec84fc6c9a83933235": {
      "model_module": "@jupyter-widgets/controls",
      "model_module_version": "1.5.0",
      "model_name": "FloatProgressModel",
      "state": {
       "_dom_classes": [],
       "_model_module": "@jupyter-widgets/controls",
       "_model_module_version": "1.5.0",
       "_model_name": "FloatProgressModel",
       "_view_count": null,
       "_view_module": "@jupyter-widgets/controls",
       "_view_module_version": "1.5.0",
       "_view_name": "ProgressView",
       "bar_style": "success",
       "description": "",
       "description_tooltip": null,
       "layout": "IPY_MODEL_4af71d403ba1457ba7dc3fef9dd46492",
       "max": 466062.0,
       "min": 0.0,
       "orientation": "horizontal",
       "style": "IPY_MODEL_ada8fa40d7c34f43bba78a7378336de9",
       "value": 466062.0
      }
     },
     "17bca55d215744e985628eb0514c9207": {
      "model_module": "@jupyter-widgets/controls",
      "model_module_version": "1.5.0",
      "model_name": "HTMLModel",
      "state": {
       "_dom_classes": [],
       "_model_module": "@jupyter-widgets/controls",
       "_model_module_version": "1.5.0",
       "_model_name": "HTMLModel",
       "_view_count": null,
       "_view_module": "@jupyter-widgets/controls",
       "_view_module_version": "1.5.0",
       "_view_name": "HTMLView",
       "description": "",
       "description_tooltip": null,
       "layout": "IPY_MODEL_0d916beacc73452b8f998c15ed3370dd",
       "placeholder": "​",
       "style": "IPY_MODEL_fec94e01a62a4753bf15e0c74f6a6402",
       "value": " 420M/420M [00:29&lt;00:00, 18.2MB/s]"
      }
     },
     "1a37cbca041245589254f68763fedb8d": {
      "model_module": "@jupyter-widgets/base",
      "model_module_version": "1.2.0",
      "model_name": "LayoutModel",
      "state": {
       "_model_module": "@jupyter-widgets/base",
       "_model_module_version": "1.2.0",
       "_model_name": "LayoutModel",
       "_view_count": null,
       "_view_module": "@jupyter-widgets/base",
       "_view_module_version": "1.2.0",
       "_view_name": "LayoutView",
       "align_content": null,
       "align_items": null,
       "align_self": null,
       "border": null,
       "bottom": null,
       "display": null,
       "flex": null,
       "flex_flow": null,
       "grid_area": null,
       "grid_auto_columns": null,
       "grid_auto_flow": null,
       "grid_auto_rows": null,
       "grid_column": null,
       "grid_gap": null,
       "grid_row": null,
       "grid_template_areas": null,
       "grid_template_columns": null,
       "grid_template_rows": null,
       "height": null,
       "justify_content": null,
       "justify_items": null,
       "left": null,
       "margin": null,
       "max_height": null,
       "max_width": null,
       "min_height": null,
       "min_width": null,
       "object_fit": null,
       "object_position": null,
       "order": null,
       "overflow": null,
       "overflow_x": null,
       "overflow_y": null,
       "padding": null,
       "right": null,
       "top": null,
       "visibility": null,
       "width": null
      }
     },
     "1a3fa8aac98b4cbaa11117407473f150": {
      "model_module": "@jupyter-widgets/controls",
      "model_module_version": "1.5.0",
      "model_name": "DescriptionStyleModel",
      "state": {
       "_model_module": "@jupyter-widgets/controls",
       "_model_module_version": "1.5.0",
       "_model_name": "DescriptionStyleModel",
       "_view_count": null,
       "_view_module": "@jupyter-widgets/base",
       "_view_module_version": "1.2.0",
       "_view_name": "StyleView",
       "description_width": ""
      }
     },
     "1cc7ccedff5344709df21aeae54238d6": {
      "model_module": "@jupyter-widgets/controls",
      "model_module_version": "1.5.0",
      "model_name": "DescriptionStyleModel",
      "state": {
       "_model_module": "@jupyter-widgets/controls",
       "_model_module_version": "1.5.0",
       "_model_name": "DescriptionStyleModel",
       "_view_count": null,
       "_view_module": "@jupyter-widgets/base",
       "_view_module_version": "1.2.0",
       "_view_name": "StyleView",
       "description_width": ""
      }
     },
     "20fb62622f20458a9a7bda787d19d115": {
      "model_module": "@jupyter-widgets/base",
      "model_module_version": "1.2.0",
      "model_name": "LayoutModel",
      "state": {
       "_model_module": "@jupyter-widgets/base",
       "_model_module_version": "1.2.0",
       "_model_name": "LayoutModel",
       "_view_count": null,
       "_view_module": "@jupyter-widgets/base",
       "_view_module_version": "1.2.0",
       "_view_name": "LayoutView",
       "align_content": null,
       "align_items": null,
       "align_self": null,
       "border": null,
       "bottom": null,
       "display": null,
       "flex": null,
       "flex_flow": null,
       "grid_area": null,
       "grid_auto_columns": null,
       "grid_auto_flow": null,
       "grid_auto_rows": null,
       "grid_column": null,
       "grid_gap": null,
       "grid_row": null,
       "grid_template_areas": null,
       "grid_template_columns": null,
       "grid_template_rows": null,
       "height": null,
       "justify_content": null,
       "justify_items": null,
       "left": null,
       "margin": null,
       "max_height": null,
       "max_width": null,
       "min_height": null,
       "min_width": null,
       "object_fit": null,
       "object_position": null,
       "order": null,
       "overflow": null,
       "overflow_x": null,
       "overflow_y": null,
       "padding": null,
       "right": null,
       "top": null,
       "visibility": null,
       "width": null
      }
     },
     "2496ee17d5264faab341c371dbc56d40": {
      "model_module": "@jupyter-widgets/base",
      "model_module_version": "1.2.0",
      "model_name": "LayoutModel",
      "state": {
       "_model_module": "@jupyter-widgets/base",
       "_model_module_version": "1.2.0",
       "_model_name": "LayoutModel",
       "_view_count": null,
       "_view_module": "@jupyter-widgets/base",
       "_view_module_version": "1.2.0",
       "_view_name": "LayoutView",
       "align_content": null,
       "align_items": null,
       "align_self": null,
       "border": null,
       "bottom": null,
       "display": null,
       "flex": null,
       "flex_flow": null,
       "grid_area": null,
       "grid_auto_columns": null,
       "grid_auto_flow": null,
       "grid_auto_rows": null,
       "grid_column": null,
       "grid_gap": null,
       "grid_row": null,
       "grid_template_areas": null,
       "grid_template_columns": null,
       "grid_template_rows": null,
       "height": null,
       "justify_content": null,
       "justify_items": null,
       "left": null,
       "margin": null,
       "max_height": null,
       "max_width": null,
       "min_height": null,
       "min_width": null,
       "object_fit": null,
       "object_position": null,
       "order": null,
       "overflow": null,
       "overflow_x": null,
       "overflow_y": null,
       "padding": null,
       "right": null,
       "top": null,
       "visibility": null,
       "width": null
      }
     },
     "25739cd4bdbd41978835d971f5ea8cf1": {
      "model_module": "@jupyter-widgets/base",
      "model_module_version": "1.2.0",
      "model_name": "LayoutModel",
      "state": {
       "_model_module": "@jupyter-widgets/base",
       "_model_module_version": "1.2.0",
       "_model_name": "LayoutModel",
       "_view_count": null,
       "_view_module": "@jupyter-widgets/base",
       "_view_module_version": "1.2.0",
       "_view_name": "LayoutView",
       "align_content": null,
       "align_items": null,
       "align_self": null,
       "border": null,
       "bottom": null,
       "display": null,
       "flex": null,
       "flex_flow": null,
       "grid_area": null,
       "grid_auto_columns": null,
       "grid_auto_flow": null,
       "grid_auto_rows": null,
       "grid_column": null,
       "grid_gap": null,
       "grid_row": null,
       "grid_template_areas": null,
       "grid_template_columns": null,
       "grid_template_rows": null,
       "height": null,
       "justify_content": null,
       "justify_items": null,
       "left": null,
       "margin": null,
       "max_height": null,
       "max_width": null,
       "min_height": null,
       "min_width": null,
       "object_fit": null,
       "object_position": null,
       "order": null,
       "overflow": null,
       "overflow_x": null,
       "overflow_y": null,
       "padding": null,
       "right": null,
       "top": null,
       "visibility": null,
       "width": null
      }
     },
     "269a4ad483664831bef2afdcb557fd23": {
      "model_module": "@jupyter-widgets/base",
      "model_module_version": "1.2.0",
      "model_name": "LayoutModel",
      "state": {
       "_model_module": "@jupyter-widgets/base",
       "_model_module_version": "1.2.0",
       "_model_name": "LayoutModel",
       "_view_count": null,
       "_view_module": "@jupyter-widgets/base",
       "_view_module_version": "1.2.0",
       "_view_name": "LayoutView",
       "align_content": null,
       "align_items": null,
       "align_self": null,
       "border": null,
       "bottom": null,
       "display": null,
       "flex": null,
       "flex_flow": null,
       "grid_area": null,
       "grid_auto_columns": null,
       "grid_auto_flow": null,
       "grid_auto_rows": null,
       "grid_column": null,
       "grid_gap": null,
       "grid_row": null,
       "grid_template_areas": null,
       "grid_template_columns": null,
       "grid_template_rows": null,
       "height": null,
       "justify_content": null,
       "justify_items": null,
       "left": null,
       "margin": null,
       "max_height": null,
       "max_width": null,
       "min_height": null,
       "min_width": null,
       "object_fit": null,
       "object_position": null,
       "order": null,
       "overflow": null,
       "overflow_x": null,
       "overflow_y": null,
       "padding": null,
       "right": null,
       "top": null,
       "visibility": null,
       "width": null
      }
     },
     "3807eb873a9e412b9fc983444f9df74d": {
      "model_module": "@jupyter-widgets/controls",
      "model_module_version": "1.5.0",
      "model_name": "FloatProgressModel",
      "state": {
       "_dom_classes": [],
       "_model_module": "@jupyter-widgets/controls",
       "_model_module_version": "1.5.0",
       "_model_name": "FloatProgressModel",
       "_view_count": null,
       "_view_module": "@jupyter-widgets/controls",
       "_view_module_version": "1.5.0",
       "_view_name": "ProgressView",
       "bar_style": "success",
       "description": "",
       "description_tooltip": null,
       "layout": "IPY_MODEL_e3ff65af57e44e01bf2560eb19ffbc29",
       "max": 440473133.0,
       "min": 0.0,
       "orientation": "horizontal",
       "style": "IPY_MODEL_59c29721729c4ac0902b5f7a67627099",
       "value": 440473133.0
      }
     },
     "495c083145074a38adaf471ab49c52a8": {
      "model_module": "@jupyter-widgets/base",
      "model_module_version": "1.2.0",
      "model_name": "LayoutModel",
      "state": {
       "_model_module": "@jupyter-widgets/base",
       "_model_module_version": "1.2.0",
       "_model_name": "LayoutModel",
       "_view_count": null,
       "_view_module": "@jupyter-widgets/base",
       "_view_module_version": "1.2.0",
       "_view_name": "LayoutView",
       "align_content": null,
       "align_items": null,
       "align_self": null,
       "border": null,
       "bottom": null,
       "display": null,
       "flex": null,
       "flex_flow": null,
       "grid_area": null,
       "grid_auto_columns": null,
       "grid_auto_flow": null,
       "grid_auto_rows": null,
       "grid_column": null,
       "grid_gap": null,
       "grid_row": null,
       "grid_template_areas": null,
       "grid_template_columns": null,
       "grid_template_rows": null,
       "height": null,
       "justify_content": null,
       "justify_items": null,
       "left": null,
       "margin": null,
       "max_height": null,
       "max_width": null,
       "min_height": null,
       "min_width": null,
       "object_fit": null,
       "object_position": null,
       "order": null,
       "overflow": null,
       "overflow_x": null,
       "overflow_y": null,
       "padding": null,
       "right": null,
       "top": null,
       "visibility": null,
       "width": null
      }
     },
     "4af71d403ba1457ba7dc3fef9dd46492": {
      "model_module": "@jupyter-widgets/base",
      "model_module_version": "1.2.0",
      "model_name": "LayoutModel",
      "state": {
       "_model_module": "@jupyter-widgets/base",
       "_model_module_version": "1.2.0",
       "_model_name": "LayoutModel",
       "_view_count": null,
       "_view_module": "@jupyter-widgets/base",
       "_view_module_version": "1.2.0",
       "_view_name": "LayoutView",
       "align_content": null,
       "align_items": null,
       "align_self": null,
       "border": null,
       "bottom": null,
       "display": null,
       "flex": null,
       "flex_flow": null,
       "grid_area": null,
       "grid_auto_columns": null,
       "grid_auto_flow": null,
       "grid_auto_rows": null,
       "grid_column": null,
       "grid_gap": null,
       "grid_row": null,
       "grid_template_areas": null,
       "grid_template_columns": null,
       "grid_template_rows": null,
       "height": null,
       "justify_content": null,
       "justify_items": null,
       "left": null,
       "margin": null,
       "max_height": null,
       "max_width": null,
       "min_height": null,
       "min_width": null,
       "object_fit": null,
       "object_position": null,
       "order": null,
       "overflow": null,
       "overflow_x": null,
       "overflow_y": null,
       "padding": null,
       "right": null,
       "top": null,
       "visibility": null,
       "width": null
      }
     },
     "500696b192fe4a0985e9c7372a17fd5a": {
      "model_module": "@jupyter-widgets/base",
      "model_module_version": "1.2.0",
      "model_name": "LayoutModel",
      "state": {
       "_model_module": "@jupyter-widgets/base",
       "_model_module_version": "1.2.0",
       "_model_name": "LayoutModel",
       "_view_count": null,
       "_view_module": "@jupyter-widgets/base",
       "_view_module_version": "1.2.0",
       "_view_name": "LayoutView",
       "align_content": null,
       "align_items": null,
       "align_self": null,
       "border": null,
       "bottom": null,
       "display": null,
       "flex": null,
       "flex_flow": null,
       "grid_area": null,
       "grid_auto_columns": null,
       "grid_auto_flow": null,
       "grid_auto_rows": null,
       "grid_column": null,
       "grid_gap": null,
       "grid_row": null,
       "grid_template_areas": null,
       "grid_template_columns": null,
       "grid_template_rows": null,
       "height": null,
       "justify_content": null,
       "justify_items": null,
       "left": null,
       "margin": null,
       "max_height": null,
       "max_width": null,
       "min_height": null,
       "min_width": null,
       "object_fit": null,
       "object_position": null,
       "order": null,
       "overflow": null,
       "overflow_x": null,
       "overflow_y": null,
       "padding": null,
       "right": null,
       "top": null,
       "visibility": null,
       "width": null
      }
     },
     "52f5c06ed3644a0fbb581f7efb4c6844": {
      "model_module": "@jupyter-widgets/controls",
      "model_module_version": "1.5.0",
      "model_name": "HBoxModel",
      "state": {
       "_dom_classes": [],
       "_model_module": "@jupyter-widgets/controls",
       "_model_module_version": "1.5.0",
       "_model_name": "HBoxModel",
       "_view_count": null,
       "_view_module": "@jupyter-widgets/controls",
       "_view_module_version": "1.5.0",
       "_view_name": "HBoxView",
       "box_style": "",
       "children": [
        "IPY_MODEL_a8d0d2518e1046e7a28d0d2a80daf69b",
        "IPY_MODEL_3807eb873a9e412b9fc983444f9df74d",
        "IPY_MODEL_17bca55d215744e985628eb0514c9207"
       ],
       "layout": "IPY_MODEL_2496ee17d5264faab341c371dbc56d40"
      }
     },
     "573ae87819c4428dbcc7af53f96a0599": {
      "model_module": "@jupyter-widgets/controls",
      "model_module_version": "1.5.0",
      "model_name": "ProgressStyleModel",
      "state": {
       "_model_module": "@jupyter-widgets/controls",
       "_model_module_version": "1.5.0",
       "_model_name": "ProgressStyleModel",
       "_view_count": null,
       "_view_module": "@jupyter-widgets/base",
       "_view_module_version": "1.2.0",
       "_view_name": "StyleView",
       "bar_color": null,
       "description_width": ""
      }
     },
     "59c29721729c4ac0902b5f7a67627099": {
      "model_module": "@jupyter-widgets/controls",
      "model_module_version": "1.5.0",
      "model_name": "ProgressStyleModel",
      "state": {
       "_model_module": "@jupyter-widgets/controls",
       "_model_module_version": "1.5.0",
       "_model_name": "ProgressStyleModel",
       "_view_count": null,
       "_view_module": "@jupyter-widgets/base",
       "_view_module_version": "1.2.0",
       "_view_name": "StyleView",
       "bar_color": null,
       "description_width": ""
      }
     },
     "59f9ad54ca704d99b8cb840839ee2a50": {
      "model_module": "@jupyter-widgets/base",
      "model_module_version": "1.2.0",
      "model_name": "LayoutModel",
      "state": {
       "_model_module": "@jupyter-widgets/base",
       "_model_module_version": "1.2.0",
       "_model_name": "LayoutModel",
       "_view_count": null,
       "_view_module": "@jupyter-widgets/base",
       "_view_module_version": "1.2.0",
       "_view_name": "LayoutView",
       "align_content": null,
       "align_items": null,
       "align_self": null,
       "border": null,
       "bottom": null,
       "display": null,
       "flex": null,
       "flex_flow": null,
       "grid_area": null,
       "grid_auto_columns": null,
       "grid_auto_flow": null,
       "grid_auto_rows": null,
       "grid_column": null,
       "grid_gap": null,
       "grid_row": null,
       "grid_template_areas": null,
       "grid_template_columns": null,
       "grid_template_rows": null,
       "height": null,
       "justify_content": null,
       "justify_items": null,
       "left": null,
       "margin": null,
       "max_height": null,
       "max_width": null,
       "min_height": null,
       "min_width": null,
       "object_fit": null,
       "object_position": null,
       "order": null,
       "overflow": null,
       "overflow_x": null,
       "overflow_y": null,
       "padding": null,
       "right": null,
       "top": null,
       "visibility": null,
       "width": null
      }
     },
     "62cbbb4bd32347f882c2af8e8e78e1fd": {
      "model_module": "@jupyter-widgets/base",
      "model_module_version": "1.2.0",
      "model_name": "LayoutModel",
      "state": {
       "_model_module": "@jupyter-widgets/base",
       "_model_module_version": "1.2.0",
       "_model_name": "LayoutModel",
       "_view_count": null,
       "_view_module": "@jupyter-widgets/base",
       "_view_module_version": "1.2.0",
       "_view_name": "LayoutView",
       "align_content": null,
       "align_items": null,
       "align_self": null,
       "border": null,
       "bottom": null,
       "display": null,
       "flex": null,
       "flex_flow": null,
       "grid_area": null,
       "grid_auto_columns": null,
       "grid_auto_flow": null,
       "grid_auto_rows": null,
       "grid_column": null,
       "grid_gap": null,
       "grid_row": null,
       "grid_template_areas": null,
       "grid_template_columns": null,
       "grid_template_rows": null,
       "height": null,
       "justify_content": null,
       "justify_items": null,
       "left": null,
       "margin": null,
       "max_height": null,
       "max_width": null,
       "min_height": null,
       "min_width": null,
       "object_fit": null,
       "object_position": null,
       "order": null,
       "overflow": null,
       "overflow_x": null,
       "overflow_y": null,
       "padding": null,
       "right": null,
       "top": null,
       "visibility": null,
       "width": null
      }
     },
     "6911469166c84a358f7cd956b5849be0": {
      "model_module": "@jupyter-widgets/controls",
      "model_module_version": "1.5.0",
      "model_name": "DescriptionStyleModel",
      "state": {
       "_model_module": "@jupyter-widgets/controls",
       "_model_module_version": "1.5.0",
       "_model_name": "DescriptionStyleModel",
       "_view_count": null,
       "_view_module": "@jupyter-widgets/base",
       "_view_module_version": "1.2.0",
       "_view_name": "StyleView",
       "description_width": ""
      }
     },
     "69fa6fc9bf494f14a666aa9c4926e844": {
      "model_module": "@jupyter-widgets/base",
      "model_module_version": "1.2.0",
      "model_name": "LayoutModel",
      "state": {
       "_model_module": "@jupyter-widgets/base",
       "_model_module_version": "1.2.0",
       "_model_name": "LayoutModel",
       "_view_count": null,
       "_view_module": "@jupyter-widgets/base",
       "_view_module_version": "1.2.0",
       "_view_name": "LayoutView",
       "align_content": null,
       "align_items": null,
       "align_self": null,
       "border": null,
       "bottom": null,
       "display": null,
       "flex": null,
       "flex_flow": null,
       "grid_area": null,
       "grid_auto_columns": null,
       "grid_auto_flow": null,
       "grid_auto_rows": null,
       "grid_column": null,
       "grid_gap": null,
       "grid_row": null,
       "grid_template_areas": null,
       "grid_template_columns": null,
       "grid_template_rows": null,
       "height": null,
       "justify_content": null,
       "justify_items": null,
       "left": null,
       "margin": null,
       "max_height": null,
       "max_width": null,
       "min_height": null,
       "min_width": null,
       "object_fit": null,
       "object_position": null,
       "order": null,
       "overflow": null,
       "overflow_x": null,
       "overflow_y": null,
       "padding": null,
       "right": null,
       "top": null,
       "visibility": null,
       "width": null
      }
     },
     "6bbeabd66412414b9b61711f612fd3d0": {
      "model_module": "@jupyter-widgets/controls",
      "model_module_version": "1.5.0",
      "model_name": "FloatProgressModel",
      "state": {
       "_dom_classes": [],
       "_model_module": "@jupyter-widgets/controls",
       "_model_module_version": "1.5.0",
       "_model_name": "FloatProgressModel",
       "_view_count": null,
       "_view_module": "@jupyter-widgets/controls",
       "_view_module_version": "1.5.0",
       "_view_name": "ProgressView",
       "bar_style": "success",
       "description": "",
       "description_tooltip": null,
       "layout": "IPY_MODEL_269a4ad483664831bef2afdcb557fd23",
       "max": 28.0,
       "min": 0.0,
       "orientation": "horizontal",
       "style": "IPY_MODEL_573ae87819c4428dbcc7af53f96a0599",
       "value": 28.0
      }
     },
     "6d14dc6ef8644e5e8df35f1dfefbc70f": {
      "model_module": "@jupyter-widgets/base",
      "model_module_version": "1.2.0",
      "model_name": "LayoutModel",
      "state": {
       "_model_module": "@jupyter-widgets/base",
       "_model_module_version": "1.2.0",
       "_model_name": "LayoutModel",
       "_view_count": null,
       "_view_module": "@jupyter-widgets/base",
       "_view_module_version": "1.2.0",
       "_view_name": "LayoutView",
       "align_content": null,
       "align_items": null,
       "align_self": null,
       "border": null,
       "bottom": null,
       "display": null,
       "flex": null,
       "flex_flow": null,
       "grid_area": null,
       "grid_auto_columns": null,
       "grid_auto_flow": null,
       "grid_auto_rows": null,
       "grid_column": null,
       "grid_gap": null,
       "grid_row": null,
       "grid_template_areas": null,
       "grid_template_columns": null,
       "grid_template_rows": null,
       "height": null,
       "justify_content": null,
       "justify_items": null,
       "left": null,
       "margin": null,
       "max_height": null,
       "max_width": null,
       "min_height": null,
       "min_width": null,
       "object_fit": null,
       "object_position": null,
       "order": null,
       "overflow": null,
       "overflow_x": null,
       "overflow_y": null,
       "padding": null,
       "right": null,
       "top": null,
       "visibility": null,
       "width": null
      }
     },
     "7661522920f942639fb1b237bb623994": {
      "model_module": "@jupyter-widgets/controls",
      "model_module_version": "1.5.0",
      "model_name": "ProgressStyleModel",
      "state": {
       "_model_module": "@jupyter-widgets/controls",
       "_model_module_version": "1.5.0",
       "_model_name": "ProgressStyleModel",
       "_view_count": null,
       "_view_module": "@jupyter-widgets/base",
       "_view_module_version": "1.2.0",
       "_view_name": "StyleView",
       "bar_color": null,
       "description_width": ""
      }
     },
     "774c01c6114a46d79e7ebcac2f5f7f24": {
      "model_module": "@jupyter-widgets/controls",
      "model_module_version": "1.5.0",
      "model_name": "HTMLModel",
      "state": {
       "_dom_classes": [],
       "_model_module": "@jupyter-widgets/controls",
       "_model_module_version": "1.5.0",
       "_model_name": "HTMLModel",
       "_view_count": null,
       "_view_module": "@jupyter-widgets/controls",
       "_view_module_version": "1.5.0",
       "_view_name": "HTMLView",
       "description": "",
       "description_tooltip": null,
       "layout": "IPY_MODEL_20fb62622f20458a9a7bda787d19d115",
       "placeholder": "​",
       "style": "IPY_MODEL_092e8dbbff534a40baf543bbd0edc13d",
       "value": "Downloading: 100%"
      }
     },
     "79bb005b0bf744cb922bb6ace1f0499c": {
      "model_module": "@jupyter-widgets/controls",
      "model_module_version": "1.5.0",
      "model_name": "HBoxModel",
      "state": {
       "_dom_classes": [],
       "_model_module": "@jupyter-widgets/controls",
       "_model_module_version": "1.5.0",
       "_model_name": "HBoxModel",
       "_view_count": null,
       "_view_module": "@jupyter-widgets/controls",
       "_view_module_version": "1.5.0",
       "_view_name": "HBoxView",
       "box_style": "",
       "children": [
        "IPY_MODEL_abda7c903e54467bb495ad398af9a8bc",
        "IPY_MODEL_bd4e2e8596c74c5f878cbe62defbd981",
        "IPY_MODEL_c95a8148c04743bd99366f2ee6c82401"
       ],
       "layout": "IPY_MODEL_500696b192fe4a0985e9c7372a17fd5a"
      }
     },
     "7ae71247f95d4f6f9f8e09d1a7c5ffb3": {
      "model_module": "@jupyter-widgets/controls",
      "model_module_version": "1.5.0",
      "model_name": "HBoxModel",
      "state": {
       "_dom_classes": [],
       "_model_module": "@jupyter-widgets/controls",
       "_model_module_version": "1.5.0",
       "_model_name": "HBoxModel",
       "_view_count": null,
       "_view_module": "@jupyter-widgets/controls",
       "_view_module_version": "1.5.0",
       "_view_name": "HBoxView",
       "box_style": "",
       "children": [
        "IPY_MODEL_f4d0f9b01f874ec6a2b70cc7fc12a047",
        "IPY_MODEL_b6c74c9f55994ea38073b43f65eed2a7",
        "IPY_MODEL_13e25fa4722d4ebca14cc3f2d0d721f9"
       ],
       "layout": "IPY_MODEL_6d14dc6ef8644e5e8df35f1dfefbc70f"
      }
     },
     "7df72950d8ab412ab8af0f6c8d46bb6a": {
      "model_module": "@jupyter-widgets/controls",
      "model_module_version": "1.5.0",
      "model_name": "HTMLModel",
      "state": {
       "_dom_classes": [],
       "_model_module": "@jupyter-widgets/controls",
       "_model_module_version": "1.5.0",
       "_model_name": "HTMLModel",
       "_view_count": null,
       "_view_module": "@jupyter-widgets/controls",
       "_view_module_version": "1.5.0",
       "_view_name": "HTMLView",
       "description": "",
       "description_tooltip": null,
       "layout": "IPY_MODEL_93fb02f66c754241a2f744b8250adcfe",
       "placeholder": "​",
       "style": "IPY_MODEL_a457b101b52f459d8f860bce83528304",
       "value": " 28.0/28.0 [00:00&lt;00:00, 900B/s]"
      }
     },
     "8fb0bac58c3a4fe58dfdb3ee56f0a6d6": {
      "model_module": "@jupyter-widgets/controls",
      "model_module_version": "1.5.0",
      "model_name": "DescriptionStyleModel",
      "state": {
       "_model_module": "@jupyter-widgets/controls",
       "_model_module_version": "1.5.0",
       "_model_name": "DescriptionStyleModel",
       "_view_count": null,
       "_view_module": "@jupyter-widgets/base",
       "_view_module_version": "1.2.0",
       "_view_name": "StyleView",
       "description_width": ""
      }
     },
     "93fb02f66c754241a2f744b8250adcfe": {
      "model_module": "@jupyter-widgets/base",
      "model_module_version": "1.2.0",
      "model_name": "LayoutModel",
      "state": {
       "_model_module": "@jupyter-widgets/base",
       "_model_module_version": "1.2.0",
       "_model_name": "LayoutModel",
       "_view_count": null,
       "_view_module": "@jupyter-widgets/base",
       "_view_module_version": "1.2.0",
       "_view_name": "LayoutView",
       "align_content": null,
       "align_items": null,
       "align_self": null,
       "border": null,
       "bottom": null,
       "display": null,
       "flex": null,
       "flex_flow": null,
       "grid_area": null,
       "grid_auto_columns": null,
       "grid_auto_flow": null,
       "grid_auto_rows": null,
       "grid_column": null,
       "grid_gap": null,
       "grid_row": null,
       "grid_template_areas": null,
       "grid_template_columns": null,
       "grid_template_rows": null,
       "height": null,
       "justify_content": null,
       "justify_items": null,
       "left": null,
       "margin": null,
       "max_height": null,
       "max_width": null,
       "min_height": null,
       "min_width": null,
       "object_fit": null,
       "object_position": null,
       "order": null,
       "overflow": null,
       "overflow_x": null,
       "overflow_y": null,
       "padding": null,
       "right": null,
       "top": null,
       "visibility": null,
       "width": null
      }
     },
     "948a85d1d32844bf9c8e109da05c54f0": {
      "model_module": "@jupyter-widgets/controls",
      "model_module_version": "1.5.0",
      "model_name": "DescriptionStyleModel",
      "state": {
       "_model_module": "@jupyter-widgets/controls",
       "_model_module_version": "1.5.0",
       "_model_name": "DescriptionStyleModel",
       "_view_count": null,
       "_view_module": "@jupyter-widgets/base",
       "_view_module_version": "1.2.0",
       "_view_name": "StyleView",
       "description_width": ""
      }
     },
     "a457b101b52f459d8f860bce83528304": {
      "model_module": "@jupyter-widgets/controls",
      "model_module_version": "1.5.0",
      "model_name": "DescriptionStyleModel",
      "state": {
       "_model_module": "@jupyter-widgets/controls",
       "_model_module_version": "1.5.0",
       "_model_name": "DescriptionStyleModel",
       "_view_count": null,
       "_view_module": "@jupyter-widgets/base",
       "_view_module_version": "1.2.0",
       "_view_name": "StyleView",
       "description_width": ""
      }
     },
     "a8d0d2518e1046e7a28d0d2a80daf69b": {
      "model_module": "@jupyter-widgets/controls",
      "model_module_version": "1.5.0",
      "model_name": "HTMLModel",
      "state": {
       "_dom_classes": [],
       "_model_module": "@jupyter-widgets/controls",
       "_model_module_version": "1.5.0",
       "_model_name": "HTMLModel",
       "_view_count": null,
       "_view_module": "@jupyter-widgets/controls",
       "_view_module_version": "1.5.0",
       "_view_name": "HTMLView",
       "description": "",
       "description_tooltip": null,
       "layout": "IPY_MODEL_03b88ccdf7b5485a80774bb5b2516dce",
       "placeholder": "​",
       "style": "IPY_MODEL_0749ea03f3364f5992c3f7b9c3ad69a4",
       "value": "Downloading: 100%"
      }
     },
     "abda7c903e54467bb495ad398af9a8bc": {
      "model_module": "@jupyter-widgets/controls",
      "model_module_version": "1.5.0",
      "model_name": "HTMLModel",
      "state": {
       "_dom_classes": [],
       "_model_module": "@jupyter-widgets/controls",
       "_model_module_version": "1.5.0",
       "_model_name": "HTMLModel",
       "_view_count": null,
       "_view_module": "@jupyter-widgets/controls",
       "_view_module_version": "1.5.0",
       "_view_name": "HTMLView",
       "description": "",
       "description_tooltip": null,
       "layout": "IPY_MODEL_25739cd4bdbd41978835d971f5ea8cf1",
       "placeholder": "​",
       "style": "IPY_MODEL_948a85d1d32844bf9c8e109da05c54f0",
       "value": "Downloading: 100%"
      }
     },
     "ada8fa40d7c34f43bba78a7378336de9": {
      "model_module": "@jupyter-widgets/controls",
      "model_module_version": "1.5.0",
      "model_name": "ProgressStyleModel",
      "state": {
       "_model_module": "@jupyter-widgets/controls",
       "_model_module_version": "1.5.0",
       "_model_name": "ProgressStyleModel",
       "_view_count": null,
       "_view_module": "@jupyter-widgets/base",
       "_view_module_version": "1.2.0",
       "_view_name": "StyleView",
       "bar_color": null,
       "description_width": ""
      }
     },
     "b2d672ffe9334ef2aac0e512e1eaaf28": {
      "model_module": "@jupyter-widgets/controls",
      "model_module_version": "1.5.0",
      "model_name": "HBoxModel",
      "state": {
       "_dom_classes": [],
       "_model_module": "@jupyter-widgets/controls",
       "_model_module_version": "1.5.0",
       "_model_name": "HBoxModel",
       "_view_count": null,
       "_view_module": "@jupyter-widgets/controls",
       "_view_module_version": "1.5.0",
       "_view_name": "HBoxView",
       "box_style": "",
       "children": [
        "IPY_MODEL_774c01c6114a46d79e7ebcac2f5f7f24",
        "IPY_MODEL_14928c7774184bec84fc6c9a83933235",
        "IPY_MODEL_f0b48e82119f4098be5672bd8ecaab5f"
       ],
       "layout": "IPY_MODEL_c77d8cb0d2e04f90827a1401d6b39a83"
      }
     },
     "b6c74c9f55994ea38073b43f65eed2a7": {
      "model_module": "@jupyter-widgets/controls",
      "model_module_version": "1.5.0",
      "model_name": "FloatProgressModel",
      "state": {
       "_dom_classes": [],
       "_model_module": "@jupyter-widgets/controls",
       "_model_module_version": "1.5.0",
       "_model_name": "FloatProgressModel",
       "_view_count": null,
       "_view_module": "@jupyter-widgets/controls",
       "_view_module_version": "1.5.0",
       "_view_name": "ProgressView",
       "bar_style": "success",
       "description": "",
       "description_tooltip": null,
       "layout": "IPY_MODEL_69fa6fc9bf494f14a666aa9c4926e844",
       "max": 231508.0,
       "min": 0.0,
       "orientation": "horizontal",
       "style": "IPY_MODEL_7661522920f942639fb1b237bb623994",
       "value": 231508.0
      }
     },
     "bb5e22d3a62243fdb780684f1781e7b7": {
      "model_module": "@jupyter-widgets/controls",
      "model_module_version": "1.5.0",
      "model_name": "HTMLModel",
      "state": {
       "_dom_classes": [],
       "_model_module": "@jupyter-widgets/controls",
       "_model_module_version": "1.5.0",
       "_model_name": "HTMLModel",
       "_view_count": null,
       "_view_module": "@jupyter-widgets/controls",
       "_view_module_version": "1.5.0",
       "_view_name": "HTMLView",
       "description": "",
       "description_tooltip": null,
       "layout": "IPY_MODEL_fe5a0ad1490e4b9aa5fe73db0b3f906d",
       "placeholder": "​",
       "style": "IPY_MODEL_1a3fa8aac98b4cbaa11117407473f150",
       "value": "Downloading: 100%"
      }
     },
     "bd4e2e8596c74c5f878cbe62defbd981": {
      "model_module": "@jupyter-widgets/controls",
      "model_module_version": "1.5.0",
      "model_name": "FloatProgressModel",
      "state": {
       "_dom_classes": [],
       "_model_module": "@jupyter-widgets/controls",
       "_model_module_version": "1.5.0",
       "_model_name": "FloatProgressModel",
       "_view_count": null,
       "_view_module": "@jupyter-widgets/controls",
       "_view_module_version": "1.5.0",
       "_view_name": "ProgressView",
       "bar_style": "success",
       "description": "",
       "description_tooltip": null,
       "layout": "IPY_MODEL_59f9ad54ca704d99b8cb840839ee2a50",
       "max": 570.0,
       "min": 0.0,
       "orientation": "horizontal",
       "style": "IPY_MODEL_f740bac1e7b04381b114e4c8aa226587",
       "value": 570.0
      }
     },
     "c1fa0e4887684ec991d9792c56c23c5f": {
      "model_module": "@jupyter-widgets/controls",
      "model_module_version": "1.5.0",
      "model_name": "DescriptionStyleModel",
      "state": {
       "_model_module": "@jupyter-widgets/controls",
       "_model_module_version": "1.5.0",
       "_model_name": "DescriptionStyleModel",
       "_view_count": null,
       "_view_module": "@jupyter-widgets/base",
       "_view_module_version": "1.2.0",
       "_view_name": "StyleView",
       "description_width": ""
      }
     },
     "c2158bd662b74e3d90b307449218ea30": {
      "model_module": "@jupyter-widgets/base",
      "model_module_version": "1.2.0",
      "model_name": "LayoutModel",
      "state": {
       "_model_module": "@jupyter-widgets/base",
       "_model_module_version": "1.2.0",
       "_model_name": "LayoutModel",
       "_view_count": null,
       "_view_module": "@jupyter-widgets/base",
       "_view_module_version": "1.2.0",
       "_view_name": "LayoutView",
       "align_content": null,
       "align_items": null,
       "align_self": null,
       "border": null,
       "bottom": null,
       "display": null,
       "flex": null,
       "flex_flow": null,
       "grid_area": null,
       "grid_auto_columns": null,
       "grid_auto_flow": null,
       "grid_auto_rows": null,
       "grid_column": null,
       "grid_gap": null,
       "grid_row": null,
       "grid_template_areas": null,
       "grid_template_columns": null,
       "grid_template_rows": null,
       "height": null,
       "justify_content": null,
       "justify_items": null,
       "left": null,
       "margin": null,
       "max_height": null,
       "max_width": null,
       "min_height": null,
       "min_width": null,
       "object_fit": null,
       "object_position": null,
       "order": null,
       "overflow": null,
       "overflow_x": null,
       "overflow_y": null,
       "padding": null,
       "right": null,
       "top": null,
       "visibility": null,
       "width": null
      }
     },
     "c77d8cb0d2e04f90827a1401d6b39a83": {
      "model_module": "@jupyter-widgets/base",
      "model_module_version": "1.2.0",
      "model_name": "LayoutModel",
      "state": {
       "_model_module": "@jupyter-widgets/base",
       "_model_module_version": "1.2.0",
       "_model_name": "LayoutModel",
       "_view_count": null,
       "_view_module": "@jupyter-widgets/base",
       "_view_module_version": "1.2.0",
       "_view_name": "LayoutView",
       "align_content": null,
       "align_items": null,
       "align_self": null,
       "border": null,
       "bottom": null,
       "display": null,
       "flex": null,
       "flex_flow": null,
       "grid_area": null,
       "grid_auto_columns": null,
       "grid_auto_flow": null,
       "grid_auto_rows": null,
       "grid_column": null,
       "grid_gap": null,
       "grid_row": null,
       "grid_template_areas": null,
       "grid_template_columns": null,
       "grid_template_rows": null,
       "height": null,
       "justify_content": null,
       "justify_items": null,
       "left": null,
       "margin": null,
       "max_height": null,
       "max_width": null,
       "min_height": null,
       "min_width": null,
       "object_fit": null,
       "object_position": null,
       "order": null,
       "overflow": null,
       "overflow_x": null,
       "overflow_y": null,
       "padding": null,
       "right": null,
       "top": null,
       "visibility": null,
       "width": null
      }
     },
     "c95a8148c04743bd99366f2ee6c82401": {
      "model_module": "@jupyter-widgets/controls",
      "model_module_version": "1.5.0",
      "model_name": "HTMLModel",
      "state": {
       "_dom_classes": [],
       "_model_module": "@jupyter-widgets/controls",
       "_model_module_version": "1.5.0",
       "_model_name": "HTMLModel",
       "_view_count": null,
       "_view_module": "@jupyter-widgets/controls",
       "_view_module_version": "1.5.0",
       "_view_name": "HTMLView",
       "description": "",
       "description_tooltip": null,
       "layout": "IPY_MODEL_1a37cbca041245589254f68763fedb8d",
       "placeholder": "​",
       "style": "IPY_MODEL_c1fa0e4887684ec991d9792c56c23c5f",
       "value": " 570/570 [00:00&lt;00:00, 18.3kB/s]"
      }
     },
     "e0b56cf808fe4d2f89e4e47b8723f1fe": {
      "model_module": "@jupyter-widgets/base",
      "model_module_version": "1.2.0",
      "model_name": "LayoutModel",
      "state": {
       "_model_module": "@jupyter-widgets/base",
       "_model_module_version": "1.2.0",
       "_model_name": "LayoutModel",
       "_view_count": null,
       "_view_module": "@jupyter-widgets/base",
       "_view_module_version": "1.2.0",
       "_view_name": "LayoutView",
       "align_content": null,
       "align_items": null,
       "align_self": null,
       "border": null,
       "bottom": null,
       "display": null,
       "flex": null,
       "flex_flow": null,
       "grid_area": null,
       "grid_auto_columns": null,
       "grid_auto_flow": null,
       "grid_auto_rows": null,
       "grid_column": null,
       "grid_gap": null,
       "grid_row": null,
       "grid_template_areas": null,
       "grid_template_columns": null,
       "grid_template_rows": null,
       "height": null,
       "justify_content": null,
       "justify_items": null,
       "left": null,
       "margin": null,
       "max_height": null,
       "max_width": null,
       "min_height": null,
       "min_width": null,
       "object_fit": null,
       "object_position": null,
       "order": null,
       "overflow": null,
       "overflow_x": null,
       "overflow_y": null,
       "padding": null,
       "right": null,
       "top": null,
       "visibility": null,
       "width": null
      }
     },
     "e3ff65af57e44e01bf2560eb19ffbc29": {
      "model_module": "@jupyter-widgets/base",
      "model_module_version": "1.2.0",
      "model_name": "LayoutModel",
      "state": {
       "_model_module": "@jupyter-widgets/base",
       "_model_module_version": "1.2.0",
       "_model_name": "LayoutModel",
       "_view_count": null,
       "_view_module": "@jupyter-widgets/base",
       "_view_module_version": "1.2.0",
       "_view_name": "LayoutView",
       "align_content": null,
       "align_items": null,
       "align_self": null,
       "border": null,
       "bottom": null,
       "display": null,
       "flex": null,
       "flex_flow": null,
       "grid_area": null,
       "grid_auto_columns": null,
       "grid_auto_flow": null,
       "grid_auto_rows": null,
       "grid_column": null,
       "grid_gap": null,
       "grid_row": null,
       "grid_template_areas": null,
       "grid_template_columns": null,
       "grid_template_rows": null,
       "height": null,
       "justify_content": null,
       "justify_items": null,
       "left": null,
       "margin": null,
       "max_height": null,
       "max_width": null,
       "min_height": null,
       "min_width": null,
       "object_fit": null,
       "object_position": null,
       "order": null,
       "overflow": null,
       "overflow_x": null,
       "overflow_y": null,
       "padding": null,
       "right": null,
       "top": null,
       "visibility": null,
       "width": null
      }
     },
     "f0b48e82119f4098be5672bd8ecaab5f": {
      "model_module": "@jupyter-widgets/controls",
      "model_module_version": "1.5.0",
      "model_name": "HTMLModel",
      "state": {
       "_dom_classes": [],
       "_model_module": "@jupyter-widgets/controls",
       "_model_module_version": "1.5.0",
       "_model_name": "HTMLModel",
       "_view_count": null,
       "_view_module": "@jupyter-widgets/controls",
       "_view_module_version": "1.5.0",
       "_view_name": "HTMLView",
       "description": "",
       "description_tooltip": null,
       "layout": "IPY_MODEL_62cbbb4bd32347f882c2af8e8e78e1fd",
       "placeholder": "​",
       "style": "IPY_MODEL_1cc7ccedff5344709df21aeae54238d6",
       "value": " 455k/455k [00:00&lt;00:00, 596kB/s]"
      }
     },
     "f4d0f9b01f874ec6a2b70cc7fc12a047": {
      "model_module": "@jupyter-widgets/controls",
      "model_module_version": "1.5.0",
      "model_name": "HTMLModel",
      "state": {
       "_dom_classes": [],
       "_model_module": "@jupyter-widgets/controls",
       "_model_module_version": "1.5.0",
       "_model_name": "HTMLModel",
       "_view_count": null,
       "_view_module": "@jupyter-widgets/controls",
       "_view_module_version": "1.5.0",
       "_view_name": "HTMLView",
       "description": "",
       "description_tooltip": null,
       "layout": "IPY_MODEL_e0b56cf808fe4d2f89e4e47b8723f1fe",
       "placeholder": "​",
       "style": "IPY_MODEL_8fb0bac58c3a4fe58dfdb3ee56f0a6d6",
       "value": "Downloading: 100%"
      }
     },
     "f740bac1e7b04381b114e4c8aa226587": {
      "model_module": "@jupyter-widgets/controls",
      "model_module_version": "1.5.0",
      "model_name": "ProgressStyleModel",
      "state": {
       "_model_module": "@jupyter-widgets/controls",
       "_model_module_version": "1.5.0",
       "_model_name": "ProgressStyleModel",
       "_view_count": null,
       "_view_module": "@jupyter-widgets/base",
       "_view_module_version": "1.2.0",
       "_view_name": "StyleView",
       "bar_color": null,
       "description_width": ""
      }
     },
     "fe5a0ad1490e4b9aa5fe73db0b3f906d": {
      "model_module": "@jupyter-widgets/base",
      "model_module_version": "1.2.0",
      "model_name": "LayoutModel",
      "state": {
       "_model_module": "@jupyter-widgets/base",
       "_model_module_version": "1.2.0",
       "_model_name": "LayoutModel",
       "_view_count": null,
       "_view_module": "@jupyter-widgets/base",
       "_view_module_version": "1.2.0",
       "_view_name": "LayoutView",
       "align_content": null,
       "align_items": null,
       "align_self": null,
       "border": null,
       "bottom": null,
       "display": null,
       "flex": null,
       "flex_flow": null,
       "grid_area": null,
       "grid_auto_columns": null,
       "grid_auto_flow": null,
       "grid_auto_rows": null,
       "grid_column": null,
       "grid_gap": null,
       "grid_row": null,
       "grid_template_areas": null,
       "grid_template_columns": null,
       "grid_template_rows": null,
       "height": null,
       "justify_content": null,
       "justify_items": null,
       "left": null,
       "margin": null,
       "max_height": null,
       "max_width": null,
       "min_height": null,
       "min_width": null,
       "object_fit": null,
       "object_position": null,
       "order": null,
       "overflow": null,
       "overflow_x": null,
       "overflow_y": null,
       "padding": null,
       "right": null,
       "top": null,
       "visibility": null,
       "width": null
      }
     },
     "fec94e01a62a4753bf15e0c74f6a6402": {
      "model_module": "@jupyter-widgets/controls",
      "model_module_version": "1.5.0",
      "model_name": "DescriptionStyleModel",
      "state": {
       "_model_module": "@jupyter-widgets/controls",
       "_model_module_version": "1.5.0",
       "_model_name": "DescriptionStyleModel",
       "_view_count": null,
       "_view_module": "@jupyter-widgets/base",
       "_view_module_version": "1.2.0",
       "_view_name": "StyleView",
       "description_width": ""
      }
     }
    },
    "version_major": 2,
    "version_minor": 0
   }
  }
 },
 "nbformat": 4,
 "nbformat_minor": 5
}
