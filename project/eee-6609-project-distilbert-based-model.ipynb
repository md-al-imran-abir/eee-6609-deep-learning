{
 "cells": [
  {
   "cell_type": "code",
   "execution_count": 1,
   "id": "b2b4dcd3",
   "metadata": {
    "_cell_guid": "b1076dfc-b9ad-4769-8c92-a6c4dae69d19",
    "_uuid": "8f2839f25d086af736a60e9eeb907d3b93b6e0e5",
    "execution": {
     "iopub.execute_input": "2022-04-15T10:44:17.410674Z",
     "iopub.status.busy": "2022-04-15T10:44:17.408880Z",
     "iopub.status.idle": "2022-04-15T10:44:20.433621Z",
     "shell.execute_reply": "2022-04-15T10:44:20.432759Z",
     "shell.execute_reply.started": "2022-04-15T10:42:06.772659Z"
    },
    "papermill": {
     "duration": 3.07582,
     "end_time": "2022-04-15T10:44:20.433834",
     "exception": false,
     "start_time": "2022-04-15T10:44:17.358014",
     "status": "completed"
    },
    "tags": []
   },
   "outputs": [],
   "source": [
    "import numpy as np # linear algebra\n",
    "import pandas as pd # data processing, CSV file I/O (e.g. pd.read_csv)\n",
    "\n",
    "import os\n",
    "import json\n",
    "\n",
    "import torch\n",
    "import transformers as ppb\n",
    "from sklearn.linear_model import LogisticRegression\n",
    "from sklearn.model_selection import cross_val_score\n",
    "from sklearn.model_selection import train_test_split\n",
    "\n",
    "import matplotlib.pyplot as plt\n",
    "import seaborn as sns"
   ]
  },
  {
   "cell_type": "markdown",
   "id": "0f5df438",
   "metadata": {
    "papermill": {
     "duration": 0.043879,
     "end_time": "2022-04-15T10:44:20.525550",
     "exception": false,
     "start_time": "2022-04-15T10:44:20.481671",
     "status": "completed"
    },
    "tags": []
   },
   "source": [
    "# Loading Transcript"
   ]
  },
  {
   "cell_type": "code",
   "execution_count": 2,
   "id": "f2097ac3",
   "metadata": {
    "execution": {
     "iopub.execute_input": "2022-04-15T10:44:20.619674Z",
     "iopub.status.busy": "2022-04-15T10:44:20.618665Z",
     "iopub.status.idle": "2022-04-15T10:44:24.210538Z",
     "shell.execute_reply": "2022-04-15T10:44:24.209844Z",
     "shell.execute_reply.started": "2022-04-15T10:42:06.812840Z"
    },
    "papermill": {
     "duration": 3.641204,
     "end_time": "2022-04-15T10:44:24.210681",
     "exception": false,
     "start_time": "2022-04-15T10:44:20.569477",
     "status": "completed"
    },
    "tags": []
   },
   "outputs": [],
   "source": [
    "all_trans = list()\n",
    "path_to_jsonfiles = \"../input/harpervalleydataset-transcript-only/HarperValleyDataset_transcript/HarperValley_transcript/\"\n",
    "for file in os.listdir(path_to_jsonfiles):\n",
    "    filename = \"%s%s\" % (path_to_jsonfiles, file)\n",
    "    with open(filename, 'r') as fi:\n",
    "        js_text = json.load(fi)\n",
    "        h_trans = [item[\"speaker_role\"] + \" \" + item[\"human_transcript\"] for item in js_text]\n",
    "        str_trans = ' '.join(str(item) for item in h_trans)\n",
    "        all_trans.append(str_trans)"
   ]
  },
  {
   "cell_type": "code",
   "execution_count": 3,
   "id": "1f2f7656",
   "metadata": {
    "execution": {
     "iopub.execute_input": "2022-04-15T10:44:24.306518Z",
     "iopub.status.busy": "2022-04-15T10:44:24.305813Z",
     "iopub.status.idle": "2022-04-15T10:44:24.309192Z",
     "shell.execute_reply": "2022-04-15T10:44:24.309914Z",
     "shell.execute_reply.started": "2022-04-15T10:42:09.663993Z"
    },
    "papermill": {
     "duration": 0.054941,
     "end_time": "2022-04-15T10:44:24.310244",
     "exception": false,
     "start_time": "2022-04-15T10:44:24.255303",
     "status": "completed"
    },
    "tags": []
   },
   "outputs": [
    {
     "name": "stdout",
     "output_type": "stream",
     "text": [
      "<class 'list'>\n",
      "1000\n",
      "[\"agent hello this is harper valley national bank my name is jennifer how can i help you today agent [noise] caller hi my name is james williams caller i would like to schedule an appointment agent sure i can help you with that james uh what day would you like for your appointment caller saturday agent okay agent and what time would you like for your appointment caller one fifteen p m agent [noise] agent [noise] agent alright uh james i'm scheduling your appointment for saturday at one fifteen p m uh is there anything else that i can help you with today caller no thank you that'll be everything today agent oh you're welcome thank you for calling and have a great day caller you too agent bye bye caller [noise]\", 'agent hello this is harper valley national bank my name is david agent how can i help you today caller hi my name is john rodriguez and i would like to reset my password agent what is your phone number caller my phone number is zero two one caller eight nine five caller three five three two agent could you repeat that caller zero two one caller eight nine five caller three five caller three two agent okay agent your password reset link has been sent to your phone agent is there anything else i can help you with caller um no that is it agent thank you for calling have a great day caller thank you you too', \"agent hello this is harper valley national bank my name is mary how can i help you today caller hi my name is elizabeth jones caller what are the local branch hours agent the branch hours are nine thirty a m until five p m agent is there anything else i can help you with caller no that's gonna be it for tonight thank you very much agent you're welcome thank you for calling have a great day caller you too\", 'agent hello this is harper valley national bank my name is mary how can i help you today caller hi my name is mary rodriguez caller i would like to schedule an appointment agent oh sure i can help you with that uh which day would you like for your appointment caller monday agent monday okay and what time would you like for your appointment caller eight forty five am agent eight forty five a m okay agent so your appointment has been scheduled for monday at eight forty five a m agent is there anything else i can help you with caller no that would be all thank you so much agent thank you for calling have a great day', \"agent hello this is harper valley national bank my name is john agent how can i help you today caller uh yes john my name is mary smith and i would like to schedule an appointment please agent alright you would like to schedule appointment agent um agent what day would you like for your appointment caller uh friday please agent friday agent and agent what time would you like for your appointment caller um i'd like to have that at twelve forty five p m agent you would like your appointment agent to be scheduled friday at twelve forty five agent pm is that right caller correct agent alright your appointment has been scheduled for friday at twelve forty five pm agent [noise] caller [noise] agent is there anything else i can help you with caller no i think that'll be all for today thank you agent thank you for calling have a great day caller yourself as well bye bye agent bye\"]\n"
     ]
    }
   ],
   "source": [
    "print(type(all_trans))\n",
    "print(len(all_trans))\n",
    "print(all_trans[:5])"
   ]
  },
  {
   "cell_type": "code",
   "execution_count": 4,
   "id": "33e827e7",
   "metadata": {
    "execution": {
     "iopub.execute_input": "2022-04-15T10:44:24.415065Z",
     "iopub.status.busy": "2022-04-15T10:44:24.405107Z",
     "iopub.status.idle": "2022-04-15T10:44:24.430395Z",
     "shell.execute_reply": "2022-04-15T10:44:24.429870Z",
     "shell.execute_reply.started": "2022-04-15T10:42:09.671147Z"
    },
    "papermill": {
     "duration": 0.073335,
     "end_time": "2022-04-15T10:44:24.430542",
     "exception": false,
     "start_time": "2022-04-15T10:44:24.357207",
     "status": "completed"
    },
    "tags": []
   },
   "outputs": [
    {
     "data": {
      "text/html": [
       "<div>\n",
       "<style scoped>\n",
       "    .dataframe tbody tr th:only-of-type {\n",
       "        vertical-align: middle;\n",
       "    }\n",
       "\n",
       "    .dataframe tbody tr th {\n",
       "        vertical-align: top;\n",
       "    }\n",
       "\n",
       "    .dataframe thead th {\n",
       "        text-align: right;\n",
       "    }\n",
       "</style>\n",
       "<table border=\"1\" class=\"dataframe\">\n",
       "  <thead>\n",
       "    <tr style=\"text-align: right;\">\n",
       "      <th></th>\n",
       "      <th>transcript</th>\n",
       "    </tr>\n",
       "  </thead>\n",
       "  <tbody>\n",
       "    <tr>\n",
       "      <th>995</th>\n",
       "      <td>agent hello this is harper valley national ban...</td>\n",
       "    </tr>\n",
       "    <tr>\n",
       "      <th>996</th>\n",
       "      <td>agent hello this is harper valley national ban...</td>\n",
       "    </tr>\n",
       "    <tr>\n",
       "      <th>997</th>\n",
       "      <td>agent hello agent this is harper valley nation...</td>\n",
       "    </tr>\n",
       "    <tr>\n",
       "      <th>998</th>\n",
       "      <td>agent hello this is agent hello this is harper...</td>\n",
       "    </tr>\n",
       "    <tr>\n",
       "      <th>999</th>\n",
       "      <td>agent [noise] agent hello this is harper valle...</td>\n",
       "    </tr>\n",
       "  </tbody>\n",
       "</table>\n",
       "</div>"
      ],
      "text/plain": [
       "                                            transcript\n",
       "995  agent hello this is harper valley national ban...\n",
       "996  agent hello this is harper valley national ban...\n",
       "997  agent hello agent this is harper valley nation...\n",
       "998  agent hello this is agent hello this is harper...\n",
       "999  agent [noise] agent hello this is harper valle..."
      ]
     },
     "execution_count": 4,
     "metadata": {},
     "output_type": "execute_result"
    }
   ],
   "source": [
    "df_x = pd.DataFrame(all_trans, columns = [\"transcript\"])\n",
    "df_x.tail()"
   ]
  },
  {
   "cell_type": "markdown",
   "id": "d6623bc1",
   "metadata": {
    "papermill": {
     "duration": 0.045066,
     "end_time": "2022-04-15T10:44:24.521446",
     "exception": false,
     "start_time": "2022-04-15T10:44:24.476380",
     "status": "completed"
    },
    "tags": []
   },
   "source": [
    "# Loading Labels"
   ]
  },
  {
   "cell_type": "code",
   "execution_count": 5,
   "id": "cdc6b6c7",
   "metadata": {
    "execution": {
     "iopub.execute_input": "2022-04-15T10:44:24.619244Z",
     "iopub.status.busy": "2022-04-15T10:44:24.618241Z",
     "iopub.status.idle": "2022-04-15T10:44:27.297452Z",
     "shell.execute_reply": "2022-04-15T10:44:27.298002Z",
     "shell.execute_reply.started": "2022-04-15T10:42:09.707321Z"
    },
    "papermill": {
     "duration": 2.731189,
     "end_time": "2022-04-15T10:44:27.298203",
     "exception": false,
     "start_time": "2022-04-15T10:44:24.567014",
     "status": "completed"
    },
    "tags": []
   },
   "outputs": [],
   "source": [
    "### Get the task list from metadata\n",
    "\n",
    "all_labels = list()\n",
    "path_to_matadat = \"../input/harpervalleydataset-transcript-only/HarperValleyDataset_metadata/metadata/\"\n",
    "for file in os.listdir(path_to_matadat):\n",
    "    filename = \"%s%s\" % (path_to_matadat, file)\n",
    "    with open(filename, 'r') as fi:\n",
    "        js_text = json.load(fi)\n",
    "        task = js_text[\"tasks\"][0][\"task_type\"]\n",
    "        all_labels.append(task)"
   ]
  },
  {
   "cell_type": "code",
   "execution_count": 6,
   "id": "a46d59ce",
   "metadata": {
    "execution": {
     "iopub.execute_input": "2022-04-15T10:44:27.394549Z",
     "iopub.status.busy": "2022-04-15T10:44:27.393486Z",
     "iopub.status.idle": "2022-04-15T10:44:27.403619Z",
     "shell.execute_reply": "2022-04-15T10:44:27.404341Z",
     "shell.execute_reply.started": "2022-04-15T10:42:12.002066Z"
    },
    "papermill": {
     "duration": 0.059698,
     "end_time": "2022-04-15T10:44:27.404597",
     "exception": false,
     "start_time": "2022-04-15T10:44:27.344899",
     "status": "completed"
    },
    "tags": []
   },
   "outputs": [
    {
     "name": "stdout",
     "output_type": "stream",
     "text": [
      "<class 'numpy.ndarray'>\n",
      "(1000,)\n",
      "(1000, 1)\n",
      "y_list\n",
      " ['schedule appointment' 'reset password' 'get branch hours'\n",
      " 'schedule appointment' 'schedule appointment' 'check balance'] \n",
      " y_list_2d\n",
      " [['schedule appointment']\n",
      " ['reset password']\n",
      " ['get branch hours']\n",
      " ['schedule appointment']\n",
      " ['schedule appointment']\n",
      " ['check balance']]\n"
     ]
    }
   ],
   "source": [
    "y_list = np.array(all_labels)\n",
    "print(type(y_list))\n",
    "print(y_list.shape)\n",
    "y_list_2d = np.reshape(y_list, (-1, 1))\n",
    "print(y_list_2d.shape)\n",
    "print(\"y_list\\n\", y_list[0:6], \"\\n y_list_2d\\n\", y_list_2d[0:6])"
   ]
  },
  {
   "cell_type": "code",
   "execution_count": 7,
   "id": "fa2f11ba",
   "metadata": {
    "execution": {
     "iopub.execute_input": "2022-04-15T10:44:27.505166Z",
     "iopub.status.busy": "2022-04-15T10:44:27.504471Z",
     "iopub.status.idle": "2022-04-15T10:44:27.509117Z",
     "shell.execute_reply": "2022-04-15T10:44:27.508540Z",
     "shell.execute_reply.started": "2022-04-15T10:42:12.015534Z"
    },
    "papermill": {
     "duration": 0.058639,
     "end_time": "2022-04-15T10:44:27.509276",
     "exception": false,
     "start_time": "2022-04-15T10:44:27.450637",
     "status": "completed"
    },
    "tags": []
   },
   "outputs": [
    {
     "data": {
      "text/html": [
       "<div>\n",
       "<style scoped>\n",
       "    .dataframe tbody tr th:only-of-type {\n",
       "        vertical-align: middle;\n",
       "    }\n",
       "\n",
       "    .dataframe tbody tr th {\n",
       "        vertical-align: top;\n",
       "    }\n",
       "\n",
       "    .dataframe thead th {\n",
       "        text-align: right;\n",
       "    }\n",
       "</style>\n",
       "<table border=\"1\" class=\"dataframe\">\n",
       "  <thead>\n",
       "    <tr style=\"text-align: right;\">\n",
       "      <th></th>\n",
       "      <th>tasks</th>\n",
       "    </tr>\n",
       "  </thead>\n",
       "  <tbody>\n",
       "    <tr>\n",
       "      <th>995</th>\n",
       "      <td>check balance</td>\n",
       "    </tr>\n",
       "    <tr>\n",
       "      <th>996</th>\n",
       "      <td>order checks</td>\n",
       "    </tr>\n",
       "    <tr>\n",
       "      <th>997</th>\n",
       "      <td>order checks</td>\n",
       "    </tr>\n",
       "    <tr>\n",
       "      <th>998</th>\n",
       "      <td>order checks</td>\n",
       "    </tr>\n",
       "    <tr>\n",
       "      <th>999</th>\n",
       "      <td>check balance</td>\n",
       "    </tr>\n",
       "  </tbody>\n",
       "</table>\n",
       "</div>"
      ],
      "text/plain": [
       "             tasks\n",
       "995  check balance\n",
       "996   order checks\n",
       "997   order checks\n",
       "998   order checks\n",
       "999  check balance"
      ]
     },
     "execution_count": 7,
     "metadata": {},
     "output_type": "execute_result"
    }
   ],
   "source": [
    "df_y = pd.DataFrame(all_labels, columns = [\"tasks\"])\n",
    "df_y.tail()"
   ]
  },
  {
   "cell_type": "code",
   "execution_count": 8,
   "id": "b993737d",
   "metadata": {
    "execution": {
     "iopub.execute_input": "2022-04-15T10:44:27.606861Z",
     "iopub.status.busy": "2022-04-15T10:44:27.606159Z",
     "iopub.status.idle": "2022-04-15T10:44:27.609989Z",
     "shell.execute_reply": "2022-04-15T10:44:27.609306Z",
     "shell.execute_reply.started": "2022-04-15T10:42:12.030115Z"
    },
    "papermill": {
     "duration": 0.054564,
     "end_time": "2022-04-15T10:44:27.610137",
     "exception": false,
     "start_time": "2022-04-15T10:44:27.555573",
     "status": "completed"
    },
    "tags": []
   },
   "outputs": [
    {
     "name": "stdout",
     "output_type": "stream",
     "text": [
      "check balance\n",
      "agent [noise] agent hello this is harper valley national bank my name is mary how can i help you today caller [noise] hi my name is linda smith i need to check my account balance agent alright i can help you with that and and which account would you like to check caller my savings account agent alright agent your savings account balance is eighty nine dollars is there anything else i can help you with today caller no that'll be all thank you agent uh huh thank <unk> thank you for calling and you have a great day\n"
     ]
    }
   ],
   "source": [
    "# print(len(all_labels))\n",
    "i = 1000-1\n",
    "print(all_labels[i])\n",
    "print(all_trans[i])"
   ]
  },
  {
   "cell_type": "code",
   "execution_count": 9,
   "id": "b1315cd6",
   "metadata": {
    "execution": {
     "iopub.execute_input": "2022-04-15T10:44:27.708004Z",
     "iopub.status.busy": "2022-04-15T10:44:27.707279Z",
     "iopub.status.idle": "2022-04-15T10:44:27.710998Z",
     "shell.execute_reply": "2022-04-15T10:44:27.710431Z",
     "shell.execute_reply.started": "2022-04-15T10:42:12.046651Z"
    },
    "papermill": {
     "duration": 0.05471,
     "end_time": "2022-04-15T10:44:27.711139",
     "exception": false,
     "start_time": "2022-04-15T10:44:27.656429",
     "status": "completed"
    },
    "tags": []
   },
   "outputs": [],
   "source": [
    "filename1 = \"../input/harpervalleydataset-transcript-only/HarperValleyDataset_metadata/metadata/0002f70f7386445b.json\"\n",
    "with open(filename1, 'r') as fi:\n",
    "    js_text = json.load(fi)\n",
    "    task = js_text[\"tasks\"][0][\"task_type\"]\n",
    "#     all_labels.append(h_trans)"
   ]
  },
  {
   "cell_type": "code",
   "execution_count": 10,
   "id": "3db5ac9d",
   "metadata": {
    "execution": {
     "iopub.execute_input": "2022-04-15T10:44:27.809448Z",
     "iopub.status.busy": "2022-04-15T10:44:27.808755Z",
     "iopub.status.idle": "2022-04-15T10:44:27.811811Z",
     "shell.execute_reply": "2022-04-15T10:44:27.811164Z",
     "shell.execute_reply.started": "2022-04-15T10:42:12.059728Z"
    },
    "papermill": {
     "duration": 0.054819,
     "end_time": "2022-04-15T10:44:27.811956",
     "exception": false,
     "start_time": "2022-04-15T10:44:27.757137",
     "status": "completed"
    },
    "tags": []
   },
   "outputs": [
    {
     "name": "stdout",
     "output_type": "stream",
     "text": [
      "replace card\n"
     ]
    }
   ],
   "source": [
    "print(task)"
   ]
  },
  {
   "cell_type": "code",
   "execution_count": 11,
   "id": "3c455e46",
   "metadata": {
    "execution": {
     "iopub.execute_input": "2022-04-15T10:44:27.917554Z",
     "iopub.status.busy": "2022-04-15T10:44:27.916506Z",
     "iopub.status.idle": "2022-04-15T10:44:28.450482Z",
     "shell.execute_reply": "2022-04-15T10:44:28.451001Z",
     "shell.execute_reply.started": "2022-04-15T10:42:12.074035Z"
    },
    "papermill": {
     "duration": 0.592548,
     "end_time": "2022-04-15T10:44:28.451170",
     "exception": false,
     "start_time": "2022-04-15T10:44:27.858622",
     "status": "completed"
    },
    "tags": []
   },
   "outputs": [
    {
     "data": {
      "image/png": "[encoded data removed]",
      "text/plain": [
       "<Figure size 432x288 with 1 Axes>"
      ]
     },
     "metadata": {
      "needs_background": "light"
     },
     "output_type": "display_data"
    }
   ],
   "source": [
    "x = \"tasks\"\n",
    "fig, ax = plt.subplots()\n",
    "# fig.suptitle(x, fontsize=12)\n",
    "df_y[x].reset_index().groupby(x).count().sort_values(by= \n",
    "       \"index\").plot(kind=\"barh\", legend=False, \n",
    "        ax=ax).grid(axis='x')\n",
    "plt.savefig(\"task_distribution.png\", bbox_inches='tight')\n",
    "plt.show()"
   ]
  },
  {
   "cell_type": "markdown",
   "id": "f99cd1c4",
   "metadata": {
    "papermill": {
     "duration": 0.047884,
     "end_time": "2022-04-15T10:44:28.547805",
     "exception": false,
     "start_time": "2022-04-15T10:44:28.499921",
     "status": "completed"
    },
    "tags": []
   },
   "source": [
    "## Concateneting X and y"
   ]
  },
  {
   "cell_type": "code",
   "execution_count": 12,
   "id": "dd61afde",
   "metadata": {
    "execution": {
     "iopub.execute_input": "2022-04-15T10:44:28.654458Z",
     "iopub.status.busy": "2022-04-15T10:44:28.646366Z",
     "iopub.status.idle": "2022-04-15T10:44:28.658078Z",
     "shell.execute_reply": "2022-04-15T10:44:28.657517Z",
     "shell.execute_reply.started": "2022-04-15T10:42:12.610136Z"
    },
    "papermill": {
     "duration": 0.062387,
     "end_time": "2022-04-15T10:44:28.658230",
     "exception": false,
     "start_time": "2022-04-15T10:44:28.595843",
     "status": "completed"
    },
    "tags": []
   },
   "outputs": [
    {
     "data": {
      "text/html": [
       "<div>\n",
       "<style scoped>\n",
       "    .dataframe tbody tr th:only-of-type {\n",
       "        vertical-align: middle;\n",
       "    }\n",
       "\n",
       "    .dataframe tbody tr th {\n",
       "        vertical-align: top;\n",
       "    }\n",
       "\n",
       "    .dataframe thead th {\n",
       "        text-align: right;\n",
       "    }\n",
       "</style>\n",
       "<table border=\"1\" class=\"dataframe\">\n",
       "  <thead>\n",
       "    <tr style=\"text-align: right;\">\n",
       "      <th></th>\n",
       "      <th>transcript</th>\n",
       "      <th>tasks</th>\n",
       "    </tr>\n",
       "  </thead>\n",
       "  <tbody>\n",
       "    <tr>\n",
       "      <th>995</th>\n",
       "      <td>agent hello this is harper valley national ban...</td>\n",
       "      <td>check balance</td>\n",
       "    </tr>\n",
       "    <tr>\n",
       "      <th>996</th>\n",
       "      <td>agent hello this is harper valley national ban...</td>\n",
       "      <td>order checks</td>\n",
       "    </tr>\n",
       "    <tr>\n",
       "      <th>997</th>\n",
       "      <td>agent hello agent this is harper valley nation...</td>\n",
       "      <td>order checks</td>\n",
       "    </tr>\n",
       "    <tr>\n",
       "      <th>998</th>\n",
       "      <td>agent hello this is agent hello this is harper...</td>\n",
       "      <td>order checks</td>\n",
       "    </tr>\n",
       "    <tr>\n",
       "      <th>999</th>\n",
       "      <td>agent [noise] agent hello this is harper valle...</td>\n",
       "      <td>check balance</td>\n",
       "    </tr>\n",
       "  </tbody>\n",
       "</table>\n",
       "</div>"
      ],
      "text/plain": [
       "                                            transcript          tasks\n",
       "995  agent hello this is harper valley national ban...  check balance\n",
       "996  agent hello this is harper valley national ban...   order checks\n",
       "997  agent hello agent this is harper valley nation...   order checks\n",
       "998  agent hello this is agent hello this is harper...   order checks\n",
       "999  agent [noise] agent hello this is harper valle...  check balance"
      ]
     },
     "execution_count": 12,
     "metadata": {},
     "output_type": "execute_result"
    }
   ],
   "source": [
    "# df = df_x.merge(df_y, left_on=\"transcript\", right_on=\"tasks\")\n",
    "df = pd.concat([df_x, df_y], axis=1)\n",
    "df.tail()\n",
    "# df.size"
   ]
  },
  {
   "cell_type": "markdown",
   "id": "2b6ca0e6",
   "metadata": {
    "papermill": {
     "duration": 0.049288,
     "end_time": "2022-04-15T10:44:28.755507",
     "exception": false,
     "start_time": "2022-04-15T10:44:28.706219",
     "status": "completed"
    },
    "tags": []
   },
   "source": [
    "# Processing Data"
   ]
  },
  {
   "cell_type": "code",
   "execution_count": 13,
   "id": "3c3e814e",
   "metadata": {
    "execution": {
     "iopub.execute_input": "2022-04-15T10:44:28.856116Z",
     "iopub.status.busy": "2022-04-15T10:44:28.855433Z",
     "iopub.status.idle": "2022-04-15T10:44:28.860759Z",
     "shell.execute_reply": "2022-04-15T10:44:28.860125Z",
     "shell.execute_reply.started": "2022-04-15T10:42:12.624730Z"
    },
    "papermill": {
     "duration": 0.057404,
     "end_time": "2022-04-15T10:44:28.860898",
     "exception": false,
     "start_time": "2022-04-15T10:44:28.803494",
     "status": "completed"
    },
    "tags": []
   },
   "outputs": [
    {
     "name": "stdout",
     "output_type": "stream",
     "text": [
      "627\n"
     ]
    }
   ],
   "source": [
    "max_len = len(df[\"transcript\"][15])\n",
    "print(max_len)"
   ]
  },
  {
   "cell_type": "markdown",
   "id": "f88ef52d",
   "metadata": {
    "papermill": {
     "duration": 0.049814,
     "end_time": "2022-04-15T10:44:28.960179",
     "exception": false,
     "start_time": "2022-04-15T10:44:28.910365",
     "status": "completed"
    },
    "tags": []
   },
   "source": [
    "# Model\n",
    "## DistilBert"
   ]
  },
  {
   "cell_type": "code",
   "execution_count": 14,
   "id": "64ab025c",
   "metadata": {
    "execution": {
     "iopub.execute_input": "2022-04-15T10:44:29.065942Z",
     "iopub.status.busy": "2022-04-15T10:44:29.065249Z",
     "iopub.status.idle": "2022-04-15T10:45:06.510974Z",
     "shell.execute_reply": "2022-04-15T10:45:06.510367Z",
     "shell.execute_reply.started": "2022-04-15T10:42:12.637278Z"
    },
    "papermill": {
     "duration": 37.502617,
     "end_time": "2022-04-15T10:45:06.511150",
     "exception": false,
     "start_time": "2022-04-15T10:44:29.008533",
     "status": "completed"
    },
    "tags": []
   },
   "outputs": [
    {
     "data": {
      "application/vnd.jupyter.widget-view+json": {
       "model_id": "260507ba29a74cdfa591658cced9fb8e",
       "version_major": 2,
       "version_minor": 0
      },
      "text/plain": [
       "Downloading:   0%|          | 0.00/226k [00:00<?, ?B/s]"
      ]
     },
     "metadata": {},
     "output_type": "display_data"
    },
    {
     "data": {
      "application/vnd.jupyter.widget-view+json": {
       "model_id": "467b8cb5c69244ff870b45bc562b0c3b",
       "version_major": 2,
       "version_minor": 0
      },
      "text/plain": [
       "Downloading:   0%|          | 0.00/28.0 [00:00<?, ?B/s]"
      ]
     },
     "metadata": {},
     "output_type": "display_data"
    },
    {
     "data": {
      "application/vnd.jupyter.widget-view+json": {
       "model_id": "ebc26d9f166f42e28467c4a8516a95e7",
       "version_major": 2,
       "version_minor": 0
      },
      "text/plain": [
       "Downloading:   0%|          | 0.00/455k [00:00<?, ?B/s]"
      ]
     },
     "metadata": {},
     "output_type": "display_data"
    },
    {
     "data": {
      "application/vnd.jupyter.widget-view+json": {
       "model_id": "a9a2b15e7d284e82b49273ab0d31c8b3",
       "version_major": 2,
       "version_minor": 0
      },
      "text/plain": [
       "Downloading:   0%|          | 0.00/483 [00:00<?, ?B/s]"
      ]
     },
     "metadata": {},
     "output_type": "display_data"
    },
    {
     "data": {
      "application/vnd.jupyter.widget-view+json": {
       "model_id": "2aa323f5fac24c5a93d3ea7da9b97aee",
       "version_major": 2,
       "version_minor": 0
      },
      "text/plain": [
       "Downloading:   0%|          | 0.00/256M [00:00<?, ?B/s]"
      ]
     },
     "metadata": {},
     "output_type": "display_data"
    },
    {
     "name": "stderr",
     "output_type": "stream",
     "text": [
      "Some weights of the model checkpoint at distilbert-base-uncased were not used when initializing DistilBertModel: ['vocab_layer_norm.bias', 'vocab_projector.bias', 'vocab_transform.weight', 'vocab_projector.weight', 'vocab_layer_norm.weight', 'vocab_transform.bias']\n",
      "- This IS expected if you are initializing DistilBertModel from the checkpoint of a model trained on another task or with another architecture (e.g. initializing a BertForSequenceClassification model from a BertForPreTraining model).\n",
      "- This IS NOT expected if you are initializing DistilBertModel from the checkpoint of a model that you expect to be exactly identical (initializing a BertForSequenceClassification model from a BertForSequenceClassification model).\n"
     ]
    }
   ],
   "source": [
    "model_class = ppb.DistilBertModel\n",
    "tokenizer_class = ppb.DistilBertTokenizer\n",
    "pretrained_weights = \"distilbert-base-uncased\"\n",
    "\n",
    "# model_class, tokenizer_class, pretrained_weights = (ppb.DistilBertModel, ppb.DistilBertTokenizer, 'distilbert-base-uncased')\n",
    "\n",
    "tokenizer = tokenizer_class.from_pretrained(pretrained_weights)\n",
    "model = model_class.from_pretrained(pretrained_weights)"
   ]
  },
  {
   "cell_type": "markdown",
   "id": "2975be6d",
   "metadata": {
    "papermill": {
     "duration": 0.051309,
     "end_time": "2022-04-15T10:45:06.614529",
     "exception": false,
     "start_time": "2022-04-15T10:45:06.563220",
     "status": "completed"
    },
    "tags": []
   },
   "source": [
    "## Tokenization"
   ]
  },
  {
   "cell_type": "code",
   "execution_count": 15,
   "id": "08d556b3",
   "metadata": {
    "execution": {
     "iopub.execute_input": "2022-04-15T10:45:06.732245Z",
     "iopub.status.busy": "2022-04-15T10:45:06.731523Z",
     "iopub.status.idle": "2022-04-15T10:45:11.217977Z",
     "shell.execute_reply": "2022-04-15T10:45:11.218510Z",
     "shell.execute_reply.started": "2022-04-15T10:42:28.579993Z"
    },
    "papermill": {
     "duration": 4.551781,
     "end_time": "2022-04-15T10:45:11.218730",
     "exception": false,
     "start_time": "2022-04-15T10:45:06.666949",
     "status": "completed"
    },
    "tags": []
   },
   "outputs": [],
   "source": [
    "tokenized_X = df[\"transcript\"].apply((lambda x: tokenizer.encode(x, add_special_tokens=True)))\n",
    "# tokenized_y = df[\"tasks\"].apply((lambda x: tokenizer.encode(x, add_special_tokens=True)))"
   ]
  },
  {
   "cell_type": "code",
   "execution_count": 16,
   "id": "cb140075",
   "metadata": {
    "execution": {
     "iopub.execute_input": "2022-04-15T10:45:11.338082Z",
     "iopub.status.busy": "2022-04-15T10:45:11.336895Z",
     "iopub.status.idle": "2022-04-15T10:45:11.348306Z",
     "shell.execute_reply": "2022-04-15T10:45:11.347651Z",
     "shell.execute_reply.started": "2022-04-15T10:42:32.925430Z"
    },
    "papermill": {
     "duration": 0.072402,
     "end_time": "2022-04-15T10:45:11.348454",
     "exception": false,
     "start_time": "2022-04-15T10:45:11.276052",
     "status": "completed"
    },
    "tags": []
   },
   "outputs": [
    {
     "name": "stdout",
     "output_type": "stream",
     "text": [
      "<class 'pandas.core.series.Series'>\n",
      "1000\n"
     ]
    },
    {
     "data": {
      "text/plain": [
       "0    [101, 4005, 7592, 2023, 2003, 8500, 3028, 2120...\n",
       "1    [101, 4005, 7592, 2023, 2003, 8500, 3028, 2120...\n",
       "2    [101, 4005, 7592, 2023, 2003, 8500, 3028, 2120...\n",
       "3    [101, 4005, 7592, 2023, 2003, 8500, 3028, 2120...\n",
       "4    [101, 4005, 7592, 2023, 2003, 8500, 3028, 2120...\n",
       "Name: transcript, dtype: object"
      ]
     },
     "execution_count": 16,
     "metadata": {},
     "output_type": "execute_result"
    }
   ],
   "source": [
    "print(type(tokenized_X))\n",
    "print(tokenized_X.size)\n",
    "tokenized_X.head()"
   ]
  },
  {
   "cell_type": "markdown",
   "id": "374b3c43",
   "metadata": {
    "papermill": {
     "duration": 0.054062,
     "end_time": "2022-04-15T10:45:11.460838",
     "exception": false,
     "start_time": "2022-04-15T10:45:11.406776",
     "status": "completed"
    },
    "tags": []
   },
   "source": [
    "## Padding"
   ]
  },
  {
   "cell_type": "markdown",
   "id": "d224d002",
   "metadata": {
    "papermill": {
     "duration": 0.055445,
     "end_time": "2022-04-15T10:45:11.569822",
     "exception": false,
     "start_time": "2022-04-15T10:45:11.514377",
     "status": "completed"
    },
    "tags": []
   },
   "source": [
    "### Transcripts"
   ]
  },
  {
   "cell_type": "code",
   "execution_count": 17,
   "id": "fe0d93f7",
   "metadata": {
    "execution": {
     "iopub.execute_input": "2022-04-15T10:45:11.682989Z",
     "iopub.status.busy": "2022-04-15T10:45:11.682198Z",
     "iopub.status.idle": "2022-04-15T10:45:11.758264Z",
     "shell.execute_reply": "2022-04-15T10:45:11.757465Z",
     "shell.execute_reply.started": "2022-04-15T10:42:32.939833Z"
    },
    "papermill": {
     "duration": 0.134329,
     "end_time": "2022-04-15T10:45:11.758447",
     "exception": false,
     "start_time": "2022-04-15T10:45:11.624118",
     "status": "completed"
    },
    "tags": []
   },
   "outputs": [],
   "source": [
    "max_len_X = 0\n",
    "for i in tokenized_X.values:\n",
    "    if len(i) > max_len_X:\n",
    "        max_len_X = len(i)\n",
    "        \n",
    "padded_X = np.array([i + [0]*(max_len_X-len(i)) for i in tokenized_X.values])"
   ]
  },
  {
   "cell_type": "code",
   "execution_count": 18,
   "id": "9bca71c4",
   "metadata": {
    "execution": {
     "iopub.execute_input": "2022-04-15T10:45:11.875714Z",
     "iopub.status.busy": "2022-04-15T10:45:11.874561Z",
     "iopub.status.idle": "2022-04-15T10:45:11.880370Z",
     "shell.execute_reply": "2022-04-15T10:45:11.879861Z",
     "shell.execute_reply.started": "2022-04-15T10:42:33.016862Z"
    },
    "papermill": {
     "duration": 0.0668,
     "end_time": "2022-04-15T10:45:11.880515",
     "exception": false,
     "start_time": "2022-04-15T10:45:11.813715",
     "status": "completed"
    },
    "tags": []
   },
   "outputs": [
    {
     "name": "stdout",
     "output_type": "stream",
     "text": [
      "<class 'numpy.ndarray'>\n",
      "[[ 101 4005 7592 ...    0    0    0]\n",
      " [ 101 4005 7592 ...    0    0    0]\n",
      " [ 101 4005 7592 ...    0    0    0]\n",
      " [ 101 4005 7592 ...    0    0    0]\n",
      " [ 101 4005 7592 ...    0    0    0]]\n",
      "(1000, 430)\n"
     ]
    }
   ],
   "source": [
    "print(type(padded_X))\n",
    "print(padded_X[:5])\n",
    "print(padded_X.shape)"
   ]
  },
  {
   "cell_type": "markdown",
   "id": "d8b94395",
   "metadata": {
    "papermill": {
     "duration": 0.053457,
     "end_time": "2022-04-15T10:45:11.988328",
     "exception": false,
     "start_time": "2022-04-15T10:45:11.934871",
     "status": "completed"
    },
    "tags": []
   },
   "source": [
    "### Slicing"
   ]
  },
  {
   "cell_type": "code",
   "execution_count": 19,
   "id": "30e8e434",
   "metadata": {
    "execution": {
     "iopub.execute_input": "2022-04-15T10:45:12.102325Z",
     "iopub.status.busy": "2022-04-15T10:45:12.101515Z",
     "iopub.status.idle": "2022-04-15T10:45:12.107838Z",
     "shell.execute_reply": "2022-04-15T10:45:12.108330Z",
     "shell.execute_reply.started": "2022-04-15T10:42:33.024613Z"
    },
    "papermill": {
     "duration": 0.067,
     "end_time": "2022-04-15T10:45:12.108506",
     "exception": false,
     "start_time": "2022-04-15T10:45:12.041506",
     "status": "completed"
    },
    "tags": []
   },
   "outputs": [
    {
     "name": "stdout",
     "output_type": "stream",
     "text": [
      "(1000, 1)\n",
      "(1000, 40)\n"
     ]
    }
   ],
   "source": [
    "jk_1 = padded_X[:, 0:1]\n",
    "print(jk_1.shape)\n",
    "jl_1 = padded_X[:, 15:55]\n",
    "print(jl_1.shape)"
   ]
  },
  {
   "cell_type": "code",
   "execution_count": 20,
   "id": "9d2d3d0c",
   "metadata": {
    "execution": {
     "iopub.execute_input": "2022-04-15T10:45:12.223614Z",
     "iopub.status.busy": "2022-04-15T10:45:12.222988Z",
     "iopub.status.idle": "2022-04-15T10:45:12.231947Z",
     "shell.execute_reply": "2022-04-15T10:45:12.231135Z",
     "shell.execute_reply.started": "2022-04-15T10:42:33.038203Z"
    },
    "papermill": {
     "duration": 0.066976,
     "end_time": "2022-04-15T10:45:12.232122",
     "exception": false,
     "start_time": "2022-04-15T10:45:12.165146",
     "status": "completed"
    },
    "tags": []
   },
   "outputs": [
    {
     "name": "stdout",
     "output_type": "stream",
     "text": [
      "<class 'numpy.ndarray'>\n",
      "(1000, 41)\n",
      "[[  101  1045  2393  2017  2651  4005  1031  5005  1033 20587  7632  2026\n",
      "   2171  2003  2508  3766 20587  1045  2052  2066  2000  6134  2019  6098\n",
      "   4005  2469  1045  2064  2393  2017  2007  2008  2508  7910  2054  2154\n",
      "   2052  2017  2066  2005  2115]\n",
      " [  101  2064  1045  2393  2017  2651 20587  7632  2026  2171  2003  2198\n",
      "   9172  1998  1045  2052  2066  2000 25141  2026 20786  4005  2054  2003\n",
      "   2115  3042  2193 20587  2026  3042  2193  2003  5717  2048  2028 20587\n",
      "   2809  3157  2274 20587  2093]\n",
      " [  101  1045  2393  2017  2651 20587  7632  2026  2171  2003  3870  3557\n",
      "  20587  2054  2024  1996  2334  3589  2847  4005  1996  3589  2847  2024\n",
      "   3157  4228  1037  1049  2127  2274  1052  1049  4005  2003  2045  2505\n",
      "   2842  1045  2064  2393  2017]\n",
      " [  101  1045  2393  2017  2651 20587  7632  2026  2171  2003  2984  9172\n",
      "  20587  1045  2052  2066  2000  6134  2019  6098  4005  2821  2469  1045\n",
      "   2064  2393  2017  2007  2008  7910  2029  2154  2052  2017  2066  2005\n",
      "   2115  6098 20587  6928  4005]\n",
      " [  101  2064  1045  2393  2017  2651 20587  7910  2748  2198  2026  2171\n",
      "   2003  2984  3044  1998  1045  2052  2066  2000  6134  2019  6098  3531\n",
      "   4005 10303  2017  2052  2066  2000  6134  6098  4005  8529  4005  2054\n",
      "   2154  2052  2017  2066  2005]]\n"
     ]
    }
   ],
   "source": [
    "sliced_X = np.concatenate((padded_X[:,0:1], padded_X[:, 15:55]), axis=1)\n",
    "\n",
    "print(type(sliced_X))\n",
    "print(sliced_X.shape)\n",
    "print(sliced_X[:5])"
   ]
  },
  {
   "cell_type": "markdown",
   "id": "997ed3ce",
   "metadata": {
    "papermill": {
     "duration": 0.05658,
     "end_time": "2022-04-15T10:45:12.345677",
     "exception": false,
     "start_time": "2022-04-15T10:45:12.289097",
     "status": "completed"
    },
    "tags": []
   },
   "source": [
    "## Masking"
   ]
  },
  {
   "cell_type": "code",
   "execution_count": 21,
   "id": "0e38670f",
   "metadata": {
    "execution": {
     "iopub.execute_input": "2022-04-15T10:45:12.466110Z",
     "iopub.status.busy": "2022-04-15T10:45:12.465103Z",
     "iopub.status.idle": "2022-04-15T10:45:12.471973Z",
     "shell.execute_reply": "2022-04-15T10:45:12.472452Z",
     "shell.execute_reply.started": "2022-04-15T10:42:33.050142Z"
    },
    "papermill": {
     "duration": 0.067344,
     "end_time": "2022-04-15T10:45:12.472641",
     "exception": false,
     "start_time": "2022-04-15T10:45:12.405297",
     "status": "completed"
    },
    "tags": []
   },
   "outputs": [
    {
     "name": "stdout",
     "output_type": "stream",
     "text": [
      "(1000, 41)\n",
      "[[1 1 1 1 1 1 1 1 1 1 1 1 1 1 1 1 1 1 1 1 1 1 1 1 1 1 1 1 1 1 1 1 1 1 1 1\n",
      "  1 1 1 1 1]\n",
      " [1 1 1 1 1 1 1 1 1 1 1 1 1 1 1 1 1 1 1 1 1 1 1 1 1 1 1 1 1 1 1 1 1 1 1 1\n",
      "  1 1 1 1 1]\n",
      " [1 1 1 1 1 1 1 1 1 1 1 1 1 1 1 1 1 1 1 1 1 1 1 1 1 1 1 1 1 1 1 1 1 1 1 1\n",
      "  1 1 1 1 1]\n",
      " [1 1 1 1 1 1 1 1 1 1 1 1 1 1 1 1 1 1 1 1 1 1 1 1 1 1 1 1 1 1 1 1 1 1 1 1\n",
      "  1 1 1 1 1]\n",
      " [1 1 1 1 1 1 1 1 1 1 1 1 1 1 1 1 1 1 1 1 1 1 1 1 1 1 1 1 1 1 1 1 1 1 1 1\n",
      "  1 1 1 1 1]]\n"
     ]
    }
   ],
   "source": [
    "attention_mask_X = np.where(sliced_X != 0, 1, 0)\n",
    "print(attention_mask_X.shape)\n",
    "print(attention_mask_X[:5])"
   ]
  },
  {
   "cell_type": "markdown",
   "id": "c3432e21",
   "metadata": {
    "papermill": {
     "duration": 0.055225,
     "end_time": "2022-04-15T10:45:12.583558",
     "exception": false,
     "start_time": "2022-04-15T10:45:12.528333",
     "status": "completed"
    },
    "tags": []
   },
   "source": [
    "# Processing with DistilBERT"
   ]
  },
  {
   "cell_type": "code",
   "execution_count": 22,
   "id": "fc8618a1",
   "metadata": {
    "execution": {
     "iopub.execute_input": "2022-04-15T10:45:12.703953Z",
     "iopub.status.busy": "2022-04-15T10:45:12.703097Z",
     "iopub.status.idle": "2022-04-15T10:46:00.499850Z",
     "shell.execute_reply": "2022-04-15T10:46:00.499088Z",
     "shell.execute_reply.started": "2022-04-15T10:42:33.064357Z"
    },
    "papermill": {
     "duration": 47.857996,
     "end_time": "2022-04-15T10:46:00.500041",
     "exception": false,
     "start_time": "2022-04-15T10:45:12.642045",
     "status": "completed"
    },
    "tags": []
   },
   "outputs": [],
   "source": [
    "X_ids = torch.tensor(np.array(sliced_X))\n",
    "attention_mask_X_tensor = torch.tensor(attention_mask_X)\n",
    "\n",
    "with torch.no_grad():\n",
    "    last_hidden_states = model(X_ids, attention_mask=attention_mask_X_tensor)"
   ]
  },
  {
   "cell_type": "code",
   "execution_count": 23,
   "id": "4a84b63b",
   "metadata": {
    "execution": {
     "iopub.execute_input": "2022-04-15T10:46:00.613585Z",
     "iopub.status.busy": "2022-04-15T10:46:00.612966Z",
     "iopub.status.idle": "2022-04-15T10:46:00.618750Z",
     "shell.execute_reply": "2022-04-15T10:46:00.619372Z",
     "shell.execute_reply.started": "2022-04-15T10:43:21.382185Z"
    },
    "papermill": {
     "duration": 0.063736,
     "end_time": "2022-04-15T10:46:00.619547",
     "exception": false,
     "start_time": "2022-04-15T10:46:00.555811",
     "status": "completed"
    },
    "tags": []
   },
   "outputs": [
    {
     "name": "stdout",
     "output_type": "stream",
     "text": [
      "<class 'transformers.modeling_outputs.BaseModelOutput'>\n",
      "1\n"
     ]
    }
   ],
   "source": [
    "print(type(last_hidden_states))\n",
    "print(np.size(last_hidden_states))"
   ]
  },
  {
   "cell_type": "code",
   "execution_count": 24,
   "id": "7c378781",
   "metadata": {
    "execution": {
     "iopub.execute_input": "2022-04-15T10:46:00.731603Z",
     "iopub.status.busy": "2022-04-15T10:46:00.730884Z",
     "iopub.status.idle": "2022-04-15T10:46:00.737970Z",
     "shell.execute_reply": "2022-04-15T10:46:00.738547Z",
     "shell.execute_reply.started": "2022-04-15T10:43:21.391759Z"
    },
    "papermill": {
     "duration": 0.065001,
     "end_time": "2022-04-15T10:46:00.738767",
     "exception": false,
     "start_time": "2022-04-15T10:46:00.673766",
     "status": "completed"
    },
    "tags": []
   },
   "outputs": [
    {
     "name": "stdout",
     "output_type": "stream",
     "text": [
      "<class 'numpy.ndarray'>\n",
      "(1000, 768)\n"
     ]
    }
   ],
   "source": [
    "features = last_hidden_states[0][:,0,:].numpy()\n",
    "print(type(features))\n",
    "print(features.shape)"
   ]
  },
  {
   "cell_type": "markdown",
   "id": "d7058678",
   "metadata": {
    "papermill": {
     "duration": 0.054646,
     "end_time": "2022-04-15T10:46:00.848835",
     "exception": false,
     "start_time": "2022-04-15T10:46:00.794189",
     "status": "completed"
    },
    "tags": []
   },
   "source": [
    "# Logistic Regression\n",
    "\n",
    "### Test set (Train test split)"
   ]
  },
  {
   "cell_type": "code",
   "execution_count": 25,
   "id": "17b6ce91",
   "metadata": {
    "execution": {
     "iopub.execute_input": "2022-04-15T10:46:00.965070Z",
     "iopub.status.busy": "2022-04-15T10:46:00.964355Z",
     "iopub.status.idle": "2022-04-15T10:46:00.979847Z",
     "shell.execute_reply": "2022-04-15T10:46:00.980412Z",
     "shell.execute_reply.started": "2022-04-15T10:43:21.405412Z"
    },
    "papermill": {
     "duration": 0.075447,
     "end_time": "2022-04-15T10:46:00.980597",
     "exception": false,
     "start_time": "2022-04-15T10:46:00.905150",
     "status": "completed"
    },
    "tags": []
   },
   "outputs": [
    {
     "name": "stdout",
     "output_type": "stream",
     "text": [
      "type: <class 'numpy.ndarray'> <class 'numpy.ndarray'>\n",
      "train_feature_size (750, 768)\n",
      "test_feature_size (250, 768)\n",
      "train_labels_size (750,)\n",
      "test_labels_size (250,)\n"
     ]
    }
   ],
   "source": [
    "train_features, test_features, train_labels, test_labels = train_test_split(features, y_list, test_size=0.25)\n",
    "print(\"type:\", type(train_features), type(train_labels))\n",
    "print(\"train_feature_size\", train_features.shape)\n",
    "print(\"test_feature_size\", test_features.shape)\n",
    "print(\"train_labels_size\", train_labels.shape)\n",
    "print(\"test_labels_size\", test_labels.shape)"
   ]
  },
  {
   "cell_type": "markdown",
   "id": "710f7933",
   "metadata": {
    "papermill": {
     "duration": 0.055183,
     "end_time": "2022-04-15T10:46:01.092461",
     "exception": false,
     "start_time": "2022-04-15T10:46:01.037278",
     "status": "completed"
    },
    "tags": []
   },
   "source": [
    "## Logistic regression"
   ]
  },
  {
   "cell_type": "code",
   "execution_count": 26,
   "id": "5dd753e3",
   "metadata": {
    "execution": {
     "iopub.execute_input": "2022-04-15T10:46:01.212044Z",
     "iopub.status.busy": "2022-04-15T10:46:01.211251Z",
     "iopub.status.idle": "2022-04-15T10:46:02.562325Z",
     "shell.execute_reply": "2022-04-15T10:46:02.563467Z",
     "shell.execute_reply.started": "2022-04-15T10:43:21.426613Z"
    },
    "papermill": {
     "duration": 1.415742,
     "end_time": "2022-04-15T10:46:02.563790",
     "exception": false,
     "start_time": "2022-04-15T10:46:01.148048",
     "status": "completed"
    },
    "tags": []
   },
   "outputs": [
    {
     "data": {
      "text/plain": [
       "LogisticRegression(max_iter=1000, multi_class='multinomial')"
      ]
     },
     "execution_count": 26,
     "metadata": {},
     "output_type": "execute_result"
    }
   ],
   "source": [
    "lr_clf = LogisticRegression(multi_class=\"multinomial\", max_iter=1000)\n",
    "lr_clf.fit(train_features, train_labels)"
   ]
  },
  {
   "cell_type": "markdown",
   "id": "d457315f",
   "metadata": {
    "papermill": {
     "duration": 0.055371,
     "end_time": "2022-04-15T10:46:02.729533",
     "exception": false,
     "start_time": "2022-04-15T10:46:02.674162",
     "status": "completed"
    },
    "tags": []
   },
   "source": [
    "## Evaluation"
   ]
  },
  {
   "cell_type": "code",
   "execution_count": 27,
   "id": "a5d1a576",
   "metadata": {
    "execution": {
     "iopub.execute_input": "2022-04-15T10:46:02.846115Z",
     "iopub.status.busy": "2022-04-15T10:46:02.844814Z",
     "iopub.status.idle": "2022-04-15T10:46:02.852300Z",
     "shell.execute_reply": "2022-04-15T10:46:02.853359Z",
     "shell.execute_reply.started": "2022-04-15T10:43:22.644105Z"
    },
    "papermill": {
     "duration": 0.068501,
     "end_time": "2022-04-15T10:46:02.853645",
     "exception": false,
     "start_time": "2022-04-15T10:46:02.785144",
     "status": "completed"
    },
    "tags": []
   },
   "outputs": [
    {
     "data": {
      "text/plain": [
       "0.964"
      ]
     },
     "execution_count": 27,
     "metadata": {},
     "output_type": "execute_result"
    }
   ],
   "source": [
    "lr_clf.score(test_features, test_labels)"
   ]
  },
  {
   "cell_type": "code",
   "execution_count": 28,
   "id": "f551996f",
   "metadata": {
    "execution": {
     "iopub.execute_input": "2022-04-15T10:46:03.026222Z",
     "iopub.status.busy": "2022-04-15T10:46:03.024971Z",
     "iopub.status.idle": "2022-04-15T10:46:03.032335Z",
     "shell.execute_reply": "2022-04-15T10:46:03.033207Z",
     "shell.execute_reply.started": "2022-04-15T10:43:22.673363Z"
    },
    "papermill": {
     "duration": 0.072646,
     "end_time": "2022-04-15T10:46:03.033518",
     "exception": false,
     "start_time": "2022-04-15T10:46:02.960872",
     "status": "completed"
    },
    "tags": []
   },
   "outputs": [],
   "source": [
    "preds = lr_clf.predict(test_features)"
   ]
  },
  {
   "cell_type": "code",
   "execution_count": 29,
   "id": "22f9ec5d",
   "metadata": {
    "execution": {
     "iopub.execute_input": "2022-04-15T10:46:03.207933Z",
     "iopub.status.busy": "2022-04-15T10:46:03.205392Z",
     "iopub.status.idle": "2022-04-15T10:46:03.210622Z",
     "shell.execute_reply": "2022-04-15T10:46:03.211172Z",
     "shell.execute_reply.started": "2022-04-15T10:43:22.699535Z"
    },
    "papermill": {
     "duration": 0.070608,
     "end_time": "2022-04-15T10:46:03.211369",
     "exception": false,
     "start_time": "2022-04-15T10:46:03.140761",
     "status": "completed"
    },
    "tags": []
   },
   "outputs": [
    {
     "name": "stdout",
     "output_type": "stream",
     "text": [
      "<class 'numpy.ndarray'>\n"
     ]
    }
   ],
   "source": [
    "print(type(preds))"
   ]
  },
  {
   "cell_type": "code",
   "execution_count": 30,
   "id": "0b43ddea",
   "metadata": {
    "execution": {
     "iopub.execute_input": "2022-04-15T10:46:03.332165Z",
     "iopub.status.busy": "2022-04-15T10:46:03.329066Z",
     "iopub.status.idle": "2022-04-15T10:46:03.341729Z",
     "shell.execute_reply": "2022-04-15T10:46:03.341073Z",
     "shell.execute_reply.started": "2022-04-15T10:43:22.718836Z"
    },
    "papermill": {
     "duration": 0.072901,
     "end_time": "2022-04-15T10:46:03.341909",
     "exception": false,
     "start_time": "2022-04-15T10:46:03.269008",
     "status": "completed"
    },
    "tags": []
   },
   "outputs": [],
   "source": [
    "pd.DataFrame(preds).to_csv(\"preds.csv\")"
   ]
  },
  {
   "cell_type": "code",
   "execution_count": 31,
   "id": "7510f793",
   "metadata": {
    "execution": {
     "iopub.execute_input": "2022-04-15T10:46:03.461881Z",
     "iopub.status.busy": "2022-04-15T10:46:03.461119Z",
     "iopub.status.idle": "2022-04-15T10:46:03.465040Z",
     "shell.execute_reply": "2022-04-15T10:46:03.465658Z",
     "shell.execute_reply.started": "2022-04-15T10:43:22.745993Z"
    },
    "papermill": {
     "duration": 0.06698,
     "end_time": "2022-04-15T10:46:03.465861",
     "exception": false,
     "start_time": "2022-04-15T10:46:03.398881",
     "status": "completed"
    },
    "tags": []
   },
   "outputs": [],
   "source": [
    "pd.DataFrame(test_labels).to_csv(\"Actuals.csv\")"
   ]
  },
  {
   "cell_type": "markdown",
   "id": "7fcf639e",
   "metadata": {
    "papermill": {
     "duration": 0.05597,
     "end_time": "2022-04-15T10:46:03.578441",
     "exception": false,
     "start_time": "2022-04-15T10:46:03.522471",
     "status": "completed"
    },
    "tags": []
   },
   "source": [
    "### Confusion Matrix and F1 Score"
   ]
  },
  {
   "cell_type": "code",
   "execution_count": 32,
   "id": "0eb7adee",
   "metadata": {
    "execution": {
     "iopub.execute_input": "2022-04-15T10:46:03.694733Z",
     "iopub.status.busy": "2022-04-15T10:46:03.694037Z",
     "iopub.status.idle": "2022-04-15T10:46:03.697667Z",
     "shell.execute_reply": "2022-04-15T10:46:03.698197Z",
     "shell.execute_reply.started": "2022-04-15T10:43:22.757222Z"
    },
    "papermill": {
     "duration": 0.063719,
     "end_time": "2022-04-15T10:46:03.698387",
     "exception": false,
     "start_time": "2022-04-15T10:46:03.634668",
     "status": "completed"
    },
    "tags": []
   },
   "outputs": [],
   "source": [
    "from sklearn.metrics import confusion_matrix\n",
    "from sklearn.metrics import f1_score"
   ]
  },
  {
   "cell_type": "code",
   "execution_count": 33,
   "id": "140206a2",
   "metadata": {
    "execution": {
     "iopub.execute_input": "2022-04-15T10:46:03.819594Z",
     "iopub.status.busy": "2022-04-15T10:46:03.815779Z",
     "iopub.status.idle": "2022-04-15T10:46:03.830266Z",
     "shell.execute_reply": "2022-04-15T10:46:03.830950Z",
     "shell.execute_reply.started": "2022-04-15T10:43:22.772697Z"
    },
    "papermill": {
     "duration": 0.074424,
     "end_time": "2022-04-15T10:46:03.831135",
     "exception": false,
     "start_time": "2022-04-15T10:46:03.756711",
     "status": "completed"
    },
    "tags": []
   },
   "outputs": [
    {
     "name": "stdout",
     "output_type": "stream",
     "text": [
      "0.9641106472743799\n",
      "0.964\n",
      "0.964400179183124\n"
     ]
    }
   ],
   "source": [
    "f1_scr_weighted = f1_score(test_labels, preds, average='weighted')\n",
    "print(f1_scr_weighted)\n",
    "f1_scr_micro = f1_score(test_labels, preds, average='micro')\n",
    "print(f1_scr_micro)\n",
    "f1_scr_macro = f1_score(test_labels, preds, average='macro')\n",
    "print(f1_scr_macro)"
   ]
  },
  {
   "cell_type": "code",
   "execution_count": 34,
   "id": "85665374",
   "metadata": {
    "execution": {
     "iopub.execute_input": "2022-04-15T10:46:03.954409Z",
     "iopub.status.busy": "2022-04-15T10:46:03.953718Z",
     "iopub.status.idle": "2022-04-15T10:46:03.958732Z",
     "shell.execute_reply": "2022-04-15T10:46:03.959279Z",
     "shell.execute_reply.started": "2022-04-15T10:43:22.803411Z"
    },
    "papermill": {
     "duration": 0.071085,
     "end_time": "2022-04-15T10:46:03.959449",
     "exception": false,
     "start_time": "2022-04-15T10:46:03.888364",
     "status": "completed"
    },
    "tags": []
   },
   "outputs": [
    {
     "data": {
      "text/plain": [
       "check balance           146\n",
       "get branch hours        135\n",
       "replace card            127\n",
       "pay bill                126\n",
       "order checks            122\n",
       "schedule appointment    119\n",
       "reset password          113\n",
       "transfer money          112\n",
       "Name: tasks, dtype: int64"
      ]
     },
     "execution_count": 34,
     "metadata": {},
     "output_type": "execute_result"
    }
   ],
   "source": [
    "df['tasks'].value_counts()"
   ]
  },
  {
   "cell_type": "code",
   "execution_count": 35,
   "id": "5a5cbc23",
   "metadata": {
    "execution": {
     "iopub.execute_input": "2022-04-15T10:46:04.079667Z",
     "iopub.status.busy": "2022-04-15T10:46:04.079007Z",
     "iopub.status.idle": "2022-04-15T10:46:04.090608Z",
     "shell.execute_reply": "2022-04-15T10:46:04.091156Z",
     "shell.execute_reply.started": "2022-04-15T10:43:22.815473Z"
    },
    "papermill": {
     "duration": 0.074201,
     "end_time": "2022-04-15T10:46:04.091368",
     "exception": false,
     "start_time": "2022-04-15T10:46:04.017167",
     "status": "completed"
    },
    "tags": []
   },
   "outputs": [],
   "source": [
    "cm = confusion_matrix(test_labels, preds)\n",
    "cm_df = pd.DataFrame(cm, \n",
    "                    index = ['check balance', 'get branch hours', 'replace card', 'pay bill', 'order checks', 'schedule appointment', 'reset password', 'transfer money'],\n",
    "                    columns = ['check balance', 'get branch hours', 'replace card', 'pay bill', 'order checks', 'schedule appointment', 'reset password', 'transfer money'])"
   ]
  },
  {
   "cell_type": "code",
   "execution_count": 36,
   "id": "382c1bff",
   "metadata": {
    "execution": {
     "iopub.execute_input": "2022-04-15T10:46:04.214050Z",
     "iopub.status.busy": "2022-04-15T10:46:04.213022Z",
     "iopub.status.idle": "2022-04-15T10:46:04.950500Z",
     "shell.execute_reply": "2022-04-15T10:46:04.949877Z",
     "shell.execute_reply.started": "2022-04-15T10:43:22.832708Z"
    },
    "papermill": {
     "duration": 0.799767,
     "end_time": "2022-04-15T10:46:04.950636",
     "exception": false,
     "start_time": "2022-04-15T10:46:04.150869",
     "status": "completed"
    },
    "tags": []
   },
   "outputs": [
    {
     "data": {
      "image/png": "[encoded data removed]",
      "text/plain": [
       "<Figure size 720x648 with 2 Axes>"
      ]
     },
     "metadata": {
      "needs_background": "light"
     },
     "output_type": "display_data"
    }
   ],
   "source": [
    "plt.figure(figsize=(10,9))\n",
    "sns.heatmap(cm_df, annot=True)\n",
    "plt.title(\"Confusion Matrix\")\n",
    "plt.ylabel(\"Actual Values\")\n",
    "plt.xlabel(\"Predicted Values\")\n",
    "plt.savefig(\"Confusion_matrix\")\n",
    "plt.show()"
   ]
  }
 ],
 "metadata": {
  "kernelspec": {
   "display_name": "Python 3",
   "language": "python",
   "name": "python3"
  },
  "language_info": {
   "codemirror_mode": {
    "name": "ipython",
    "version": 3
   },
   "file_extension": ".py",
   "mimetype": "text/x-python",
   "name": "python",
   "nbconvert_exporter": "python",
   "pygments_lexer": "ipython3",
   "version": "3.7.12"
  },
  "papermill": {
   "default_parameters": {},
   "duration": 121.989078,
   "end_time": "2022-04-15T10:46:08.127899",
   "environment_variables": {},
   "exception": null,
   "input_path": "__notebook__.ipynb",
   "output_path": "__notebook__.ipynb",
   "parameters": {},
   "start_time": "2022-04-15T10:44:06.138821",
   "version": "2.3.3"
  },
  "widgets": {
   "application/vnd.jupyter.widget-state+json": {
    "state": {
     "0378f200293e4566923bcfb6b82c0bfa": {
      "model_module": "@jupyter-widgets/base",
      "model_module_version": "1.2.0",
      "model_name": "LayoutModel",
      "state": {
       "_model_module": "@jupyter-widgets/base",
       "_model_module_version": "1.2.0",
       "_model_name": "LayoutModel",
       "_view_count": null,
       "_view_module": "@jupyter-widgets/base",
       "_view_module_version": "1.2.0",
       "_view_name": "LayoutView",
       "align_content": null,
       "align_items": null,
       "align_self": null,
       "border": null,
       "bottom": null,
       "display": null,
       "flex": null,
       "flex_flow": null,
       "grid_area": null,
       "grid_auto_columns": null,
       "grid_auto_flow": null,
       "grid_auto_rows": null,
       "grid_column": null,
       "grid_gap": null,
       "grid_row": null,
       "grid_template_areas": null,
       "grid_template_columns": null,
       "grid_template_rows": null,
       "height": null,
       "justify_content": null,
       "justify_items": null,
       "left": null,
       "margin": null,
       "max_height": null,
       "max_width": null,
       "min_height": null,
       "min_width": null,
       "object_fit": null,
       "object_position": null,
       "order": null,
       "overflow": null,
       "overflow_x": null,
       "overflow_y": null,
       "padding": null,
       "right": null,
       "top": null,
       "visibility": null,
       "width": null
      }
     },
     "038e4c1fbffd477baf72579235e65a91": {
      "model_module": "@jupyter-widgets/controls",
      "model_module_version": "1.5.0",
      "model_name": "FloatProgressModel",
      "state": {
       "_dom_classes": [],
       "_model_module": "@jupyter-widgets/controls",
       "_model_module_version": "1.5.0",
       "_model_name": "FloatProgressModel",
       "_view_count": null,
       "_view_module": "@jupyter-widgets/controls",
       "_view_module_version": "1.5.0",
       "_view_name": "ProgressView",
       "bar_style": "success",
       "description": "",
       "description_tooltip": null,
       "layout": "IPY_MODEL_9a7e6ac9dcc7462fab8e32de8b0e2478",
       "max": 28.0,
       "min": 0.0,
       "orientation": "horizontal",
       "style": "IPY_MODEL_d4d51c671d0e45ce91a27abdf8565b36",
       "value": 28.0
      }
     },
     "0587c932585546f1892a9d2c975d162e": {
      "model_module": "@jupyter-widgets/controls",
      "model_module_version": "1.5.0",
      "model_name": "DescriptionStyleModel",
      "state": {
       "_model_module": "@jupyter-widgets/controls",
       "_model_module_version": "1.5.0",
       "_model_name": "DescriptionStyleModel",
       "_view_count": null,
       "_view_module": "@jupyter-widgets/base",
       "_view_module_version": "1.2.0",
       "_view_name": "StyleView",
       "description_width": ""
      }
     },
     "07eb8dd9e4544396b6d2e2de22786aa6": {
      "model_module": "@jupyter-widgets/controls",
      "model_module_version": "1.5.0",
      "model_name": "HTMLModel",
      "state": {
       "_dom_classes": [],
       "_model_module": "@jupyter-widgets/controls",
       "_model_module_version": "1.5.0",
       "_model_name": "HTMLModel",
       "_view_count": null,
       "_view_module": "@jupyter-widgets/controls",
       "_view_module_version": "1.5.0",
       "_view_name": "HTMLView",
       "description": "",
       "description_tooltip": null,
       "layout": "IPY_MODEL_1f155da5110c43848d20534484d0f7f1",
       "placeholder": "​",
       "style": "IPY_MODEL_2ade36011536457698a60ddaac6c6ffa",
       "value": "Downloading: 100%"
      }
     },
     "08090e1857664320981caca4a357cad7": {
      "model_module": "@jupyter-widgets/controls",
      "model_module_version": "1.5.0",
      "model_name": "FloatProgressModel",
      "state": {
       "_dom_classes": [],
       "_model_module": "@jupyter-widgets/controls",
       "_model_module_version": "1.5.0",
       "_model_name": "FloatProgressModel",
       "_view_count": null,
       "_view_module": "@jupyter-widgets/controls",
       "_view_module_version": "1.5.0",
       "_view_name": "ProgressView",
       "bar_style": "success",
       "description": "",
       "description_tooltip": null,
       "layout": "IPY_MODEL_2365fb87294f4bcf9a02637dfba12dba",
       "max": 267967963.0,
       "min": 0.0,
       "orientation": "horizontal",
       "style": "IPY_MODEL_cf7ce78670114cb68f3c0a0e37b0b533",
       "value": 267967963.0
      }
     },
     "0b3a42ddf6634f76ae7ae05b45c2b218": {
      "model_module": "@jupyter-widgets/controls",
      "model_module_version": "1.5.0",
      "model_name": "DescriptionStyleModel",
      "state": {
       "_model_module": "@jupyter-widgets/controls",
       "_model_module_version": "1.5.0",
       "_model_name": "DescriptionStyleModel",
       "_view_count": null,
       "_view_module": "@jupyter-widgets/base",
       "_view_module_version": "1.2.0",
       "_view_name": "StyleView",
       "description_width": ""
      }
     },
     "189e20181e5640c0b26349fb90733e03": {
      "model_module": "@jupyter-widgets/controls",
      "model_module_version": "1.5.0",
      "model_name": "HTMLModel",
      "state": {
       "_dom_classes": [],
       "_model_module": "@jupyter-widgets/controls",
       "_model_module_version": "1.5.0",
       "_model_name": "HTMLModel",
       "_view_count": null,
       "_view_module": "@jupyter-widgets/controls",
       "_view_module_version": "1.5.0",
       "_view_name": "HTMLView",
       "description": "",
       "description_tooltip": null,
       "layout": "IPY_MODEL_ef52d0a6414645bc97c1335e556e3509",
       "placeholder": "​",
       "style": "IPY_MODEL_4261d9065fad41d58e1507655b98dcac",
       "value": "Downloading: 100%"
      }
     },
     "1a5764385c8c466c93d0803339f4bd2f": {
      "model_module": "@jupyter-widgets/controls",
      "model_module_version": "1.5.0",
      "model_name": "DescriptionStyleModel",
      "state": {
       "_model_module": "@jupyter-widgets/controls",
       "_model_module_version": "1.5.0",
       "_model_name": "DescriptionStyleModel",
       "_view_count": null,
       "_view_module": "@jupyter-widgets/base",
       "_view_module_version": "1.2.0",
       "_view_name": "StyleView",
       "description_width": ""
      }
     },
     "1bb1c21f96164f4caddfa5bda10fd321": {
      "model_module": "@jupyter-widgets/controls",
      "model_module_version": "1.5.0",
      "model_name": "DescriptionStyleModel",
      "state": {
       "_model_module": "@jupyter-widgets/controls",
       "_model_module_version": "1.5.0",
       "_model_name": "DescriptionStyleModel",
       "_view_count": null,
       "_view_module": "@jupyter-widgets/base",
       "_view_module_version": "1.2.0",
       "_view_name": "StyleView",
       "description_width": ""
      }
     },
     "1bcb4b0e4b414e4b80bf18850ffd6cc2": {
      "model_module": "@jupyter-widgets/base",
      "model_module_version": "1.2.0",
      "model_name": "LayoutModel",
      "state": {
       "_model_module": "@jupyter-widgets/base",
       "_model_module_version": "1.2.0",
       "_model_name": "LayoutModel",
       "_view_count": null,
       "_view_module": "@jupyter-widgets/base",
       "_view_module_version": "1.2.0",
       "_view_name": "LayoutView",
       "align_content": null,
       "align_items": null,
       "align_self": null,
       "border": null,
       "bottom": null,
       "display": null,
       "flex": null,
       "flex_flow": null,
       "grid_area": null,
       "grid_auto_columns": null,
       "grid_auto_flow": null,
       "grid_auto_rows": null,
       "grid_column": null,
       "grid_gap": null,
       "grid_row": null,
       "grid_template_areas": null,
       "grid_template_columns": null,
       "grid_template_rows": null,
       "height": null,
       "justify_content": null,
       "justify_items": null,
       "left": null,
       "margin": null,
       "max_height": null,
       "max_width": null,
       "min_height": null,
       "min_width": null,
       "object_fit": null,
       "object_position": null,
       "order": null,
       "overflow": null,
       "overflow_x": null,
       "overflow_y": null,
       "padding": null,
       "right": null,
       "top": null,
       "visibility": null,
       "width": null
      }
     },
     "1e4bbc745ad54395965fd4b2cf7b5d43": {
      "model_module": "@jupyter-widgets/controls",
      "model_module_version": "1.5.0",
      "model_name": "HTMLModel",
      "state": {
       "_dom_classes": [],
       "_model_module": "@jupyter-widgets/controls",
       "_model_module_version": "1.5.0",
       "_model_name": "HTMLModel",
       "_view_count": null,
       "_view_module": "@jupyter-widgets/controls",
       "_view_module_version": "1.5.0",
       "_view_name": "HTMLView",
       "description": "",
       "description_tooltip": null,
       "layout": "IPY_MODEL_92b4a5b2871041cfbfad9cc20dcf024a",
       "placeholder": "​",
       "style": "IPY_MODEL_1bb1c21f96164f4caddfa5bda10fd321",
       "value": "Downloading: 100%"
      }
     },
     "1f155da5110c43848d20534484d0f7f1": {
      "model_module": "@jupyter-widgets/base",
      "model_module_version": "1.2.0",
      "model_name": "LayoutModel",
      "state": {
       "_model_module": "@jupyter-widgets/base",
       "_model_module_version": "1.2.0",
       "_model_name": "LayoutModel",
       "_view_count": null,
       "_view_module": "@jupyter-widgets/base",
       "_view_module_version": "1.2.0",
       "_view_name": "LayoutView",
       "align_content": null,
       "align_items": null,
       "align_self": null,
       "border": null,
       "bottom": null,
       "display": null,
       "flex": null,
       "flex_flow": null,
       "grid_area": null,
       "grid_auto_columns": null,
       "grid_auto_flow": null,
       "grid_auto_rows": null,
       "grid_column": null,
       "grid_gap": null,
       "grid_row": null,
       "grid_template_areas": null,
       "grid_template_columns": null,
       "grid_template_rows": null,
       "height": null,
       "justify_content": null,
       "justify_items": null,
       "left": null,
       "margin": null,
       "max_height": null,
       "max_width": null,
       "min_height": null,
       "min_width": null,
       "object_fit": null,
       "object_position": null,
       "order": null,
       "overflow": null,
       "overflow_x": null,
       "overflow_y": null,
       "padding": null,
       "right": null,
       "top": null,
       "visibility": null,
       "width": null
      }
     },
     "1f69189ab48842ff904cd5fbd6815e83": {
      "model_module": "@jupyter-widgets/controls",
      "model_module_version": "1.5.0",
      "model_name": "DescriptionStyleModel",
      "state": {
       "_model_module": "@jupyter-widgets/controls",
       "_model_module_version": "1.5.0",
       "_model_name": "DescriptionStyleModel",
       "_view_count": null,
       "_view_module": "@jupyter-widgets/base",
       "_view_module_version": "1.2.0",
       "_view_name": "StyleView",
       "description_width": ""
      }
     },
     "2365fb87294f4bcf9a02637dfba12dba": {
      "model_module": "@jupyter-widgets/base",
      "model_module_version": "1.2.0",
      "model_name": "LayoutModel",
      "state": {
       "_model_module": "@jupyter-widgets/base",
       "_model_module_version": "1.2.0",
       "_model_name": "LayoutModel",
       "_view_count": null,
       "_view_module": "@jupyter-widgets/base",
       "_view_module_version": "1.2.0",
       "_view_name": "LayoutView",
       "align_content": null,
       "align_items": null,
       "align_self": null,
       "border": null,
       "bottom": null,
       "display": null,
       "flex": null,
       "flex_flow": null,
       "grid_area": null,
       "grid_auto_columns": null,
       "grid_auto_flow": null,
       "grid_auto_rows": null,
       "grid_column": null,
       "grid_gap": null,
       "grid_row": null,
       "grid_template_areas": null,
       "grid_template_columns": null,
       "grid_template_rows": null,
       "height": null,
       "justify_content": null,
       "justify_items": null,
       "left": null,
       "margin": null,
       "max_height": null,
       "max_width": null,
       "min_height": null,
       "min_width": null,
       "object_fit": null,
       "object_position": null,
       "order": null,
       "overflow": null,
       "overflow_x": null,
       "overflow_y": null,
       "padding": null,
       "right": null,
       "top": null,
       "visibility": null,
       "width": null
      }
     },
     "260507ba29a74cdfa591658cced9fb8e": {
      "model_module": "@jupyter-widgets/controls",
      "model_module_version": "1.5.0",
      "model_name": "HBoxModel",
      "state": {
       "_dom_classes": [],
       "_model_module": "@jupyter-widgets/controls",
       "_model_module_version": "1.5.0",
       "_model_name": "HBoxModel",
       "_view_count": null,
       "_view_module": "@jupyter-widgets/controls",
       "_view_module_version": "1.5.0",
       "_view_name": "HBoxView",
       "box_style": "",
       "children": [
        "IPY_MODEL_189e20181e5640c0b26349fb90733e03",
        "IPY_MODEL_4dad495ec6ad47d3bd648a76b26e8b71",
        "IPY_MODEL_4e7bc1fd3326408ea4ae80322f3f5276"
       ],
       "layout": "IPY_MODEL_8e1188a620cb4ee482650dd82c36e7bb"
      }
     },
     "26aec8b6269a4204a5d341c908461b3d": {
      "model_module": "@jupyter-widgets/base",
      "model_module_version": "1.2.0",
      "model_name": "LayoutModel",
      "state": {
       "_model_module": "@jupyter-widgets/base",
       "_model_module_version": "1.2.0",
       "_model_name": "LayoutModel",
       "_view_count": null,
       "_view_module": "@jupyter-widgets/base",
       "_view_module_version": "1.2.0",
       "_view_name": "LayoutView",
       "align_content": null,
       "align_items": null,
       "align_self": null,
       "border": null,
       "bottom": null,
       "display": null,
       "flex": null,
       "flex_flow": null,
       "grid_area": null,
       "grid_auto_columns": null,
       "grid_auto_flow": null,
       "grid_auto_rows": null,
       "grid_column": null,
       "grid_gap": null,
       "grid_row": null,
       "grid_template_areas": null,
       "grid_template_columns": null,
       "grid_template_rows": null,
       "height": null,
       "justify_content": null,
       "justify_items": null,
       "left": null,
       "margin": null,
       "max_height": null,
       "max_width": null,
       "min_height": null,
       "min_width": null,
       "object_fit": null,
       "object_position": null,
       "order": null,
       "overflow": null,
       "overflow_x": null,
       "overflow_y": null,
       "padding": null,
       "right": null,
       "top": null,
       "visibility": null,
       "width": null
      }
     },
     "27bf7f7803e845a4bc613fc47cb76332": {
      "model_module": "@jupyter-widgets/controls",
      "model_module_version": "1.5.0",
      "model_name": "DescriptionStyleModel",
      "state": {
       "_model_module": "@jupyter-widgets/controls",
       "_model_module_version": "1.5.0",
       "_model_name": "DescriptionStyleModel",
       "_view_count": null,
       "_view_module": "@jupyter-widgets/base",
       "_view_module_version": "1.2.0",
       "_view_name": "StyleView",
       "description_width": ""
      }
     },
     "2a827079bee94d8eadba4b4e9ff306f0": {
      "model_module": "@jupyter-widgets/base",
      "model_module_version": "1.2.0",
      "model_name": "LayoutModel",
      "state": {
       "_model_module": "@jupyter-widgets/base",
       "_model_module_version": "1.2.0",
       "_model_name": "LayoutModel",
       "_view_count": null,
       "_view_module": "@jupyter-widgets/base",
       "_view_module_version": "1.2.0",
       "_view_name": "LayoutView",
       "align_content": null,
       "align_items": null,
       "align_self": null,
       "border": null,
       "bottom": null,
       "display": null,
       "flex": null,
       "flex_flow": null,
       "grid_area": null,
       "grid_auto_columns": null,
       "grid_auto_flow": null,
       "grid_auto_rows": null,
       "grid_column": null,
       "grid_gap": null,
       "grid_row": null,
       "grid_template_areas": null,
       "grid_template_columns": null,
       "grid_template_rows": null,
       "height": null,
       "justify_content": null,
       "justify_items": null,
       "left": null,
       "margin": null,
       "max_height": null,
       "max_width": null,
       "min_height": null,
       "min_width": null,
       "object_fit": null,
       "object_position": null,
       "order": null,
       "overflow": null,
       "overflow_x": null,
       "overflow_y": null,
       "padding": null,
       "right": null,
       "top": null,
       "visibility": null,
       "width": null
      }
     },
     "2aa323f5fac24c5a93d3ea7da9b97aee": {
      "model_module": "@jupyter-widgets/controls",
      "model_module_version": "1.5.0",
      "model_name": "HBoxModel",
      "state": {
       "_dom_classes": [],
       "_model_module": "@jupyter-widgets/controls",
       "_model_module_version": "1.5.0",
       "_model_name": "HBoxModel",
       "_view_count": null,
       "_view_module": "@jupyter-widgets/controls",
       "_view_module_version": "1.5.0",
       "_view_name": "HBoxView",
       "box_style": "",
       "children": [
        "IPY_MODEL_9f679472b9db4883a73c9f9fb50e5b30",
        "IPY_MODEL_08090e1857664320981caca4a357cad7",
        "IPY_MODEL_411c09ba67174ef2b7b4c59186a2b0d5"
       ],
       "layout": "IPY_MODEL_d26295cd953c477fbdb0d67f2c8ab46a"
      }
     },
     "2ade36011536457698a60ddaac6c6ffa": {
      "model_module": "@jupyter-widgets/controls",
      "model_module_version": "1.5.0",
      "model_name": "DescriptionStyleModel",
      "state": {
       "_model_module": "@jupyter-widgets/controls",
       "_model_module_version": "1.5.0",
       "_model_name": "DescriptionStyleModel",
       "_view_count": null,
       "_view_module": "@jupyter-widgets/base",
       "_view_module_version": "1.2.0",
       "_view_name": "StyleView",
       "description_width": ""
      }
     },
     "2c007dd3fc07439eb2ba1b32138c251e": {
      "model_module": "@jupyter-widgets/controls",
      "model_module_version": "1.5.0",
      "model_name": "DescriptionStyleModel",
      "state": {
       "_model_module": "@jupyter-widgets/controls",
       "_model_module_version": "1.5.0",
       "_model_name": "DescriptionStyleModel",
       "_view_count": null,
       "_view_module": "@jupyter-widgets/base",
       "_view_module_version": "1.2.0",
       "_view_name": "StyleView",
       "description_width": ""
      }
     },
     "2ce2f89621c44084907a69005c85424a": {
      "model_module": "@jupyter-widgets/controls",
      "model_module_version": "1.5.0",
      "model_name": "HTMLModel",
      "state": {
       "_dom_classes": [],
       "_model_module": "@jupyter-widgets/controls",
       "_model_module_version": "1.5.0",
       "_model_name": "HTMLModel",
       "_view_count": null,
       "_view_module": "@jupyter-widgets/controls",
       "_view_module_version": "1.5.0",
       "_view_name": "HTMLView",
       "description": "",
       "description_tooltip": null,
       "layout": "IPY_MODEL_0378f200293e4566923bcfb6b82c0bfa",
       "placeholder": "​",
       "style": "IPY_MODEL_1a5764385c8c466c93d0803339f4bd2f",
       "value": " 455k/455k [00:00&lt;00:00, 639kB/s]"
      }
     },
     "411c09ba67174ef2b7b4c59186a2b0d5": {
      "model_module": "@jupyter-widgets/controls",
      "model_module_version": "1.5.0",
      "model_name": "HTMLModel",
      "state": {
       "_dom_classes": [],
       "_model_module": "@jupyter-widgets/controls",
       "_model_module_version": "1.5.0",
       "_model_name": "HTMLModel",
       "_view_count": null,
       "_view_module": "@jupyter-widgets/controls",
       "_view_module_version": "1.5.0",
       "_view_name": "HTMLView",
       "description": "",
       "description_tooltip": null,
       "layout": "IPY_MODEL_fe3e0814d7914f18b514d5c784236e36",
       "placeholder": "​",
       "style": "IPY_MODEL_27bf7f7803e845a4bc613fc47cb76332",
       "value": " 256M/256M [00:19&lt;00:00, 18.0MB/s]"
      }
     },
     "4261d9065fad41d58e1507655b98dcac": {
      "model_module": "@jupyter-widgets/controls",
      "model_module_version": "1.5.0",
      "model_name": "DescriptionStyleModel",
      "state": {
       "_model_module": "@jupyter-widgets/controls",
       "_model_module_version": "1.5.0",
       "_model_name": "DescriptionStyleModel",
       "_view_count": null,
       "_view_module": "@jupyter-widgets/base",
       "_view_module_version": "1.2.0",
       "_view_name": "StyleView",
       "description_width": ""
      }
     },
     "467b8cb5c69244ff870b45bc562b0c3b": {
      "model_module": "@jupyter-widgets/controls",
      "model_module_version": "1.5.0",
      "model_name": "HBoxModel",
      "state": {
       "_dom_classes": [],
       "_model_module": "@jupyter-widgets/controls",
       "_model_module_version": "1.5.0",
       "_model_name": "HBoxModel",
       "_view_count": null,
       "_view_module": "@jupyter-widgets/controls",
       "_view_module_version": "1.5.0",
       "_view_name": "HBoxView",
       "box_style": "",
       "children": [
        "IPY_MODEL_1e4bbc745ad54395965fd4b2cf7b5d43",
        "IPY_MODEL_038e4c1fbffd477baf72579235e65a91",
        "IPY_MODEL_cda35d43ea4741289590241bfb802877"
       ],
       "layout": "IPY_MODEL_7a72e5c7bcc046aaa18da796813df8af"
      }
     },
     "4a738eae30f9452ba5be67ff5fff68c6": {
      "model_module": "@jupyter-widgets/base",
      "model_module_version": "1.2.0",
      "model_name": "LayoutModel",
      "state": {
       "_model_module": "@jupyter-widgets/base",
       "_model_module_version": "1.2.0",
       "_model_name": "LayoutModel",
       "_view_count": null,
       "_view_module": "@jupyter-widgets/base",
       "_view_module_version": "1.2.0",
       "_view_name": "LayoutView",
       "align_content": null,
       "align_items": null,
       "align_self": null,
       "border": null,
       "bottom": null,
       "display": null,
       "flex": null,
       "flex_flow": null,
       "grid_area": null,
       "grid_auto_columns": null,
       "grid_auto_flow": null,
       "grid_auto_rows": null,
       "grid_column": null,
       "grid_gap": null,
       "grid_row": null,
       "grid_template_areas": null,
       "grid_template_columns": null,
       "grid_template_rows": null,
       "height": null,
       "justify_content": null,
       "justify_items": null,
       "left": null,
       "margin": null,
       "max_height": null,
       "max_width": null,
       "min_height": null,
       "min_width": null,
       "object_fit": null,
       "object_position": null,
       "order": null,
       "overflow": null,
       "overflow_x": null,
       "overflow_y": null,
       "padding": null,
       "right": null,
       "top": null,
       "visibility": null,
       "width": null
      }
     },
     "4cc22ba3a16b481aabae87c5b3e3272d": {
      "model_module": "@jupyter-widgets/base",
      "model_module_version": "1.2.0",
      "model_name": "LayoutModel",
      "state": {
       "_model_module": "@jupyter-widgets/base",
       "_model_module_version": "1.2.0",
       "_model_name": "LayoutModel",
       "_view_count": null,
       "_view_module": "@jupyter-widgets/base",
       "_view_module_version": "1.2.0",
       "_view_name": "LayoutView",
       "align_content": null,
       "align_items": null,
       "align_self": null,
       "border": null,
       "bottom": null,
       "display": null,
       "flex": null,
       "flex_flow": null,
       "grid_area": null,
       "grid_auto_columns": null,
       "grid_auto_flow": null,
       "grid_auto_rows": null,
       "grid_column": null,
       "grid_gap": null,
       "grid_row": null,
       "grid_template_areas": null,
       "grid_template_columns": null,
       "grid_template_rows": null,
       "height": null,
       "justify_content": null,
       "justify_items": null,
       "left": null,
       "margin": null,
       "max_height": null,
       "max_width": null,
       "min_height": null,
       "min_width": null,
       "object_fit": null,
       "object_position": null,
       "order": null,
       "overflow": null,
       "overflow_x": null,
       "overflow_y": null,
       "padding": null,
       "right": null,
       "top": null,
       "visibility": null,
       "width": null
      }
     },
     "4dad495ec6ad47d3bd648a76b26e8b71": {
      "model_module": "@jupyter-widgets/controls",
      "model_module_version": "1.5.0",
      "model_name": "FloatProgressModel",
      "state": {
       "_dom_classes": [],
       "_model_module": "@jupyter-widgets/controls",
       "_model_module_version": "1.5.0",
       "_model_name": "FloatProgressModel",
       "_view_count": null,
       "_view_module": "@jupyter-widgets/controls",
       "_view_module_version": "1.5.0",
       "_view_name": "ProgressView",
       "bar_style": "success",
       "description": "",
       "description_tooltip": null,
       "layout": "IPY_MODEL_26aec8b6269a4204a5d341c908461b3d",
       "max": 231508.0,
       "min": 0.0,
       "orientation": "horizontal",
       "style": "IPY_MODEL_c626fac309d641678764583676402367",
       "value": 231508.0
      }
     },
     "4e7bc1fd3326408ea4ae80322f3f5276": {
      "model_module": "@jupyter-widgets/controls",
      "model_module_version": "1.5.0",
      "model_name": "HTMLModel",
      "state": {
       "_dom_classes": [],
       "_model_module": "@jupyter-widgets/controls",
       "_model_module_version": "1.5.0",
       "_model_name": "HTMLModel",
       "_view_count": null,
       "_view_module": "@jupyter-widgets/controls",
       "_view_module_version": "1.5.0",
       "_view_name": "HTMLView",
       "description": "",
       "description_tooltip": null,
       "layout": "IPY_MODEL_d5bcfedc2ad843a38808222a46a59812",
       "placeholder": "​",
       "style": "IPY_MODEL_1f69189ab48842ff904cd5fbd6815e83",
       "value": " 226k/226k [00:00&lt;00:00, 253kB/s]"
      }
     },
     "601dbb03a1524e8a9c5802163e4eecdf": {
      "model_module": "@jupyter-widgets/base",
      "model_module_version": "1.2.0",
      "model_name": "LayoutModel",
      "state": {
       "_model_module": "@jupyter-widgets/base",
       "_model_module_version": "1.2.0",
       "_model_name": "LayoutModel",
       "_view_count": null,
       "_view_module": "@jupyter-widgets/base",
       "_view_module_version": "1.2.0",
       "_view_name": "LayoutView",
       "align_content": null,
       "align_items": null,
       "align_self": null,
       "border": null,
       "bottom": null,
       "display": null,
       "flex": null,
       "flex_flow": null,
       "grid_area": null,
       "grid_auto_columns": null,
       "grid_auto_flow": null,
       "grid_auto_rows": null,
       "grid_column": null,
       "grid_gap": null,
       "grid_row": null,
       "grid_template_areas": null,
       "grid_template_columns": null,
       "grid_template_rows": null,
       "height": null,
       "justify_content": null,
       "justify_items": null,
       "left": null,
       "margin": null,
       "max_height": null,
       "max_width": null,
       "min_height": null,
       "min_width": null,
       "object_fit": null,
       "object_position": null,
       "order": null,
       "overflow": null,
       "overflow_x": null,
       "overflow_y": null,
       "padding": null,
       "right": null,
       "top": null,
       "visibility": null,
       "width": null
      }
     },
     "6944c7db0e974578a133de6f12c42249": {
      "model_module": "@jupyter-widgets/base",
      "model_module_version": "1.2.0",
      "model_name": "LayoutModel",
      "state": {
       "_model_module": "@jupyter-widgets/base",
       "_model_module_version": "1.2.0",
       "_model_name": "LayoutModel",
       "_view_count": null,
       "_view_module": "@jupyter-widgets/base",
       "_view_module_version": "1.2.0",
       "_view_name": "LayoutView",
       "align_content": null,
       "align_items": null,
       "align_self": null,
       "border": null,
       "bottom": null,
       "display": null,
       "flex": null,
       "flex_flow": null,
       "grid_area": null,
       "grid_auto_columns": null,
       "grid_auto_flow": null,
       "grid_auto_rows": null,
       "grid_column": null,
       "grid_gap": null,
       "grid_row": null,
       "grid_template_areas": null,
       "grid_template_columns": null,
       "grid_template_rows": null,
       "height": null,
       "justify_content": null,
       "justify_items": null,
       "left": null,
       "margin": null,
       "max_height": null,
       "max_width": null,
       "min_height": null,
       "min_width": null,
       "object_fit": null,
       "object_position": null,
       "order": null,
       "overflow": null,
       "overflow_x": null,
       "overflow_y": null,
       "padding": null,
       "right": null,
       "top": null,
       "visibility": null,
       "width": null
      }
     },
     "7a72e5c7bcc046aaa18da796813df8af": {
      "model_module": "@jupyter-widgets/base",
      "model_module_version": "1.2.0",
      "model_name": "LayoutModel",
      "state": {
       "_model_module": "@jupyter-widgets/base",
       "_model_module_version": "1.2.0",
       "_model_name": "LayoutModel",
       "_view_count": null,
       "_view_module": "@jupyter-widgets/base",
       "_view_module_version": "1.2.0",
       "_view_name": "LayoutView",
       "align_content": null,
       "align_items": null,
       "align_self": null,
       "border": null,
       "bottom": null,
       "display": null,
       "flex": null,
       "flex_flow": null,
       "grid_area": null,
       "grid_auto_columns": null,
       "grid_auto_flow": null,
       "grid_auto_rows": null,
       "grid_column": null,
       "grid_gap": null,
       "grid_row": null,
       "grid_template_areas": null,
       "grid_template_columns": null,
       "grid_template_rows": null,
       "height": null,
       "justify_content": null,
       "justify_items": null,
       "left": null,
       "margin": null,
       "max_height": null,
       "max_width": null,
       "min_height": null,
       "min_width": null,
       "object_fit": null,
       "object_position": null,
       "order": null,
       "overflow": null,
       "overflow_x": null,
       "overflow_y": null,
       "padding": null,
       "right": null,
       "top": null,
       "visibility": null,
       "width": null
      }
     },
     "8e1188a620cb4ee482650dd82c36e7bb": {
      "model_module": "@jupyter-widgets/base",
      "model_module_version": "1.2.0",
      "model_name": "LayoutModel",
      "state": {
       "_model_module": "@jupyter-widgets/base",
       "_model_module_version": "1.2.0",
       "_model_name": "LayoutModel",
       "_view_count": null,
       "_view_module": "@jupyter-widgets/base",
       "_view_module_version": "1.2.0",
       "_view_name": "LayoutView",
       "align_content": null,
       "align_items": null,
       "align_self": null,
       "border": null,
       "bottom": null,
       "display": null,
       "flex": null,
       "flex_flow": null,
       "grid_area": null,
       "grid_auto_columns": null,
       "grid_auto_flow": null,
       "grid_auto_rows": null,
       "grid_column": null,
       "grid_gap": null,
       "grid_row": null,
       "grid_template_areas": null,
       "grid_template_columns": null,
       "grid_template_rows": null,
       "height": null,
       "justify_content": null,
       "justify_items": null,
       "left": null,
       "margin": null,
       "max_height": null,
       "max_width": null,
       "min_height": null,
       "min_width": null,
       "object_fit": null,
       "object_position": null,
       "order": null,
       "overflow": null,
       "overflow_x": null,
       "overflow_y": null,
       "padding": null,
       "right": null,
       "top": null,
       "visibility": null,
       "width": null
      }
     },
     "8f636a2342594163bf06406b135e5ef6": {
      "model_module": "@jupyter-widgets/controls",
      "model_module_version": "1.5.0",
      "model_name": "FloatProgressModel",
      "state": {
       "_dom_classes": [],
       "_model_module": "@jupyter-widgets/controls",
       "_model_module_version": "1.5.0",
       "_model_name": "FloatProgressModel",
       "_view_count": null,
       "_view_module": "@jupyter-widgets/controls",
       "_view_module_version": "1.5.0",
       "_view_name": "ProgressView",
       "bar_style": "success",
       "description": "",
       "description_tooltip": null,
       "layout": "IPY_MODEL_4a738eae30f9452ba5be67ff5fff68c6",
       "max": 483.0,
       "min": 0.0,
       "orientation": "horizontal",
       "style": "IPY_MODEL_f679bbd5f9044395910c17f11521c669",
       "value": 483.0
      }
     },
     "92b4a5b2871041cfbfad9cc20dcf024a": {
      "model_module": "@jupyter-widgets/base",
      "model_module_version": "1.2.0",
      "model_name": "LayoutModel",
      "state": {
       "_model_module": "@jupyter-widgets/base",
       "_model_module_version": "1.2.0",
       "_model_name": "LayoutModel",
       "_view_count": null,
       "_view_module": "@jupyter-widgets/base",
       "_view_module_version": "1.2.0",
       "_view_name": "LayoutView",
       "align_content": null,
       "align_items": null,
       "align_self": null,
       "border": null,
       "bottom": null,
       "display": null,
       "flex": null,
       "flex_flow": null,
       "grid_area": null,
       "grid_auto_columns": null,
       "grid_auto_flow": null,
       "grid_auto_rows": null,
       "grid_column": null,
       "grid_gap": null,
       "grid_row": null,
       "grid_template_areas": null,
       "grid_template_columns": null,
       "grid_template_rows": null,
       "height": null,
       "justify_content": null,
       "justify_items": null,
       "left": null,
       "margin": null,
       "max_height": null,
       "max_width": null,
       "min_height": null,
       "min_width": null,
       "object_fit": null,
       "object_position": null,
       "order": null,
       "overflow": null,
       "overflow_x": null,
       "overflow_y": null,
       "padding": null,
       "right": null,
       "top": null,
       "visibility": null,
       "width": null
      }
     },
     "99504b8d5cd04f8d92c1fd2b08baaae9": {
      "model_module": "@jupyter-widgets/base",
      "model_module_version": "1.2.0",
      "model_name": "LayoutModel",
      "state": {
       "_model_module": "@jupyter-widgets/base",
       "_model_module_version": "1.2.0",
       "_model_name": "LayoutModel",
       "_view_count": null,
       "_view_module": "@jupyter-widgets/base",
       "_view_module_version": "1.2.0",
       "_view_name": "LayoutView",
       "align_content": null,
       "align_items": null,
       "align_self": null,
       "border": null,
       "bottom": null,
       "display": null,
       "flex": null,
       "flex_flow": null,
       "grid_area": null,
       "grid_auto_columns": null,
       "grid_auto_flow": null,
       "grid_auto_rows": null,
       "grid_column": null,
       "grid_gap": null,
       "grid_row": null,
       "grid_template_areas": null,
       "grid_template_columns": null,
       "grid_template_rows": null,
       "height": null,
       "justify_content": null,
       "justify_items": null,
       "left": null,
       "margin": null,
       "max_height": null,
       "max_width": null,
       "min_height": null,
       "min_width": null,
       "object_fit": null,
       "object_position": null,
       "order": null,
       "overflow": null,
       "overflow_x": null,
       "overflow_y": null,
       "padding": null,
       "right": null,
       "top": null,
       "visibility": null,
       "width": null
      }
     },
     "9a4d4c3bc6f64e1b9fed889bc14954d6": {
      "model_module": "@jupyter-widgets/controls",
      "model_module_version": "1.5.0",
      "model_name": "DescriptionStyleModel",
      "state": {
       "_model_module": "@jupyter-widgets/controls",
       "_model_module_version": "1.5.0",
       "_model_name": "DescriptionStyleModel",
       "_view_count": null,
       "_view_module": "@jupyter-widgets/base",
       "_view_module_version": "1.2.0",
       "_view_name": "StyleView",
       "description_width": ""
      }
     },
     "9a7e6ac9dcc7462fab8e32de8b0e2478": {
      "model_module": "@jupyter-widgets/base",
      "model_module_version": "1.2.0",
      "model_name": "LayoutModel",
      "state": {
       "_model_module": "@jupyter-widgets/base",
       "_model_module_version": "1.2.0",
       "_model_name": "LayoutModel",
       "_view_count": null,
       "_view_module": "@jupyter-widgets/base",
       "_view_module_version": "1.2.0",
       "_view_name": "LayoutView",
       "align_content": null,
       "align_items": null,
       "align_self": null,
       "border": null,
       "bottom": null,
       "display": null,
       "flex": null,
       "flex_flow": null,
       "grid_area": null,
       "grid_auto_columns": null,
       "grid_auto_flow": null,
       "grid_auto_rows": null,
       "grid_column": null,
       "grid_gap": null,
       "grid_row": null,
       "grid_template_areas": null,
       "grid_template_columns": null,
       "grid_template_rows": null,
       "height": null,
       "justify_content": null,
       "justify_items": null,
       "left": null,
       "margin": null,
       "max_height": null,
       "max_width": null,
       "min_height": null,
       "min_width": null,
       "object_fit": null,
       "object_position": null,
       "order": null,
       "overflow": null,
       "overflow_x": null,
       "overflow_y": null,
       "padding": null,
       "right": null,
       "top": null,
       "visibility": null,
       "width": null
      }
     },
     "9f679472b9db4883a73c9f9fb50e5b30": {
      "model_module": "@jupyter-widgets/controls",
      "model_module_version": "1.5.0",
      "model_name": "HTMLModel",
      "state": {
       "_dom_classes": [],
       "_model_module": "@jupyter-widgets/controls",
       "_model_module_version": "1.5.0",
       "_model_name": "HTMLModel",
       "_view_count": null,
       "_view_module": "@jupyter-widgets/controls",
       "_view_module_version": "1.5.0",
       "_view_name": "HTMLView",
       "description": "",
       "description_tooltip": null,
       "layout": "IPY_MODEL_1bcb4b0e4b414e4b80bf18850ffd6cc2",
       "placeholder": "​",
       "style": "IPY_MODEL_0587c932585546f1892a9d2c975d162e",
       "value": "Downloading: 100%"
      }
     },
     "a9a2b15e7d284e82b49273ab0d31c8b3": {
      "model_module": "@jupyter-widgets/controls",
      "model_module_version": "1.5.0",
      "model_name": "HBoxModel",
      "state": {
       "_dom_classes": [],
       "_model_module": "@jupyter-widgets/controls",
       "_model_module_version": "1.5.0",
       "_model_name": "HBoxModel",
       "_view_count": null,
       "_view_module": "@jupyter-widgets/controls",
       "_view_module_version": "1.5.0",
       "_view_name": "HBoxView",
       "box_style": "",
       "children": [
        "IPY_MODEL_07eb8dd9e4544396b6d2e2de22786aa6",
        "IPY_MODEL_8f636a2342594163bf06406b135e5ef6",
        "IPY_MODEL_fa1a8a2e5b52413f92b2ceee6dac3786"
       ],
       "layout": "IPY_MODEL_6944c7db0e974578a133de6f12c42249"
      }
     },
     "b3163087ac2347899b8f1791fa65037a": {
      "model_module": "@jupyter-widgets/controls",
      "model_module_version": "1.5.0",
      "model_name": "FloatProgressModel",
      "state": {
       "_dom_classes": [],
       "_model_module": "@jupyter-widgets/controls",
       "_model_module_version": "1.5.0",
       "_model_name": "FloatProgressModel",
       "_view_count": null,
       "_view_module": "@jupyter-widgets/controls",
       "_view_module_version": "1.5.0",
       "_view_name": "ProgressView",
       "bar_style": "success",
       "description": "",
       "description_tooltip": null,
       "layout": "IPY_MODEL_99504b8d5cd04f8d92c1fd2b08baaae9",
       "max": 466062.0,
       "min": 0.0,
       "orientation": "horizontal",
       "style": "IPY_MODEL_ff2e061cb76948148de3563374b6654a",
       "value": 466062.0
      }
     },
     "bf5331ab68b646b98aa5715223a53e19": {
      "model_module": "@jupyter-widgets/base",
      "model_module_version": "1.2.0",
      "model_name": "LayoutModel",
      "state": {
       "_model_module": "@jupyter-widgets/base",
       "_model_module_version": "1.2.0",
       "_model_name": "LayoutModel",
       "_view_count": null,
       "_view_module": "@jupyter-widgets/base",
       "_view_module_version": "1.2.0",
       "_view_name": "LayoutView",
       "align_content": null,
       "align_items": null,
       "align_self": null,
       "border": null,
       "bottom": null,
       "display": null,
       "flex": null,
       "flex_flow": null,
       "grid_area": null,
       "grid_auto_columns": null,
       "grid_auto_flow": null,
       "grid_auto_rows": null,
       "grid_column": null,
       "grid_gap": null,
       "grid_row": null,
       "grid_template_areas": null,
       "grid_template_columns": null,
       "grid_template_rows": null,
       "height": null,
       "justify_content": null,
       "justify_items": null,
       "left": null,
       "margin": null,
       "max_height": null,
       "max_width": null,
       "min_height": null,
       "min_width": null,
       "object_fit": null,
       "object_position": null,
       "order": null,
       "overflow": null,
       "overflow_x": null,
       "overflow_y": null,
       "padding": null,
       "right": null,
       "top": null,
       "visibility": null,
       "width": null
      }
     },
     "c626fac309d641678764583676402367": {
      "model_module": "@jupyter-widgets/controls",
      "model_module_version": "1.5.0",
      "model_name": "ProgressStyleModel",
      "state": {
       "_model_module": "@jupyter-widgets/controls",
       "_model_module_version": "1.5.0",
       "_model_name": "ProgressStyleModel",
       "_view_count": null,
       "_view_module": "@jupyter-widgets/base",
       "_view_module_version": "1.2.0",
       "_view_name": "StyleView",
       "bar_color": null,
       "description_width": ""
      }
     },
     "cda35d43ea4741289590241bfb802877": {
      "model_module": "@jupyter-widgets/controls",
      "model_module_version": "1.5.0",
      "model_name": "HTMLModel",
      "state": {
       "_dom_classes": [],
       "_model_module": "@jupyter-widgets/controls",
       "_model_module_version": "1.5.0",
       "_model_name": "HTMLModel",
       "_view_count": null,
       "_view_module": "@jupyter-widgets/controls",
       "_view_module_version": "1.5.0",
       "_view_name": "HTMLView",
       "description": "",
       "description_tooltip": null,
       "layout": "IPY_MODEL_4cc22ba3a16b481aabae87c5b3e3272d",
       "placeholder": "​",
       "style": "IPY_MODEL_2c007dd3fc07439eb2ba1b32138c251e",
       "value": " 28.0/28.0 [00:00&lt;00:00, 949B/s]"
      }
     },
     "cf7ce78670114cb68f3c0a0e37b0b533": {
      "model_module": "@jupyter-widgets/controls",
      "model_module_version": "1.5.0",
      "model_name": "ProgressStyleModel",
      "state": {
       "_model_module": "@jupyter-widgets/controls",
       "_model_module_version": "1.5.0",
       "_model_name": "ProgressStyleModel",
       "_view_count": null,
       "_view_module": "@jupyter-widgets/base",
       "_view_module_version": "1.2.0",
       "_view_name": "StyleView",
       "bar_color": null,
       "description_width": ""
      }
     },
     "d26295cd953c477fbdb0d67f2c8ab46a": {
      "model_module": "@jupyter-widgets/base",
      "model_module_version": "1.2.0",
      "model_name": "LayoutModel",
      "state": {
       "_model_module": "@jupyter-widgets/base",
       "_model_module_version": "1.2.0",
       "_model_name": "LayoutModel",
       "_view_count": null,
       "_view_module": "@jupyter-widgets/base",
       "_view_module_version": "1.2.0",
       "_view_name": "LayoutView",
       "align_content": null,
       "align_items": null,
       "align_self": null,
       "border": null,
       "bottom": null,
       "display": null,
       "flex": null,
       "flex_flow": null,
       "grid_area": null,
       "grid_auto_columns": null,
       "grid_auto_flow": null,
       "grid_auto_rows": null,
       "grid_column": null,
       "grid_gap": null,
       "grid_row": null,
       "grid_template_areas": null,
       "grid_template_columns": null,
       "grid_template_rows": null,
       "height": null,
       "justify_content": null,
       "justify_items": null,
       "left": null,
       "margin": null,
       "max_height": null,
       "max_width": null,
       "min_height": null,
       "min_width": null,
       "object_fit": null,
       "object_position": null,
       "order": null,
       "overflow": null,
       "overflow_x": null,
       "overflow_y": null,
       "padding": null,
       "right": null,
       "top": null,
       "visibility": null,
       "width": null
      }
     },
     "d4d51c671d0e45ce91a27abdf8565b36": {
      "model_module": "@jupyter-widgets/controls",
      "model_module_version": "1.5.0",
      "model_name": "ProgressStyleModel",
      "state": {
       "_model_module": "@jupyter-widgets/controls",
       "_model_module_version": "1.5.0",
       "_model_name": "ProgressStyleModel",
       "_view_count": null,
       "_view_module": "@jupyter-widgets/base",
       "_view_module_version": "1.2.0",
       "_view_name": "StyleView",
       "bar_color": null,
       "description_width": ""
      }
     },
     "d5bcfedc2ad843a38808222a46a59812": {
      "model_module": "@jupyter-widgets/base",
      "model_module_version": "1.2.0",
      "model_name": "LayoutModel",
      "state": {
       "_model_module": "@jupyter-widgets/base",
       "_model_module_version": "1.2.0",
       "_model_name": "LayoutModel",
       "_view_count": null,
       "_view_module": "@jupyter-widgets/base",
       "_view_module_version": "1.2.0",
       "_view_name": "LayoutView",
       "align_content": null,
       "align_items": null,
       "align_self": null,
       "border": null,
       "bottom": null,
       "display": null,
       "flex": null,
       "flex_flow": null,
       "grid_area": null,
       "grid_auto_columns": null,
       "grid_auto_flow": null,
       "grid_auto_rows": null,
       "grid_column": null,
       "grid_gap": null,
       "grid_row": null,
       "grid_template_areas": null,
       "grid_template_columns": null,
       "grid_template_rows": null,
       "height": null,
       "justify_content": null,
       "justify_items": null,
       "left": null,
       "margin": null,
       "max_height": null,
       "max_width": null,
       "min_height": null,
       "min_width": null,
       "object_fit": null,
       "object_position": null,
       "order": null,
       "overflow": null,
       "overflow_x": null,
       "overflow_y": null,
       "padding": null,
       "right": null,
       "top": null,
       "visibility": null,
       "width": null
      }
     },
     "ebc26d9f166f42e28467c4a8516a95e7": {
      "model_module": "@jupyter-widgets/controls",
      "model_module_version": "1.5.0",
      "model_name": "HBoxModel",
      "state": {
       "_dom_classes": [],
       "_model_module": "@jupyter-widgets/controls",
       "_model_module_version": "1.5.0",
       "_model_name": "HBoxModel",
       "_view_count": null,
       "_view_module": "@jupyter-widgets/controls",
       "_view_module_version": "1.5.0",
       "_view_name": "HBoxView",
       "box_style": "",
       "children": [
        "IPY_MODEL_ff61b3f7efb141d797e88e55e9615669",
        "IPY_MODEL_b3163087ac2347899b8f1791fa65037a",
        "IPY_MODEL_2ce2f89621c44084907a69005c85424a"
       ],
       "layout": "IPY_MODEL_bf5331ab68b646b98aa5715223a53e19"
      }
     },
     "ef52d0a6414645bc97c1335e556e3509": {
      "model_module": "@jupyter-widgets/base",
      "model_module_version": "1.2.0",
      "model_name": "LayoutModel",
      "state": {
       "_model_module": "@jupyter-widgets/base",
       "_model_module_version": "1.2.0",
       "_model_name": "LayoutModel",
       "_view_count": null,
       "_view_module": "@jupyter-widgets/base",
       "_view_module_version": "1.2.0",
       "_view_name": "LayoutView",
       "align_content": null,
       "align_items": null,
       "align_self": null,
       "border": null,
       "bottom": null,
       "display": null,
       "flex": null,
       "flex_flow": null,
       "grid_area": null,
       "grid_auto_columns": null,
       "grid_auto_flow": null,
       "grid_auto_rows": null,
       "grid_column": null,
       "grid_gap": null,
       "grid_row": null,
       "grid_template_areas": null,
       "grid_template_columns": null,
       "grid_template_rows": null,
       "height": null,
       "justify_content": null,
       "justify_items": null,
       "left": null,
       "margin": null,
       "max_height": null,
       "max_width": null,
       "min_height": null,
       "min_width": null,
       "object_fit": null,
       "object_position": null,
       "order": null,
       "overflow": null,
       "overflow_x": null,
       "overflow_y": null,
       "padding": null,
       "right": null,
       "top": null,
       "visibility": null,
       "width": null
      }
     },
     "f679bbd5f9044395910c17f11521c669": {
      "model_module": "@jupyter-widgets/controls",
      "model_module_version": "1.5.0",
      "model_name": "ProgressStyleModel",
      "state": {
       "_model_module": "@jupyter-widgets/controls",
       "_model_module_version": "1.5.0",
       "_model_name": "ProgressStyleModel",
       "_view_count": null,
       "_view_module": "@jupyter-widgets/base",
       "_view_module_version": "1.2.0",
       "_view_name": "StyleView",
       "bar_color": null,
       "description_width": ""
      }
     },
     "fa1a8a2e5b52413f92b2ceee6dac3786": {
      "model_module": "@jupyter-widgets/controls",
      "model_module_version": "1.5.0",
      "model_name": "HTMLModel",
      "state": {
       "_dom_classes": [],
       "_model_module": "@jupyter-widgets/controls",
       "_model_module_version": "1.5.0",
       "_model_name": "HTMLModel",
       "_view_count": null,
       "_view_module": "@jupyter-widgets/controls",
       "_view_module_version": "1.5.0",
       "_view_name": "HTMLView",
       "description": "",
       "description_tooltip": null,
       "layout": "IPY_MODEL_601dbb03a1524e8a9c5802163e4eecdf",
       "placeholder": "​",
       "style": "IPY_MODEL_0b3a42ddf6634f76ae7ae05b45c2b218",
       "value": " 483/483 [00:00&lt;00:00, 16.9kB/s]"
      }
     },
     "fe3e0814d7914f18b514d5c784236e36": {
      "model_module": "@jupyter-widgets/base",
      "model_module_version": "1.2.0",
      "model_name": "LayoutModel",
      "state": {
       "_model_module": "@jupyter-widgets/base",
       "_model_module_version": "1.2.0",
       "_model_name": "LayoutModel",
       "_view_count": null,
       "_view_module": "@jupyter-widgets/base",
       "_view_module_version": "1.2.0",
       "_view_name": "LayoutView",
       "align_content": null,
       "align_items": null,
       "align_self": null,
       "border": null,
       "bottom": null,
       "display": null,
       "flex": null,
       "flex_flow": null,
       "grid_area": null,
       "grid_auto_columns": null,
       "grid_auto_flow": null,
       "grid_auto_rows": null,
       "grid_column": null,
       "grid_gap": null,
       "grid_row": null,
       "grid_template_areas": null,
       "grid_template_columns": null,
       "grid_template_rows": null,
       "height": null,
       "justify_content": null,
       "justify_items": null,
       "left": null,
       "margin": null,
       "max_height": null,
       "max_width": null,
       "min_height": null,
       "min_width": null,
       "object_fit": null,
       "object_position": null,
       "order": null,
       "overflow": null,
       "overflow_x": null,
       "overflow_y": null,
       "padding": null,
       "right": null,
       "top": null,
       "visibility": null,
       "width": null
      }
     },
     "ff2e061cb76948148de3563374b6654a": {
      "model_module": "@jupyter-widgets/controls",
      "model_module_version": "1.5.0",
      "model_name": "ProgressStyleModel",
      "state": {
       "_model_module": "@jupyter-widgets/controls",
       "_model_module_version": "1.5.0",
       "_model_name": "ProgressStyleModel",
       "_view_count": null,
       "_view_module": "@jupyter-widgets/base",
       "_view_module_version": "1.2.0",
       "_view_name": "StyleView",
       "bar_color": null,
       "description_width": ""
      }
     },
     "ff61b3f7efb141d797e88e55e9615669": {
      "model_module": "@jupyter-widgets/controls",
      "model_module_version": "1.5.0",
      "model_name": "HTMLModel",
      "state": {
       "_dom_classes": [],
       "_model_module": "@jupyter-widgets/controls",
       "_model_module_version": "1.5.0",
       "_model_name": "HTMLModel",
       "_view_count": null,
       "_view_module": "@jupyter-widgets/controls",
       "_view_module_version": "1.5.0",
       "_view_name": "HTMLView",
       "description": "",
       "description_tooltip": null,
       "layout": "IPY_MODEL_2a827079bee94d8eadba4b4e9ff306f0",
       "placeholder": "​",
       "style": "IPY_MODEL_9a4d4c3bc6f64e1b9fed889bc14954d6",
       "value": "Downloading: 100%"
      }
     }
    },
    "version_major": 2,
    "version_minor": 0
   }
  }
 },
 "nbformat": 4,
 "nbformat_minor": 5
}
