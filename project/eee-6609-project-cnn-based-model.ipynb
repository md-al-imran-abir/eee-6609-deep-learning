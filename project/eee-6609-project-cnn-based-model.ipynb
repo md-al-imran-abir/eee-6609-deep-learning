{
 "cells": [
  {
   "cell_type": "code",
   "execution_count": 1,
   "id": "ef37ce10",
   "metadata": {
    "_cell_guid": "b1076dfc-b9ad-4769-8c92-a6c4dae69d19",
    "_uuid": "8f2839f25d086af736a60e9eeb907d3b93b6e0e5",
    "execution": {
     "iopub.execute_input": "2022-04-15T10:25:57.575902Z",
     "iopub.status.busy": "2022-04-15T10:25:57.574716Z",
     "iopub.status.idle": "2022-04-15T10:26:05.259975Z",
     "shell.execute_reply": "2022-04-15T10:26:05.258770Z",
     "shell.execute_reply.started": "2022-04-15T10:22:33.547956Z"
    },
    "papermill": {
     "duration": 7.726671,
     "end_time": "2022-04-15T10:26:05.260150",
     "exception": false,
     "start_time": "2022-04-15T10:25:57.533479",
     "status": "completed"
    },
    "tags": []
   },
   "outputs": [],
   "source": [
    "import numpy as np\n",
    "import pandas as pd \n",
    "\n",
    "import os\n",
    "import json\n",
    "\n",
    "import tensorflow as tf\n",
    "\n",
    "from keras.preprocessing.text import Tokenizer\n",
    "from keras.preprocessing.sequence import pad_sequences\n",
    "from tensorflow.keras.utils import to_categorical\n",
    "from sklearn.model_selection import train_test_split\n",
    "\n",
    "import matplotlib.pyplot as plt\n",
    "import seaborn as sns"
   ]
  },
  {
   "cell_type": "markdown",
   "id": "6415531f",
   "metadata": {
    "papermill": {
     "duration": 0.035076,
     "end_time": "2022-04-15T10:26:05.332736",
     "exception": false,
     "start_time": "2022-04-15T10:26:05.297660",
     "status": "completed"
    },
    "tags": []
   },
   "source": [
    "# Data Loading"
   ]
  },
  {
   "cell_type": "code",
   "execution_count": 2,
   "id": "8a1eae85",
   "metadata": {
    "execution": {
     "iopub.execute_input": "2022-04-15T10:26:05.409928Z",
     "iopub.status.busy": "2022-04-15T10:26:05.409096Z",
     "iopub.status.idle": "2022-04-15T10:26:05.412359Z",
     "shell.execute_reply": "2022-04-15T10:26:05.412948Z",
     "shell.execute_reply.started": "2022-04-15T10:22:41.282020Z"
    },
    "papermill": {
     "duration": 0.043147,
     "end_time": "2022-04-15T10:26:05.413147",
     "exception": false,
     "start_time": "2022-04-15T10:26:05.370000",
     "status": "completed"
    },
    "tags": []
   },
   "outputs": [],
   "source": [
    "## path to directories\n",
    "transcript_path = \"../input/harpervalleydataset-transcript-only/HarperValleyDataset_transcript/HarperValley_transcript/\"\n",
    "metadata_path = \"../input/harpervalleydataset-transcript-only/HarperValleyDataset_metadata/metadata/\""
   ]
  },
  {
   "cell_type": "markdown",
   "id": "c72eb139",
   "metadata": {
    "papermill": {
     "duration": 0.035439,
     "end_time": "2022-04-15T10:26:05.486556",
     "exception": false,
     "start_time": "2022-04-15T10:26:05.451117",
     "status": "completed"
    },
    "tags": []
   },
   "source": [
    "## Reading the transcripts"
   ]
  },
  {
   "cell_type": "code",
   "execution_count": 3,
   "id": "97dd16b2",
   "metadata": {
    "execution": {
     "iopub.execute_input": "2022-04-15T10:26:05.562927Z",
     "iopub.status.busy": "2022-04-15T10:26:05.562221Z",
     "iopub.status.idle": "2022-04-15T10:26:08.757519Z",
     "shell.execute_reply": "2022-04-15T10:26:08.756673Z",
     "shell.execute_reply.started": "2022-04-15T10:22:41.290050Z"
    },
    "papermill": {
     "duration": 3.234646,
     "end_time": "2022-04-15T10:26:08.757686",
     "exception": false,
     "start_time": "2022-04-15T10:26:05.523040",
     "status": "completed"
    },
    "tags": []
   },
   "outputs": [],
   "source": [
    "all_trans = list()\n",
    "for file in os.listdir(transcript_path):\n",
    "    filename = \"%s%s\" % (transcript_path, file)\n",
    "    with open(filename, 'r') as fi:\n",
    "        js_text = json.load(fi)\n",
    "        h_trans = [item[\"speaker_role\"] + \" \" + item[\"human_transcript\"] for item in js_text]\n",
    "        str_trans = ' '.join(str(item) for item in h_trans)\n",
    "        all_trans.append(str_trans)"
   ]
  },
  {
   "cell_type": "code",
   "execution_count": 4,
   "id": "35c944c8",
   "metadata": {
    "execution": {
     "iopub.execute_input": "2022-04-15T10:26:08.858530Z",
     "iopub.status.busy": "2022-04-15T10:26:08.856988Z",
     "iopub.status.idle": "2022-04-15T10:26:08.859706Z",
     "shell.execute_reply": "2022-04-15T10:26:08.859162Z",
     "shell.execute_reply.started": "2022-04-15T10:22:47.359127Z"
    },
    "papermill": {
     "duration": 0.060035,
     "end_time": "2022-04-15T10:26:08.859869",
     "exception": false,
     "start_time": "2022-04-15T10:26:08.799834",
     "status": "completed"
    },
    "tags": []
   },
   "outputs": [],
   "source": [
    "# print(type(all_trans))\n",
    "# print(len(all_trans))\n",
    "# # print(all_trans[:1])\n",
    "df_x = pd.DataFrame(all_trans, columns = [\"transcript\"])\n",
    "# df_x.tail()"
   ]
  },
  {
   "cell_type": "markdown",
   "id": "20812e66",
   "metadata": {
    "papermill": {
     "duration": 0.037292,
     "end_time": "2022-04-15T10:26:08.933049",
     "exception": false,
     "start_time": "2022-04-15T10:26:08.895757",
     "status": "completed"
    },
    "tags": []
   },
   "source": [
    "## Reading the labels"
   ]
  },
  {
   "cell_type": "code",
   "execution_count": 5,
   "id": "1fb09083",
   "metadata": {
    "execution": {
     "iopub.execute_input": "2022-04-15T10:26:09.013563Z",
     "iopub.status.busy": "2022-04-15T10:26:09.012729Z",
     "iopub.status.idle": "2022-04-15T10:26:11.587035Z",
     "shell.execute_reply": "2022-04-15T10:26:11.586014Z",
     "shell.execute_reply.started": "2022-04-15T10:22:47.370344Z"
    },
    "papermill": {
     "duration": 2.617788,
     "end_time": "2022-04-15T10:26:11.587211",
     "exception": false,
     "start_time": "2022-04-15T10:26:08.969423",
     "status": "completed"
    },
    "tags": []
   },
   "outputs": [],
   "source": [
    "all_labels = list()\n",
    "for file in os.listdir(metadata_path):\n",
    "    filename = \"%s%s\" % (metadata_path, file)\n",
    "    with open(filename, 'r') as fi:\n",
    "        js_text = json.load(fi)\n",
    "        task = js_text[\"tasks\"][0][\"task_type\"]\n",
    "        all_labels.append(task)"
   ]
  },
  {
   "cell_type": "code",
   "execution_count": 6,
   "id": "33c05f39",
   "metadata": {
    "execution": {
     "iopub.execute_input": "2022-04-15T10:26:11.670893Z",
     "iopub.status.busy": "2022-04-15T10:26:11.670025Z",
     "iopub.status.idle": "2022-04-15T10:26:11.682106Z",
     "shell.execute_reply": "2022-04-15T10:26:11.682602Z",
     "shell.execute_reply.started": "2022-04-15T10:22:52.677082Z"
    },
    "papermill": {
     "duration": 0.058957,
     "end_time": "2022-04-15T10:26:11.682791",
     "exception": false,
     "start_time": "2022-04-15T10:26:11.623834",
     "status": "completed"
    },
    "tags": []
   },
   "outputs": [
    {
     "data": {
      "text/html": [
       "<div>\n",
       "<style scoped>\n",
       "    .dataframe tbody tr th:only-of-type {\n",
       "        vertical-align: middle;\n",
       "    }\n",
       "\n",
       "    .dataframe tbody tr th {\n",
       "        vertical-align: top;\n",
       "    }\n",
       "\n",
       "    .dataframe thead th {\n",
       "        text-align: right;\n",
       "    }\n",
       "</style>\n",
       "<table border=\"1\" class=\"dataframe\">\n",
       "  <thead>\n",
       "    <tr style=\"text-align: right;\">\n",
       "      <th></th>\n",
       "      <th>tasks</th>\n",
       "    </tr>\n",
       "  </thead>\n",
       "  <tbody>\n",
       "    <tr>\n",
       "      <th>995</th>\n",
       "      <td>check balance</td>\n",
       "    </tr>\n",
       "    <tr>\n",
       "      <th>996</th>\n",
       "      <td>order checks</td>\n",
       "    </tr>\n",
       "    <tr>\n",
       "      <th>997</th>\n",
       "      <td>order checks</td>\n",
       "    </tr>\n",
       "    <tr>\n",
       "      <th>998</th>\n",
       "      <td>order checks</td>\n",
       "    </tr>\n",
       "    <tr>\n",
       "      <th>999</th>\n",
       "      <td>check balance</td>\n",
       "    </tr>\n",
       "  </tbody>\n",
       "</table>\n",
       "</div>"
      ],
      "text/plain": [
       "             tasks\n",
       "995  check balance\n",
       "996   order checks\n",
       "997   order checks\n",
       "998   order checks\n",
       "999  check balance"
      ]
     },
     "execution_count": 6,
     "metadata": {},
     "output_type": "execute_result"
    }
   ],
   "source": [
    "df_y = pd.DataFrame(all_labels, columns = [\"tasks\"])\n",
    "df_y.tail()"
   ]
  },
  {
   "cell_type": "code",
   "execution_count": 7,
   "id": "010e279b",
   "metadata": {
    "execution": {
     "iopub.execute_input": "2022-04-15T10:26:11.760571Z",
     "iopub.status.busy": "2022-04-15T10:26:11.759483Z",
     "iopub.status.idle": "2022-04-15T10:26:12.165558Z",
     "shell.execute_reply": "2022-04-15T10:26:12.166154Z",
     "shell.execute_reply.started": "2022-04-15T10:22:52.704059Z"
    },
    "papermill": {
     "duration": 0.446959,
     "end_time": "2022-04-15T10:26:12.166342",
     "exception": false,
     "start_time": "2022-04-15T10:26:11.719383",
     "status": "completed"
    },
    "tags": []
   },
   "outputs": [
    {
     "data": {
      "image/png": "[encoded data removed]",
      "text/plain": [
       "<Figure size 432x288 with 1 Axes>"
      ]
     },
     "metadata": {
      "needs_background": "light"
     },
     "output_type": "display_data"
    }
   ],
   "source": [
    "x = \"tasks\"\n",
    "fig, ax = plt.subplots()\n",
    "# fig.suptitle(x, fontsize=12)\n",
    "df_y[x].reset_index().groupby(x).count().sort_values(by= \n",
    "       \"index\").plot(kind=\"barh\", legend=False, \n",
    "        ax=ax).grid(axis='x')\n",
    "plt.savefig(\"task_distribution.png\", bbox_inches='tight')\n",
    "plt.show()"
   ]
  },
  {
   "cell_type": "code",
   "execution_count": 8,
   "id": "3af3a2d9",
   "metadata": {
    "execution": {
     "iopub.execute_input": "2022-04-15T10:26:12.255643Z",
     "iopub.status.busy": "2022-04-15T10:26:12.254975Z",
     "iopub.status.idle": "2022-04-15T10:26:12.259759Z",
     "shell.execute_reply": "2022-04-15T10:26:12.259226Z",
     "shell.execute_reply.started": "2022-04-15T10:22:53.077047Z"
    },
    "papermill": {
     "duration": 0.055615,
     "end_time": "2022-04-15T10:26:12.259907",
     "exception": false,
     "start_time": "2022-04-15T10:26:12.204292",
     "status": "completed"
    },
    "tags": []
   },
   "outputs": [
    {
     "data": {
      "text/html": [
       "<div>\n",
       "<style scoped>\n",
       "    .dataframe tbody tr th:only-of-type {\n",
       "        vertical-align: middle;\n",
       "    }\n",
       "\n",
       "    .dataframe tbody tr th {\n",
       "        vertical-align: top;\n",
       "    }\n",
       "\n",
       "    .dataframe thead th {\n",
       "        text-align: right;\n",
       "    }\n",
       "</style>\n",
       "<table border=\"1\" class=\"dataframe\">\n",
       "  <thead>\n",
       "    <tr style=\"text-align: right;\">\n",
       "      <th></th>\n",
       "      <th>transcript</th>\n",
       "      <th>tasks</th>\n",
       "    </tr>\n",
       "  </thead>\n",
       "  <tbody>\n",
       "    <tr>\n",
       "      <th>995</th>\n",
       "      <td>agent hello this is harper valley national ban...</td>\n",
       "      <td>check balance</td>\n",
       "    </tr>\n",
       "    <tr>\n",
       "      <th>996</th>\n",
       "      <td>agent hello this is harper valley national ban...</td>\n",
       "      <td>order checks</td>\n",
       "    </tr>\n",
       "    <tr>\n",
       "      <th>997</th>\n",
       "      <td>agent hello agent this is harper valley nation...</td>\n",
       "      <td>order checks</td>\n",
       "    </tr>\n",
       "    <tr>\n",
       "      <th>998</th>\n",
       "      <td>agent hello this is agent hello this is harper...</td>\n",
       "      <td>order checks</td>\n",
       "    </tr>\n",
       "    <tr>\n",
       "      <th>999</th>\n",
       "      <td>agent [noise] agent hello this is harper valle...</td>\n",
       "      <td>check balance</td>\n",
       "    </tr>\n",
       "  </tbody>\n",
       "</table>\n",
       "</div>"
      ],
      "text/plain": [
       "                                            transcript          tasks\n",
       "995  agent hello this is harper valley national ban...  check balance\n",
       "996  agent hello this is harper valley national ban...   order checks\n",
       "997  agent hello agent this is harper valley nation...   order checks\n",
       "998  agent hello this is agent hello this is harper...   order checks\n",
       "999  agent [noise] agent hello this is harper valle...  check balance"
      ]
     },
     "execution_count": 8,
     "metadata": {},
     "output_type": "execute_result"
    }
   ],
   "source": [
    "df = pd.concat([df_x, df_y], axis=1)\n",
    "df.tail()"
   ]
  },
  {
   "cell_type": "markdown",
   "id": "4327e195",
   "metadata": {
    "papermill": {
     "duration": 0.036866,
     "end_time": "2022-04-15T10:26:12.334184",
     "exception": false,
     "start_time": "2022-04-15T10:26:12.297318",
     "status": "completed"
    },
    "tags": []
   },
   "source": [
    "# Data Preprocessing"
   ]
  },
  {
   "cell_type": "code",
   "execution_count": 9,
   "id": "549608a5",
   "metadata": {
    "execution": {
     "iopub.execute_input": "2022-04-15T10:26:12.416918Z",
     "iopub.status.busy": "2022-04-15T10:26:12.415227Z",
     "iopub.status.idle": "2022-04-15T10:26:12.417649Z",
     "shell.execute_reply": "2022-04-15T10:26:12.418155Z",
     "shell.execute_reply.started": "2022-04-15T10:22:53.091871Z"
    },
    "papermill": {
     "duration": 0.045836,
     "end_time": "2022-04-15T10:26:12.418351",
     "exception": false,
     "start_time": "2022-04-15T10:26:12.372515",
     "status": "completed"
    },
    "tags": []
   },
   "outputs": [],
   "source": [
    "max_seq = 40\n",
    "max_vocab_size = 5000"
   ]
  },
  {
   "cell_type": "code",
   "execution_count": 10,
   "id": "c2ce67ba",
   "metadata": {
    "execution": {
     "iopub.execute_input": "2022-04-15T10:26:12.498774Z",
     "iopub.status.busy": "2022-04-15T10:26:12.498095Z",
     "iopub.status.idle": "2022-04-15T10:26:12.661334Z",
     "shell.execute_reply": "2022-04-15T10:26:12.662339Z",
     "shell.execute_reply.started": "2022-04-15T10:22:53.102433Z"
    },
    "papermill": {
     "duration": 0.205978,
     "end_time": "2022-04-15T10:26:12.662714",
     "exception": false,
     "start_time": "2022-04-15T10:26:12.456736",
     "status": "completed"
    },
    "tags": []
   },
   "outputs": [
    {
     "name": "stdout",
     "output_type": "stream",
     "text": [
      "Found 663 unique tokens. <class 'dict'>\n"
     ]
    }
   ],
   "source": [
    "tokenizer = Tokenizer(num_words=max_vocab_size)\n",
    "tokenizer.fit_on_texts(df['transcript'])\n",
    "sequences = tokenizer.texts_to_sequences(df['transcript'])\n",
    "word_index = tokenizer.word_index\n",
    "print(\"Found %s unique tokens.\" % len(word_index), type(word_index))"
   ]
  },
  {
   "cell_type": "code",
   "execution_count": 11,
   "id": "407bc19e",
   "metadata": {
    "execution": {
     "iopub.execute_input": "2022-04-15T10:26:12.750766Z",
     "iopub.status.busy": "2022-04-15T10:26:12.745583Z",
     "iopub.status.idle": "2022-04-15T10:26:12.774441Z",
     "shell.execute_reply": "2022-04-15T10:26:12.775051Z",
     "shell.execute_reply.started": "2022-04-15T10:22:53.278550Z"
    },
    "papermill": {
     "duration": 0.072165,
     "end_time": "2022-04-15T10:26:12.775259",
     "exception": false,
     "start_time": "2022-04-15T10:26:12.703094",
     "status": "completed"
    },
    "tags": []
   },
   "outputs": [
    {
     "name": "stdout",
     "output_type": "stream",
     "text": [
      "shape of data tensor: (1000, 430) <class 'numpy.ndarray'>\n",
      "shape of label tensor: (1000, 8) <class 'numpy.ndarray'>\n"
     ]
    }
   ],
   "source": [
    "data = pad_sequences(sequences, maxlen=430, padding='post')\n",
    "encoded_dict = {\"check balance\":0, \"get branch hours\":1, \"replace card\":2, \"pay bill\":3, \"order checks\":4, \"schedule appointment\":5, \"reset password\":6, \"transfer money\":7}\n",
    "df['tasks_cat'] = df.tasks.map(encoded_dict)\n",
    "labels = to_categorical(df.tasks_cat)\n",
    "print(\"shape of data tensor:\", data.shape, type(data))\n",
    "print(\"shape of label tensor:\", labels.shape, type(labels))"
   ]
  },
  {
   "cell_type": "code",
   "execution_count": 12,
   "id": "f037da1b",
   "metadata": {
    "execution": {
     "iopub.execute_input": "2022-04-15T10:26:12.858922Z",
     "iopub.status.busy": "2022-04-15T10:26:12.858174Z",
     "iopub.status.idle": "2022-04-15T10:26:12.862632Z",
     "shell.execute_reply": "2022-04-15T10:26:12.862058Z",
     "shell.execute_reply.started": "2022-04-15T10:22:53.309541Z"
    },
    "papermill": {
     "duration": 0.048268,
     "end_time": "2022-04-15T10:26:12.862821",
     "exception": false,
     "start_time": "2022-04-15T10:26:12.814553",
     "status": "completed"
    },
    "tags": []
   },
   "outputs": [],
   "source": [
    "# data_sliced = data[:, 15:55]\n",
    "data_sliced = data"
   ]
  },
  {
   "cell_type": "code",
   "execution_count": 13,
   "id": "2a86afe1",
   "metadata": {
    "execution": {
     "iopub.execute_input": "2022-04-15T10:26:12.946897Z",
     "iopub.status.busy": "2022-04-15T10:26:12.946107Z",
     "iopub.status.idle": "2022-04-15T10:26:12.948908Z",
     "shell.execute_reply": "2022-04-15T10:26:12.949411Z",
     "shell.execute_reply.started": "2022-04-15T10:22:53.315719Z"
    },
    "papermill": {
     "duration": 0.047369,
     "end_time": "2022-04-15T10:26:12.949604",
     "exception": false,
     "start_time": "2022-04-15T10:26:12.902235",
     "status": "completed"
    },
    "tags": []
   },
   "outputs": [
    {
     "name": "stdout",
     "output_type": "stream",
     "text": [
      "(1000, 430)\n"
     ]
    }
   ],
   "source": [
    "print(data_sliced.shape)"
   ]
  },
  {
   "cell_type": "markdown",
   "id": "0fdbec18",
   "metadata": {
    "papermill": {
     "duration": 0.039554,
     "end_time": "2022-04-15T10:26:13.029954",
     "exception": false,
     "start_time": "2022-04-15T10:26:12.990400",
     "status": "completed"
    },
    "tags": []
   },
   "source": [
    "## Splitting into training and test data"
   ]
  },
  {
   "cell_type": "code",
   "execution_count": 14,
   "id": "108067dd",
   "metadata": {
    "execution": {
     "iopub.execute_input": "2022-04-15T10:26:13.114990Z",
     "iopub.status.busy": "2022-04-15T10:26:13.114232Z",
     "iopub.status.idle": "2022-04-15T10:26:13.118600Z",
     "shell.execute_reply": "2022-04-15T10:26:13.119126Z",
     "shell.execute_reply.started": "2022-04-15T10:22:53.329805Z"
    },
    "papermill": {
     "duration": 0.049845,
     "end_time": "2022-04-15T10:26:13.119321",
     "exception": false,
     "start_time": "2022-04-15T10:26:13.069476",
     "status": "completed"
    },
    "tags": []
   },
   "outputs": [],
   "source": [
    "X_train_val, X_test, y_train_val, y_test = train_test_split(data_sliced, labels, test_size=0.15, random_state=1)"
   ]
  },
  {
   "cell_type": "code",
   "execution_count": 15,
   "id": "9ca86ad3",
   "metadata": {
    "execution": {
     "iopub.execute_input": "2022-04-15T10:26:13.204986Z",
     "iopub.status.busy": "2022-04-15T10:26:13.203258Z",
     "iopub.status.idle": "2022-04-15T10:26:13.209275Z",
     "shell.execute_reply": "2022-04-15T10:26:13.209804Z",
     "shell.execute_reply.started": "2022-04-15T10:22:53.345064Z"
    },
    "papermill": {
     "duration": 0.050389,
     "end_time": "2022-04-15T10:26:13.210048",
     "exception": false,
     "start_time": "2022-04-15T10:26:13.159659",
     "status": "completed"
    },
    "tags": []
   },
   "outputs": [
    {
     "name": "stdout",
     "output_type": "stream",
     "text": [
      "(850, 430)\n"
     ]
    }
   ],
   "source": [
    "print(X_train_val.shape)"
   ]
  },
  {
   "cell_type": "markdown",
   "id": "6df88f17",
   "metadata": {
    "papermill": {
     "duration": 0.040599,
     "end_time": "2022-04-15T10:26:13.290826",
     "exception": false,
     "start_time": "2022-04-15T10:26:13.250227",
     "status": "completed"
    },
    "tags": []
   },
   "source": [
    "## Validation data"
   ]
  },
  {
   "cell_type": "code",
   "execution_count": 16,
   "id": "926894af",
   "metadata": {
    "execution": {
     "iopub.execute_input": "2022-04-15T10:26:13.375826Z",
     "iopub.status.busy": "2022-04-15T10:26:13.375091Z",
     "iopub.status.idle": "2022-04-15T10:26:13.382545Z",
     "shell.execute_reply": "2022-04-15T10:26:13.381983Z",
     "shell.execute_reply.started": "2022-04-15T10:22:53.356906Z"
    },
    "papermill": {
     "duration": 0.051155,
     "end_time": "2022-04-15T10:26:13.382729",
     "exception": false,
     "start_time": "2022-04-15T10:26:13.331574",
     "status": "completed"
    },
    "tags": []
   },
   "outputs": [],
   "source": [
    "X_train, X_val, y_train, y_val = train_test_split(X_train_val, y_train_val, test_size=0.2, random_state=1)"
   ]
  },
  {
   "cell_type": "code",
   "execution_count": 17,
   "id": "a6365269",
   "metadata": {
    "execution": {
     "iopub.execute_input": "2022-04-15T10:26:13.473455Z",
     "iopub.status.busy": "2022-04-15T10:26:13.472655Z",
     "iopub.status.idle": "2022-04-15T10:26:13.476095Z",
     "shell.execute_reply": "2022-04-15T10:26:13.475442Z",
     "shell.execute_reply.started": "2022-04-15T10:22:53.373521Z"
    },
    "papermill": {
     "duration": 0.05164,
     "end_time": "2022-04-15T10:26:13.476253",
     "exception": false,
     "start_time": "2022-04-15T10:26:13.424613",
     "status": "completed"
    },
    "tags": []
   },
   "outputs": [
    {
     "name": "stdout",
     "output_type": "stream",
     "text": [
      "(680, 430) (170, 430)\n"
     ]
    }
   ],
   "source": [
    "print(X_train.shape, X_val.shape)"
   ]
  },
  {
   "cell_type": "markdown",
   "id": "7ff77496",
   "metadata": {
    "papermill": {
     "duration": 0.039498,
     "end_time": "2022-04-15T10:26:13.556732",
     "exception": false,
     "start_time": "2022-04-15T10:26:13.517234",
     "status": "completed"
    },
    "tags": []
   },
   "source": [
    "# Model"
   ]
  },
  {
   "cell_type": "code",
   "execution_count": 18,
   "id": "bc13122c",
   "metadata": {
    "execution": {
     "iopub.execute_input": "2022-04-15T10:26:13.642111Z",
     "iopub.status.busy": "2022-04-15T10:26:13.641394Z",
     "iopub.status.idle": "2022-04-15T10:26:13.643907Z",
     "shell.execute_reply": "2022-04-15T10:26:13.643219Z",
     "shell.execute_reply.started": "2022-04-15T10:22:53.384554Z"
    },
    "papermill": {
     "duration": 0.047292,
     "end_time": "2022-04-15T10:26:13.644067",
     "exception": false,
     "start_time": "2022-04-15T10:26:13.596775",
     "status": "completed"
    },
    "tags": []
   },
   "outputs": [],
   "source": [
    "from keras.layers import Dense, Input, GlobalMaxPool1D\n",
    "from keras.layers import Conv1D, MaxPooling1D, Embedding, Flatten\n",
    "from keras.models import Model, Sequential\n",
    "from keras.initializers import Constant"
   ]
  },
  {
   "cell_type": "code",
   "execution_count": 19,
   "id": "5002c0b4",
   "metadata": {
    "execution": {
     "iopub.execute_input": "2022-04-15T10:26:13.730519Z",
     "iopub.status.busy": "2022-04-15T10:26:13.729479Z",
     "iopub.status.idle": "2022-04-15T10:26:13.762750Z",
     "shell.execute_reply": "2022-04-15T10:26:13.762111Z",
     "shell.execute_reply.started": "2022-04-15T10:22:53.396994Z"
    },
    "papermill": {
     "duration": 0.078773,
     "end_time": "2022-04-15T10:26:13.762911",
     "exception": false,
     "start_time": "2022-04-15T10:26:13.684138",
     "status": "completed"
    },
    "tags": []
   },
   "outputs": [],
   "source": [
    "embedding_dim = 60\n",
    "num_words = min(max_vocab_size, len(word_index)+1)\n",
    "embedding_layer = Embedding(num_words, embedding_dim, input_length=max_seq, trainable=True)"
   ]
  },
  {
   "cell_type": "code",
   "execution_count": 20,
   "id": "87703901",
   "metadata": {
    "execution": {
     "iopub.execute_input": "2022-04-15T10:26:13.863110Z",
     "iopub.status.busy": "2022-04-15T10:26:13.859581Z",
     "iopub.status.idle": "2022-04-15T10:26:14.117924Z",
     "shell.execute_reply": "2022-04-15T10:26:14.117040Z",
     "shell.execute_reply.started": "2022-04-15T10:22:53.438131Z"
    },
    "papermill": {
     "duration": 0.315848,
     "end_time": "2022-04-15T10:26:14.118106",
     "exception": false,
     "start_time": "2022-04-15T10:26:13.802258",
     "status": "completed"
    },
    "tags": []
   },
   "outputs": [
    {
     "name": "stderr",
     "output_type": "stream",
     "text": [
      "2022-04-15 10:26:13.886230: I tensorflow/core/common_runtime/process_util.cc:146] Creating new thread pool with default inter op setting: 2. Tune using inter_op_parallelism_threads for best performance.\n"
     ]
    },
    {
     "name": "stdout",
     "output_type": "stream",
     "text": [
      "Model: \"model\"\n",
      "_________________________________________________________________\n",
      "Layer (type)                 Output Shape              Param #   \n",
      "=================================================================\n",
      "input_1 (InputLayer)         [(None, 430)]             0         \n",
      "_________________________________________________________________\n",
      "embedding (Embedding)        (None, 430, 60)           39840     \n",
      "_________________________________________________________________\n",
      "conv1d (Conv1D)              (None, 426, 64)           19264     \n",
      "_________________________________________________________________\n",
      "conv1d_1 (Conv1D)            (None, 422, 64)           20544     \n",
      "_________________________________________________________________\n",
      "max_pooling1d (MaxPooling1D) (None, 211, 64)           0         \n",
      "_________________________________________________________________\n",
      "conv1d_2 (Conv1D)            (None, 207, 64)           20544     \n",
      "_________________________________________________________________\n",
      "conv1d_3 (Conv1D)            (None, 203, 64)           20544     \n",
      "_________________________________________________________________\n",
      "max_pooling1d_1 (MaxPooling1 (None, 101, 64)           0         \n",
      "_________________________________________________________________\n",
      "conv1d_4 (Conv1D)            (None, 99, 128)           24704     \n",
      "_________________________________________________________________\n",
      "conv1d_5 (Conv1D)            (None, 97, 128)           49280     \n",
      "_________________________________________________________________\n",
      "max_pooling1d_2 (MaxPooling1 (None, 48, 128)           0         \n",
      "_________________________________________________________________\n",
      "flatten (Flatten)            (None, 6144)              0         \n",
      "_________________________________________________________________\n",
      "dense (Dense)                (None, 100)               614500    \n",
      "_________________________________________________________________\n",
      "dense_1 (Dense)              (None, 100)               10100     \n",
      "_________________________________________________________________\n",
      "dense_2 (Dense)              (None, 8)                 808       \n",
      "=================================================================\n",
      "Total params: 820,128\n",
      "Trainable params: 820,128\n",
      "Non-trainable params: 0\n",
      "_________________________________________________________________\n"
     ]
    }
   ],
   "source": [
    "sequence_input = Input(shape=(430,), dtype='int32')\n",
    "embedded_sequences = embedding_layer(sequence_input)\n",
    "x = Conv1D(64, 5, activation='relu')(embedded_sequences)\n",
    "x = Conv1D(64, 5, activation='relu')(x)\n",
    "x = MaxPooling1D(2)(x)\n",
    "x = Conv1D(64, 5, activation='relu')(x)\n",
    "x = Conv1D(64, 5, activation='relu')(x)\n",
    "x = MaxPooling1D(2)(x)\n",
    "x = Conv1D(128, 3, activation='relu')(x)\n",
    "x = Conv1D(128, 3, activation='relu')(x)\n",
    "x = MaxPooling1D(2)(x)\n",
    "x = Flatten()(x)\n",
    "x = Dense(100, activation='relu')(x)\n",
    "x = Dense(100, activation='relu')(x)\n",
    "preds = Dense(8, activation='softmax')(x)\n",
    "model = Model(inputs=sequence_input, outputs=preds)\n",
    "model.compile(loss=\"categorical_crossentropy\", optimizer=\"adam\", metrics=[\"acc\", tf.keras.metrics.Precision(), tf.keras.metrics.Recall()])\n",
    "model.summary()"
   ]
  },
  {
   "cell_type": "code",
   "execution_count": 21,
   "id": "ade2a6c3",
   "metadata": {
    "execution": {
     "iopub.execute_input": "2022-04-15T10:26:14.249716Z",
     "iopub.status.busy": "2022-04-15T10:26:14.247981Z",
     "iopub.status.idle": "2022-04-15T10:26:14.253248Z",
     "shell.execute_reply": "2022-04-15T10:26:14.252711Z",
     "shell.execute_reply.started": "2022-04-15T10:22:53.693638Z"
    },
    "papermill": {
     "duration": 0.093319,
     "end_time": "2022-04-15T10:26:14.253403",
     "exception": false,
     "start_time": "2022-04-15T10:26:14.160084",
     "status": "completed"
    },
    "tags": []
   },
   "outputs": [],
   "source": [
    "model_table=pd.DataFrame(columns=[\"Type\",\"Shape\", \"Param #\"])\n",
    "for layer in model.layers:\n",
    "    model_table = model_table.append({\"Type\": layer.__class__.__name__,\"Shape\":layer.output_shape, \"Param #\":layer.count_params()}, ignore_index=True)"
   ]
  },
  {
   "cell_type": "code",
   "execution_count": 22,
   "id": "949df9e3",
   "metadata": {
    "execution": {
     "iopub.execute_input": "2022-04-15T10:26:14.340760Z",
     "iopub.status.busy": "2022-04-15T10:26:14.340005Z",
     "iopub.status.idle": "2022-04-15T10:26:14.365464Z",
     "shell.execute_reply": "2022-04-15T10:26:14.364435Z",
     "shell.execute_reply.started": "2022-04-15T10:22:53.750357Z"
    },
    "papermill": {
     "duration": 0.071758,
     "end_time": "2022-04-15T10:26:14.365719",
     "exception": false,
     "start_time": "2022-04-15T10:26:14.293961",
     "status": "completed"
    },
    "tags": []
   },
   "outputs": [
    {
     "name": "stdout",
     "output_type": "stream",
     "text": [
      "\\begin{tabular}{lll}\n",
      "\\toprule\n",
      "        Type &           Shape & Param \\# \\\\\n",
      "\\midrule\n",
      "  InputLayer &   [(None, 430)] &       0 \\\\\n",
      "   Embedding & (None, 430, 60) &   39840 \\\\\n",
      "      Conv1D & (None, 426, 64) &   19264 \\\\\n",
      "      Conv1D & (None, 422, 64) &   20544 \\\\\n",
      "MaxPooling1D & (None, 211, 64) &       0 \\\\\n",
      "      Conv1D & (None, 207, 64) &   20544 \\\\\n",
      "      Conv1D & (None, 203, 64) &   20544 \\\\\n",
      "MaxPooling1D & (None, 101, 64) &       0 \\\\\n",
      "      Conv1D & (None, 99, 128) &   24704 \\\\\n",
      "      Conv1D & (None, 97, 128) &   49280 \\\\\n",
      "MaxPooling1D & (None, 48, 128) &       0 \\\\\n",
      "     Flatten &    (None, 6144) &       0 \\\\\n",
      "       Dense &     (None, 100) &  614500 \\\\\n",
      "       Dense &     (None, 100) &   10100 \\\\\n",
      "       Dense &       (None, 8) &     808 \\\\\n",
      "\\bottomrule\n",
      "\\end{tabular}\n",
      "\n"
     ]
    }
   ],
   "source": [
    "model_table.head()\n",
    "print(model_table.to_latex(index=False))"
   ]
  },
  {
   "cell_type": "code",
   "execution_count": 23,
   "id": "1d65538c",
   "metadata": {
    "execution": {
     "iopub.execute_input": "2022-04-15T10:26:14.454580Z",
     "iopub.status.busy": "2022-04-15T10:26:14.453735Z",
     "iopub.status.idle": "2022-04-15T10:26:14.458564Z",
     "shell.execute_reply": "2022-04-15T10:26:14.457468Z",
     "shell.execute_reply.started": "2022-04-15T10:22:53.778472Z"
    },
    "papermill": {
     "duration": 0.051189,
     "end_time": "2022-04-15T10:26:14.458754",
     "exception": false,
     "start_time": "2022-04-15T10:26:14.407565",
     "status": "completed"
    },
    "tags": []
   },
   "outputs": [
    {
     "name": "stdout",
     "output_type": "stream",
     "text": [
      "(680, 430)\n"
     ]
    }
   ],
   "source": [
    "print(X_train.shape)"
   ]
  },
  {
   "cell_type": "code",
   "execution_count": 24,
   "id": "394efcb4",
   "metadata": {
    "execution": {
     "iopub.execute_input": "2022-04-15T10:26:14.544486Z",
     "iopub.status.busy": "2022-04-15T10:26:14.543851Z",
     "iopub.status.idle": "2022-04-15T10:26:56.141935Z",
     "shell.execute_reply": "2022-04-15T10:26:56.141360Z",
     "shell.execute_reply.started": "2022-04-15T10:23:53.960689Z"
    },
    "papermill": {
     "duration": 41.642373,
     "end_time": "2022-04-15T10:26:56.142097",
     "exception": false,
     "start_time": "2022-04-15T10:26:14.499724",
     "status": "completed"
    },
    "tags": []
   },
   "outputs": [
    {
     "name": "stderr",
     "output_type": "stream",
     "text": [
      "2022-04-15 10:26:14.626200: I tensorflow/compiler/mlir/mlir_graph_optimization_pass.cc:185] None of the MLIR Optimization Passes are enabled (registered 2)\n"
     ]
    },
    {
     "name": "stdout",
     "output_type": "stream",
     "text": [
      "Epoch 1/30\n",
      "22/22 [==============================] - 5s 148ms/step - loss: 2.0787 - acc: 0.1250 - precision: 0.0000e+00 - recall: 0.0000e+00 - val_loss: 2.0639 - val_acc: 0.1176 - val_precision: 0.0000e+00 - val_recall: 0.0000e+00\n",
      "Epoch 2/30\n",
      "22/22 [==============================] - 3s 137ms/step - loss: 1.6500 - acc: 0.3515 - precision: 0.6016 - recall: 0.1088 - val_loss: 1.1885 - val_acc: 0.5588 - val_precision: 0.7111 - val_recall: 0.3765\n",
      "Epoch 3/30\n",
      "22/22 [==============================] - 2s 103ms/step - loss: 0.9260 - acc: 0.6412 - precision: 0.7651 - recall: 0.5029 - val_loss: 1.0031 - val_acc: 0.6353 - val_precision: 0.8365 - val_recall: 0.5118\n",
      "Epoch 4/30\n",
      "22/22 [==============================] - 2s 103ms/step - loss: 0.6353 - acc: 0.7647 - precision: 0.8506 - recall: 0.6779 - val_loss: 0.8762 - val_acc: 0.7176 - val_precision: 0.7284 - val_recall: 0.6941\n",
      "Epoch 5/30\n",
      "22/22 [==============================] - 2s 105ms/step - loss: 0.3897 - acc: 0.8662 - precision: 0.8961 - recall: 0.8368 - val_loss: 0.5693 - val_acc: 0.8471 - val_precision: 0.8554 - val_recall: 0.8353\n",
      "Epoch 6/30\n",
      "22/22 [==============================] - 2s 103ms/step - loss: 0.1765 - acc: 0.9426 - precision: 0.9449 - recall: 0.9338 - val_loss: 0.6261 - val_acc: 0.8824 - val_precision: 0.8848 - val_recall: 0.8588\n",
      "Epoch 7/30\n",
      "22/22 [==============================] - 2s 102ms/step - loss: 0.0753 - acc: 0.9779 - precision: 0.9807 - recall: 0.9721 - val_loss: 0.7139 - val_acc: 0.9176 - val_precision: 0.9231 - val_recall: 0.9176\n",
      "Epoch 8/30\n",
      "22/22 [==============================] - 2s 102ms/step - loss: 0.0754 - acc: 0.9809 - precision: 0.9838 - recall: 0.9794 - val_loss: 0.7340 - val_acc: 0.8882 - val_precision: 0.8882 - val_recall: 0.8882\n",
      "Epoch 9/30\n",
      "22/22 [==============================] - 2s 102ms/step - loss: 0.0762 - acc: 0.9765 - precision: 0.9793 - recall: 0.9735 - val_loss: 0.5105 - val_acc: 0.9412 - val_precision: 0.9408 - val_recall: 0.9353\n",
      "Epoch 10/30\n",
      "22/22 [==============================] - 2s 106ms/step - loss: 0.0186 - acc: 0.9941 - precision: 0.9941 - recall: 0.9941 - val_loss: 0.7037 - val_acc: 0.9294 - val_precision: 0.9294 - val_recall: 0.9294\n",
      "Epoch 11/30\n",
      "22/22 [==============================] - 2s 102ms/step - loss: 0.0108 - acc: 0.9956 - precision: 0.9956 - recall: 0.9956 - val_loss: 0.8406 - val_acc: 0.9471 - val_precision: 0.9471 - val_recall: 0.9471\n",
      "Epoch 12/30\n",
      "22/22 [==============================] - 2s 107ms/step - loss: 0.0040 - acc: 0.9985 - precision: 0.9985 - recall: 0.9985 - val_loss: 0.9029 - val_acc: 0.9353 - val_precision: 0.9349 - val_recall: 0.9294\n",
      "Epoch 13/30\n",
      "22/22 [==============================] - 2s 101ms/step - loss: 0.0018 - acc: 1.0000 - precision: 1.0000 - recall: 1.0000 - val_loss: 0.9529 - val_acc: 0.9353 - val_precision: 0.9353 - val_recall: 0.9353\n",
      "Epoch 14/30\n",
      "22/22 [==============================] - 2s 101ms/step - loss: 8.5004e-04 - acc: 1.0000 - precision: 1.0000 - recall: 1.0000 - val_loss: 0.8963 - val_acc: 0.9353 - val_precision: 0.9353 - val_recall: 0.9353\n",
      "Epoch 15/30\n",
      "22/22 [==============================] - 2s 107ms/step - loss: 5.2734e-04 - acc: 1.0000 - precision: 1.0000 - recall: 1.0000 - val_loss: 0.9138 - val_acc: 0.9294 - val_precision: 0.9294 - val_recall: 0.9294\n",
      "Epoch 16/30\n",
      "22/22 [==============================] - 2s 103ms/step - loss: 2.7346e-04 - acc: 1.0000 - precision: 1.0000 - recall: 1.0000 - val_loss: 0.9407 - val_acc: 0.9353 - val_precision: 0.9353 - val_recall: 0.9353\n",
      "6/6 [==============================] - 0s 24ms/step - loss: 0.5105 - acc: 0.9412 - precision: 0.9408 - recall: 0.9353\n"
     ]
    }
   ],
   "source": [
    "# for i in range(1, 5):\n",
    "callback = tf.keras.callbacks.EarlyStopping(monitor='val_loss', patience=7, restore_best_weights=True)\n",
    "asd = model.fit(X_train, y_train, epochs=30, validation_data=(X_val, y_val), verbose=1, callbacks=callback)\n",
    "tr_scr = model.evaluate(X_train, y_train, verbose=0)\n",
    "score = model.evaluate(X_val, y_val, verbose=1)"
   ]
  },
  {
   "cell_type": "code",
   "execution_count": 25,
   "id": "a89f1889",
   "metadata": {
    "execution": {
     "iopub.execute_input": "2022-04-15T10:26:56.495187Z",
     "iopub.status.busy": "2022-04-15T10:26:56.494520Z",
     "iopub.status.idle": "2022-04-15T10:26:56.497507Z",
     "shell.execute_reply": "2022-04-15T10:26:56.498146Z",
     "shell.execute_reply.started": "2022-04-15T10:23:23.129194Z"
    },
    "papermill": {
     "duration": 0.183123,
     "end_time": "2022-04-15T10:26:56.498310",
     "exception": false,
     "start_time": "2022-04-15T10:26:56.315187",
     "status": "completed"
    },
    "tags": []
   },
   "outputs": [],
   "source": [
    "# asd.history"
   ]
  },
  {
   "cell_type": "markdown",
   "id": "9b6eb863",
   "metadata": {
    "papermill": {
     "duration": 0.17013,
     "end_time": "2022-04-15T10:26:56.839566",
     "exception": false,
     "start_time": "2022-04-15T10:26:56.669436",
     "status": "completed"
    },
    "tags": []
   },
   "source": [
    "# Evaluation"
   ]
  },
  {
   "cell_type": "code",
   "execution_count": 26,
   "id": "cf4c1c89",
   "metadata": {
    "execution": {
     "iopub.execute_input": "2022-04-15T10:26:57.193976Z",
     "iopub.status.busy": "2022-04-15T10:26:57.193016Z",
     "iopub.status.idle": "2022-04-15T10:26:57.196495Z",
     "shell.execute_reply": "2022-04-15T10:26:57.195972Z",
     "shell.execute_reply.started": "2022-04-15T10:23:23.135961Z"
    },
    "papermill": {
     "duration": 0.183184,
     "end_time": "2022-04-15T10:26:57.196648",
     "exception": false,
     "start_time": "2022-04-15T10:26:57.013464",
     "status": "completed"
    },
    "tags": []
   },
   "outputs": [],
   "source": [
    "val_recall = asd.history[\"val_recall\"]\n",
    "val_precision = asd.history['val_precision']\n",
    "val_acc = asd.history['val_acc']\n",
    "val_loss = asd.history['val_loss']"
   ]
  },
  {
   "cell_type": "code",
   "execution_count": 27,
   "id": "bde3d08d",
   "metadata": {
    "execution": {
     "iopub.execute_input": "2022-04-15T10:26:57.550114Z",
     "iopub.status.busy": "2022-04-15T10:26:57.549395Z",
     "iopub.status.idle": "2022-04-15T10:26:57.550962Z",
     "shell.execute_reply": "2022-04-15T10:26:57.551400Z",
     "shell.execute_reply.started": "2022-04-15T10:23:23.147671Z"
    },
    "papermill": {
     "duration": 0.180768,
     "end_time": "2022-04-15T10:26:57.551593",
     "exception": false,
     "start_time": "2022-04-15T10:26:57.370825",
     "status": "completed"
    },
    "tags": []
   },
   "outputs": [],
   "source": [
    "acc_tr = asd.history['acc']\n",
    "loss_tr = asd.history['loss']"
   ]
  },
  {
   "cell_type": "code",
   "execution_count": 28,
   "id": "210c1c7f",
   "metadata": {
    "execution": {
     "iopub.execute_input": "2022-04-15T10:26:57.900869Z",
     "iopub.status.busy": "2022-04-15T10:26:57.900156Z",
     "iopub.status.idle": "2022-04-15T10:26:58.214218Z",
     "shell.execute_reply": "2022-04-15T10:26:58.213601Z",
     "shell.execute_reply.started": "2022-04-15T10:23:23.163844Z"
    },
    "papermill": {
     "duration": 0.490103,
     "end_time": "2022-04-15T10:26:58.214421",
     "exception": false,
     "start_time": "2022-04-15T10:26:57.724318",
     "status": "completed"
    },
    "tags": []
   },
   "outputs": [
    {
     "data": {
      "image/png": "[encoded data removed]",
      "text/plain": [
       "<Figure size 576x504 with 1 Axes>"
      ]
     },
     "metadata": {
      "needs_background": "light"
     },
     "output_type": "display_data"
    }
   ],
   "source": [
    "plt.figure(figsize=(8,7))\n",
    "plt.rc(\"font\", size=15)\n",
    "plt.plot(range(1,len(acc_tr)+1), acc_tr, label=\"Training Accuracy\")\n",
    "plt.plot(range(1,len(acc_tr)+1), val_acc, label=\"Validation Accuracy\")\n",
    "# plt.xlim([0,31])\n",
    "plt.xlabel(\"Epochs\")\n",
    "plt.ylabel(\"Accuracy\")\n",
    "plt.legend()\n",
    "plt.savefig(\"Accuracy_vs_epochs\")\n",
    "plt.show()"
   ]
  },
  {
   "cell_type": "code",
   "execution_count": 29,
   "id": "a110c15a",
   "metadata": {
    "execution": {
     "iopub.execute_input": "2022-04-15T10:26:58.599423Z",
     "iopub.status.busy": "2022-04-15T10:26:58.591719Z",
     "iopub.status.idle": "2022-04-15T10:26:59.140094Z",
     "shell.execute_reply": "2022-04-15T10:26:59.139395Z",
     "shell.execute_reply.started": "2022-04-15T10:23:23.474737Z"
    },
    "papermill": {
     "duration": 0.750709,
     "end_time": "2022-04-15T10:26:59.140259",
     "exception": false,
     "start_time": "2022-04-15T10:26:58.389550",
     "status": "completed"
    },
    "tags": []
   },
   "outputs": [
    {
     "data": {
      "image/png": "[encoded data removed]",
      "text/plain": [
       "<Figure size 576x504 with 1 Axes>"
      ]
     },
     "metadata": {
      "needs_background": "light"
     },
     "output_type": "display_data"
    }
   ],
   "source": [
    "plt.figure(figsize=(8,7))\n",
    "plt.rc(\"font\", size=15)\n",
    "plt.plot(range(1,len(loss_tr)+1), loss_tr, label=\"Training Loss\")\n",
    "plt.plot(range(1,len(loss_tr)+1), val_loss, label=\"Validation Loss\")\n",
    "# plt.xlim([0,31])\n",
    "plt.xlabel(\"Epochs\")\n",
    "plt.ylabel(\"Loss\")\n",
    "plt.legend()\n",
    "plt.savefig(\"Loss_vs_epochs.eps\")\n",
    "plt.show()"
   ]
  },
  {
   "cell_type": "markdown",
   "id": "62746301",
   "metadata": {
    "papermill": {
     "duration": 0.176799,
     "end_time": "2022-04-15T10:26:59.493919",
     "exception": false,
     "start_time": "2022-04-15T10:26:59.317120",
     "status": "completed"
    },
    "tags": []
   },
   "source": [
    "## Test set evaluation"
   ]
  },
  {
   "cell_type": "code",
   "execution_count": 30,
   "id": "292fc016",
   "metadata": {
    "execution": {
     "iopub.execute_input": "2022-04-15T10:26:59.849030Z",
     "iopub.status.busy": "2022-04-15T10:26:59.848273Z",
     "iopub.status.idle": "2022-04-15T10:27:00.038287Z",
     "shell.execute_reply": "2022-04-15T10:27:00.037273Z",
     "shell.execute_reply.started": "2022-04-15T10:23:24.037800Z"
    },
    "papermill": {
     "duration": 0.369936,
     "end_time": "2022-04-15T10:27:00.038453",
     "exception": false,
     "start_time": "2022-04-15T10:26:59.668517",
     "status": "completed"
    },
    "tags": []
   },
   "outputs": [
    {
     "name": "stdout",
     "output_type": "stream",
     "text": [
      "5/5 [==============================] - 0s 25ms/step - loss: 0.8025 - acc: 0.9467 - precision: 0.9467 - recall: 0.9467\n",
      "[0.8025168776512146, 0.9466666579246521, 0.9466666579246521, 0.9466666579246521]\n"
     ]
    }
   ],
   "source": [
    "test_score = model.evaluate(X_test, y_test, verbose=1)\n",
    "print(test_score)"
   ]
  }
 ],
 "metadata": {
  "kernelspec": {
   "display_name": "Python 3",
   "language": "python",
   "name": "python3"
  },
  "language_info": {
   "codemirror_mode": {
    "name": "ipython",
    "version": 3
   },
   "file_extension": ".py",
   "mimetype": "text/x-python",
   "name": "python",
   "nbconvert_exporter": "python",
   "pygments_lexer": "ipython3",
   "version": "3.7.12"
  },
  "papermill": {
   "default_parameters": {},
   "duration": 76.967625,
   "end_time": "2022-04-15T10:27:03.458995",
   "environment_variables": {},
   "exception": null,
   "input_path": "__notebook__.ipynb",
   "output_path": "__notebook__.ipynb",
   "parameters": {},
   "start_time": "2022-04-15T10:25:46.491370",
   "version": "2.3.3"
  }
 },
 "nbformat": 4,
 "nbformat_minor": 5
}
